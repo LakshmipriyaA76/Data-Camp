{
 "cells": [
  {
   "cell_type": "markdown",
   "id": "bf9937fd-5f74-4c63-9574-5149ca314846",
   "metadata": {
    "tags": []
   },
   "source": [
    "##  Statistical Thinking in Python (Part 2)"
   ]
  },
  {
   "cell_type": "markdown",
   "id": "bfac2f03-39fa-401f-88cc-48f6bb52b70b",
   "metadata": {},
   "source": [
    "### How often do we get no-hitters?"
   ]
  },
  {
   "cell_type": "code",
   "execution_count": null,
   "id": "2d9be065-1e6a-4205-82d2-7398f56beaaf",
   "metadata": {},
   "outputs": [],
   "source": [
    "# Seed random number generator\n",
    "np.random.seed(42)\n",
    "\n",
    "# Compute mean no-hitter time: tau\n",
    "tau = np.mean(nohitter_times)\n",
    "\n",
    "# Draw out of an exponential distribution with parameter tau: inter_nohitter_time\n",
    "inter_nohitter_time = np.random.exponential(tau, 100000)\n",
    "\n",
    "# Plot the PDF and label axes\n",
    "_ = plt.hist(inter_nohitter_time,\n",
    "             bins=50, normed=True, histtype='step')\n",
    "_ = plt.xlabel('Games between no-hitters')\n",
    "_ = plt.ylabel('PDF')\n",
    "\n",
    "# Show the plot\n",
    "plt.show()\n"
   ]
  },
  {
   "cell_type": "markdown",
   "id": "4a69a9f8-af51-4712-aaa5-fbd3d17c472c",
   "metadata": {},
   "source": [
    "### Do the data follow our story?"
   ]
  },
  {
   "cell_type": "code",
   "execution_count": null,
   "id": "5eff98f6-f50f-40cd-b2d1-dc99302b246d",
   "metadata": {},
   "outputs": [],
   "source": [
    "# Create an ECDF from real data: x, y\n",
    "x, y = ecdf(nohitter_times)\n",
    "\n",
    "# Create a CDF from theoretical samples: x_theor, y_theor\n",
    "x_theor, y_theor = ecdf(inter_nohitter_time)\n",
    "\n",
    "# Overlay the plots\n",
    "plt.plot(x_theor, y_theor)\n",
    "plt.plot(x, y, marker='.', linestyle='none')\n",
    "\n",
    "# Margins and axis labels\n",
    "plt.margins(0.02)\n",
    "plt.xlabel('Games between no-hitters')\n",
    "plt.ylabel('CDF')\n",
    "\n",
    "# Show the plot\n",
    "plt.show()"
   ]
  },
  {
   "cell_type": "markdown",
   "id": "4b52ba10-ecce-4275-a9fe-d2121ab30f13",
   "metadata": {},
   "source": [
    "### How is this parameter optimal?"
   ]
  },
  {
   "cell_type": "code",
   "execution_count": null,
   "id": "6bc06b1f-1a16-4d76-ad2a-52042a7ef118",
   "metadata": {},
   "outputs": [],
   "source": [
    "# Plot the theoretical CDFs\n",
    "plt.plot(x_theor, y_theor)\n",
    "plt.plot(x, y, marker='.', linestyle='none')\n",
    "plt.margins(0.02)\n",
    "plt.xlabel('Games between no-hitters')\n",
    "plt.ylabel('CDF')\n",
    "\n",
    "# Take samples with half tau: samples_half\n",
    "samples_half = np.random.exponential(tau/2, 10000)\n",
    "\n",
    "# Take samples with double tau: samples_double\n",
    "samples_double = np.random.exponential(2*tau, 10000)\n",
    "\n",
    "# Generate CDFs from these samples\n",
    "x_half, y_half = ecdf(samples_half)\n",
    "x_double, y_double = ecdf(samples_double)\n",
    "\n",
    "# Plot these CDFs as lines\n",
    "_ = plt.plot(x_half, y_half)\n",
    "_ = plt.plot(x_double, y_double)\n",
    "\n",
    "# Show the plot\n",
    "plt.show()"
   ]
  },
  {
   "cell_type": "markdown",
   "id": "22af6d1b-2ffe-4f8d-922c-7aea7be94680",
   "metadata": {},
   "source": [
    "### EDA of literacy/fertility data"
   ]
  },
  {
   "cell_type": "code",
   "execution_count": null,
   "id": "700394c5-8fee-4e7f-99b4-1ef1517faf2b",
   "metadata": {},
   "outputs": [],
   "source": [
    "# Plot the illiteracy rate versus fertility\n",
    "_ = plt.plot(illiteracy, fertility, marker='.', linestyle='none')\n",
    "\n",
    "# Set the margins and label axes\n",
    "plt.margins(0.02)\n",
    "_ = plt.xlabel('percent illiterate')\n",
    "_ = plt.ylabel('fertility')\n",
    "\n",
    "# Show the plot\n",
    "plt.show()\n",
    "\n",
    "# Show the Pearson correlation coefficient\n",
    "print(pearson_r(illiteracy, fertility))\n"
   ]
  },
  {
   "cell_type": "markdown",
   "id": "7e844aab-3492-4454-928f-c578284c1a8d",
   "metadata": {},
   "source": [
    "### Linear regression"
   ]
  },
  {
   "cell_type": "code",
   "execution_count": null,
   "id": "369cd387-d3eb-4b92-a627-bcde6de31a55",
   "metadata": {},
   "outputs": [],
   "source": [
    "# Plot the illiteracy rate versus fertility\n",
    "_ = plt.plot(illiteracy, fertility, marker='.', linestyle='none')\n",
    "plt.margins(0.02)\n",
    "_ = plt.xlabel('percent illiterate')\n",
    "_ = plt.ylabel('fertility')\n",
    "\n",
    "# Perform a linear regression using np.polyfit(): a, b\n",
    "a, b = np.polyfit(illiteracy,fertility,1)\n",
    "\n",
    "# Print the results to the screen\n",
    "print('slope =', a, 'children per woman / percent illiterate')\n",
    "print('intercept =', b, 'children per woman')\n",
    "\n",
    "# Make theoretical line to plot\n",
    "x = np.array([0, 100])\n",
    "y = a * x + b\n",
    "\n",
    "# Add regression line to your plot\n",
    "_ = plt.plot(x, y)\n",
    "\n",
    "# Draw the plot\n",
    "plt.show()\n"
   ]
  },
  {
   "cell_type": "markdown",
   "id": "568e1d3a-0f88-4fb9-b69a-196806d47684",
   "metadata": {},
   "source": [
    "### How is it optimal?"
   ]
  },
  {
   "cell_type": "code",
   "execution_count": null,
   "id": "de78d7b2-531c-4890-83ac-707d4aaf6029",
   "metadata": {},
   "outputs": [],
   "source": [
    "# Specify slopes to consider: a_vals\n",
    "a_vals = np.linspace(0, 0.1, 200)\n",
    "\n",
    "# Initialize sum of square of residuals: rss\n",
    "rss = np.empty_like(a_vals)\n",
    "\n",
    "# Compute sum of square of residuals for each value of a_vals\n",
    "for i, a in enumerate(a_vals):\n",
    "    rss[i] = np.sum((fertility - a * illiteracy - b)**2)\n",
    "\n",
    "# Plot the RSS\n",
    "plt.plot(a_vals, rss, '-')\n",
    "plt.xlabel('slope (children per woman / percent illiterate)')\n",
    "plt.ylabel('sum of square of residuals')\n",
    "\n",
    "plt.show()"
   ]
  },
  {
   "cell_type": "markdown",
   "id": "7da7792a-1e2a-4c2a-a476-225bb67a9fc8",
   "metadata": {},
   "source": [
    "### Linear regression on appropriate Anscombe data"
   ]
  },
  {
   "cell_type": "code",
   "execution_count": null,
   "id": "003c2d50-c3f1-4c45-854b-5a2bc3f66205",
   "metadata": {},
   "outputs": [],
   "source": [
    "# Perform linear regression: a, b\n",
    "a, b = np.polyfit(x, y, 1)\n",
    "\n",
    "# Print the slope and intercept\n",
    "print(a,b)\n",
    "\n",
    "# Generate theoretical x and y data: x_theor, y_theor\n",
    "x_theor = np.array([3, 15])\n",
    "y_theor = a * x_theor + b\n",
    "\n",
    "# Plot the Anscombe data and theoretical line\n",
    "_ = plt.plot(x, y, marker='.',linestyle='none')\n",
    "_ = plt.plot(x_theor, y_theor)\n",
    "\n",
    "# Label the axes\n",
    "plt.xlabel('x')\n",
    "plt.ylabel('y')\n",
    "\n",
    "# Show the plot\n",
    "plt.show()\n"
   ]
  },
  {
   "cell_type": "markdown",
   "id": "28b6ed1d-1593-4c17-9bbb-585a83646ad0",
   "metadata": {},
   "source": [
    "### Linear regression on all Anscombe data"
   ]
  },
  {
   "cell_type": "code",
   "execution_count": null,
   "id": "393ce709-dc41-47b6-90e7-d4c088447b22",
   "metadata": {},
   "outputs": [],
   "source": [
    "# Iterate through x,y pairs\n",
    "for x, y in zip(anscombe_x, anscombe_y):\n",
    "    # Compute the slope and intercept: a, b\n",
    "    a, b = np.polyfit(x, y, 1)\n",
    "\n",
    "    # Print the result\n",
    "    print('slope:', a, 'intercept:', b)"
   ]
  },
  {
   "cell_type": "markdown",
   "id": "b7d6e335-a3a5-4d75-b7bc-8eb569bddd3f",
   "metadata": {},
   "source": [
    "### Visualizing bootstrap samples"
   ]
  },
  {
   "cell_type": "code",
   "execution_count": null,
   "id": "b71dafed-76c2-46c2-bc5b-747b2e38d8ad",
   "metadata": {},
   "outputs": [],
   "source": [
    "# Write a for loop to acquire 50 bootstrap samples of the rainfall data and plot their ECDF\n",
    "for _ in range(50):\n",
    "    # Generate bootstrap sample: bs_sample\n",
    "    bs_sample = np.random.choice(rainfall, size=len(rainfall))\n",
    "\n",
    "    # Compute and plot ECDF from bootstrap sample\n",
    "    x, y = ecdf(bs_sample)\n",
    "    _ = plt.plot(x, y, marker='.', linestyle='none', color='gray', alpha=0.1)\n",
    "\n",
    "# Compute and plot ECDF from original data\n",
    "x, y = ecdf(rainfall)\n",
    "_ = plt.plot(x, y, marker='.', linestyle='none')\n",
    "\n",
    "# Make margins and label axes\n",
    "plt.margins(0.02)\n",
    "_ = plt.xlabel('yearly rainfall (mm)')\n",
    "_ = plt.ylabel('ECDF')\n",
    "\n",
    "# Show the plot\n",
    "plt.show()"
   ]
  },
  {
   "cell_type": "markdown",
   "id": "9a8a9056-6f47-48d1-a565-abb781b43599",
   "metadata": {},
   "source": [
    "### Generating many bootstrap replicates"
   ]
  },
  {
   "cell_type": "code",
   "execution_count": null,
   "id": "e86cd1ed-2083-4af0-8bbd-4d6ada13d20a",
   "metadata": {},
   "outputs": [],
   "source": [
    "def draw_bs_reps(data, func, size=1):\n",
    "    \"\"\"Draw bootstrap replicates.\"\"\"\n",
    "\n",
    "    # Initialize array of replicates: bs_replicates\n",
    "    bs_replicates = np.empty(size)\n",
    "\n",
    "    # Generate replicates\n",
    "    for i in range(size):\n",
    "        bs_replicates[i] = bootstrap_replicate_1d(data, func)\n",
    "\n",
    "    return bs_replicates"
   ]
  },
  {
   "cell_type": "markdown",
   "id": "b2db496c-8e8a-4598-acf4-c33d88c436f0",
   "metadata": {},
   "source": [
    "### Bootstrap replicates of the mean and the SEM"
   ]
  },
  {
   "cell_type": "code",
   "execution_count": null,
   "id": "6743cf3d-7485-4b3c-8cc0-31fb7b2b42ed",
   "metadata": {},
   "outputs": [],
   "source": [
    "# Draw 10,000 bootstrap replicates of the mean annual rainfall\n",
    "bs_replicates = draw_bs_reps(rainfall, np.mean, size=10000)\n",
    "\n",
    "# Compute and print the standard error of the mean of rainfall\n",
    "sem = np.std(rainfall) / np.sqrt(len(rainfall))\n",
    "print(\"Standard Error of the Mean:\", sem)\n",
    "\n",
    "# Compute and print the standard deviation of bootstrap replicates\n",
    "bs_std = np.std(bs_replicates)\n",
    "print(\"Standard Deviation of Bootstrap Replicates:\", bs_std)\n",
    "\n",
    "# Make a histogram of the replicates\n",
    "_ = plt.hist(bs_replicates, bins=50, normed=True, edgecolor='black', alpha=0.7)\n",
    "_ = plt.xlabel('Mean Annual Rainfall (mm)')\n",
    "_ = plt.ylabel('PDF')\n",
    "\n",
    "# Show the plot\n",
    "plt.show()\n"
   ]
  },
  {
   "cell_type": "markdown",
   "id": "4ee32dd2-1c3b-4aa9-b843-d825c362c459",
   "metadata": {},
   "source": [
    "### Bootstrap replicates of other statistics"
   ]
  },
  {
   "cell_type": "code",
   "execution_count": null,
   "id": "ccdc1ec2-cbe7-4d47-8b4d-c7470b67769d",
   "metadata": {},
   "outputs": [],
   "source": [
    "# Generate 10,000 bootstrap replicates of the variance: bs_replicates\n",
    "bs_replicates = draw_bs_reps(rainfall, np.var, size=10000)\n",
    "\n",
    "# Put the variance in units of square centimeters\n",
    "bs_replicates /= 100\n",
    "\n",
    "# Make a histogram of the results\n",
    "_ = plt.hist(bs_replicates, bins=50, normed=True, edgecolor='black', alpha=0.7)\n",
    "_ = plt.xlabel('variance of annual rainfall (sq. cm)')\n",
    "_ = plt.ylabel('PDF')\n",
    "\n",
    "# Show the plot\n",
    "plt.show()"
   ]
  },
  {
   "cell_type": "markdown",
   "id": "430e355e-8871-4f58-b5b8-7f5ac096381f",
   "metadata": {},
   "source": [
    "### Confidence interval on the rate of no-hitters"
   ]
  },
  {
   "cell_type": "code",
   "execution_count": null,
   "id": "05b809e1-5c81-4fbf-b33b-b35e525abf45",
   "metadata": {},
   "outputs": [],
   "source": [
    "# Draw bootstrap replicates of the mean no-hitter time (equal to tau): bs_replicates\n",
    "bs_replicates = draw_bs_reps(nohitter_times,np.mean,10000)\n",
    "\n",
    "# Compute the 95% confidence interval: conf_int\n",
    "conf_int = np.percentile(bs_replicates, [2.5, 97.5])\n",
    "\n",
    "# Print the confidence interval\n",
    "print('95% confidence interval =', conf_int, 'games')\n",
    "\n",
    "# Plot the histogram of the replicates\n",
    "_ = plt.hist(bs_replicates, bins=50, normed=True)\n",
    "_ = plt.xlabel(r'$\\tau$ (games)')\n",
    "_ = plt.ylabel('PDF')\n",
    "\n",
    "# Show the plot\n",
    "plt.show()"
   ]
  },
  {
   "cell_type": "markdown",
   "id": "ebac68b7-41ab-4416-8f7a-476224055cb3",
   "metadata": {},
   "source": [
    "### A function to do pairs bootstrap"
   ]
  },
  {
   "cell_type": "code",
   "execution_count": null,
   "id": "0256876e-7e70-4f02-88f6-27a20e6412e7",
   "metadata": {},
   "outputs": [],
   "source": [
    "def draw_bs_pairs_linreg(x, y, size=1):\n",
    "    \"\"\"Perform pairs bootstrap for linear regression.\"\"\"\n",
    "\n",
    "    # Set up array of indices to sample from: inds\n",
    "    inds = np.arange(len(x))\n",
    "\n",
    "    # Initialize replicates: bs_slope_reps, bs_intercept_reps\n",
    "    bs_slope_reps = np.empty(size)\n",
    "    bs_intercept_reps = np.empty(size)\n",
    "\n",
    "    # Generate replicates\n",
    "    for i in range(size):\n",
    "        bs_inds = np.random.choice(inds, size=len(inds))\n",
    "        bs_x, bs_y = x[bs_inds], y[bs_inds]\n",
    "        bs_slope_reps[i], bs_intercept_reps[i] = np.polyfit(bs_x, bs_y, 1)\n",
    "\n",
    "    return bs_slope_reps, bs_intercept_reps"
   ]
  },
  {
   "cell_type": "markdown",
   "id": "7d0d9d2f-3a2b-4ec0-a292-25a847953766",
   "metadata": {},
   "source": [
    "### Pairs bootstrap of literacy/fertility data"
   ]
  },
  {
   "cell_type": "code",
   "execution_count": null,
   "id": "51def289-9f48-4b7c-abab-e677925def6f",
   "metadata": {},
   "outputs": [],
   "source": [
    "# Generate replicates of slope and intercept using pairs bootstrap\n",
    "bs_slope_reps, bs_intercept_reps = draw_bs_pairs_linreg(illiteracy, fertility, size=1000)\n",
    "\n",
    "# Compute and print 95% CI for slope\n",
    "print(np.percentile(bs_slope_reps, [2.5, 97.5]))\n",
    "\n",
    "# Plot the histogram\n",
    "_ = plt.hist(bs_slope_reps, bins=50, normed=True)\n",
    "_ = plt.xlabel('slope')\n",
    "_ = plt.ylabel('PDF')\n",
    "plt.show()"
   ]
  },
  {
   "cell_type": "markdown",
   "id": "6617c25c-124f-4e97-94b3-b22d40f0de2d",
   "metadata": {},
   "source": [
    "### Plotting bootstrap regressions"
   ]
  },
  {
   "cell_type": "code",
   "execution_count": null,
   "id": "37806c26-cf35-4aca-af18-2cce27d23f97",
   "metadata": {},
   "outputs": [],
   "source": [
    "# Generate array of x-values for bootstrap lines: x\n",
    "x = np.array([0, 100])\n",
    "\n",
    "# Plot the bootstrap lines\n",
    "for i in range(100):\n",
    "    _ = plt.plot(x, \n",
    "                 bs_slope_reps[i]*x + bs_intercept_reps[i],\n",
    "                 linewidth=0.5, alpha=0.2, color='red')\n",
    "\n",
    "# Plot the data\n",
    "_ = plt.plot(illiteracy, fertility, marker='.', linestyle='none')\n",
    "\n",
    "# Label axes, set the margins, and show the plot\n",
    "_ = plt.xlabel('illiteracy')\n",
    "_ = plt.ylabel('fertility')\n",
    "plt.margins(0.02)\n",
    "plt.show()"
   ]
  },
  {
   "cell_type": "markdown",
   "id": "8f46bc49-f35a-48a6-af1e-2247f2c74735",
   "metadata": {},
   "source": [
    "### Generating a permutation sample"
   ]
  },
  {
   "cell_type": "code",
   "execution_count": null,
   "id": "6046bc0b-0443-4c02-96e8-243c31fd13fa",
   "metadata": {},
   "outputs": [],
   "source": [
    "def permutation_sample(data1, data2):\n",
    "    \"\"\"Generate a permutation sample from two data sets.\"\"\"\n",
    "    \n",
    "    # Concatenate the data sets: data\n",
    "    data = np.concatenate((data1, data2))\n",
    "\n",
    "    # Permute the concatenated array: permuted_data\n",
    "    permuted_data = np.random.permutation(data)\n",
    "\n",
    "    # Split the permuted array into two: perm_sample_1, perm_sample_2\n",
    "    perm_sample_1 = permuted_data[:len(data1)]\n",
    "    perm_sample_2 = permuted_data[len(data1):]\n",
    "\n",
    "    return perm_sample_1, perm_sample_2\n"
   ]
  },
  {
   "cell_type": "markdown",
   "id": "e033057f-2a14-4c4c-bdd3-a3890742a301",
   "metadata": {},
   "source": [
    "### Visualizing permutation sampling"
   ]
  },
  {
   "cell_type": "code",
   "execution_count": null,
   "id": "d9185dc6-3025-461b-8295-31714b5d3e31",
   "metadata": {},
   "outputs": [],
   "source": [
    "for _ in range(50):\n",
    "    # Generate permutation samples\n",
    "    perm_sample_1, perm_sample_2 = permutation_sample(\n",
    "                                    rain_june, rain_november)\n",
    "\n",
    "    # Compute ECDFs\n",
    "    x_1, y_1 = ecdf(perm_sample_1)\n",
    "    x_2, y_2 = ecdf(perm_sample_2)\n",
    "\n",
    "    # Plot ECDFs of permutation sample\n",
    "    _ = plt.plot(x_1, y_1, marker='.', linestyle='none',\n",
    "                 color='red', alpha=0.02)\n",
    "    _ = plt.plot(x_2, y_2, marker='.', linestyle='none',\n",
    "                 color='blue', alpha=0.02)\n",
    "\n",
    "# Create and plot ECDFs from original data\n",
    "x_1, y_1 = ecdf(rain_june)\n",
    "x_2, y_2 = ecdf(rain_november)\n",
    "_ = plt.plot(x_1, y_1, marker='.', linestyle='none', color='red')\n",
    "_ = plt.plot(x_2, y_2, marker='.', linestyle='none', color='blue')\n",
    "\n",
    "# Label axes, set margin, and show plot\n",
    "plt.margins(0.02)\n",
    "_ = plt.xlabel('monthly rainfall (mm)')\n",
    "_ = plt.ylabel('ECDF')\n",
    "plt.show()"
   ]
  },
  {
   "cell_type": "markdown",
   "id": "bc23fd88-4400-4020-8907-1649831320ba",
   "metadata": {},
   "source": [
    "### Generating permutation replicates"
   ]
  },
  {
   "cell_type": "code",
   "execution_count": null,
   "id": "46ae5ff4-0eaa-472a-b271-50b9ac16b215",
   "metadata": {},
   "outputs": [],
   "source": [
    "def draw_perm_reps(data_1, data_2, func, size=1):\n",
    "    \"\"\"Generate multiple permutation replicates.\"\"\"\n",
    "    \n",
    "    # Initialize array of replicates: perm_replicates\n",
    "    perm_replicates = np.empty(size)\n",
    "\n",
    "    for i in range(size):\n",
    "        # Generate permutation sample\n",
    "        perm_sample_1, perm_sample_2 = permutation_sample(data_1, data_2)\n",
    "\n",
    "        # Compute the test statistic\n",
    "        perm_replicates[i] = func(perm_sample_1, perm_sample_2)\n",
    "\n",
    "    return perm_replicates\n"
   ]
  },
  {
   "cell_type": "markdown",
   "id": "29b26c68-1413-4108-b93b-47b8b054553c",
   "metadata": {},
   "source": [
    "### Look before you leap: EDA before hypothesis testing"
   ]
  },
  {
   "cell_type": "code",
   "execution_count": null,
   "id": "809ac6f4-1ccc-4cbc-aeb0-d080321136ff",
   "metadata": {},
   "outputs": [],
   "source": [
    "# Make bee swarm plot\n",
    "_ = sns.swarmplot(x='ID', y='impact_force', data=df)\n",
    "\n",
    "# Label axes\n",
    "_ = plt.xlabel('frog')\n",
    "_ = plt.ylabel('impact force (N)')\n",
    "\n",
    "# Show the plot\n",
    "plt.show()\n"
   ]
  },
  {
   "cell_type": "markdown",
   "id": "bb4ab414-1134-4052-bc1e-d34ecb3c5694",
   "metadata": {},
   "source": [
    "### Permutation test on frog data"
   ]
  },
  {
   "cell_type": "code",
   "execution_count": null,
   "id": "8e23f36d-7db8-43d0-bf38-19299c5cf123",
   "metadata": {},
   "outputs": [],
   "source": [
    "# Define the diff_of_means function\n",
    "def diff_of_means(data_1, data_2):\n",
    "    \"\"\"Difference in means of two arrays.\"\"\"\n",
    "    # The difference of means of data_1, data_2: diff\n",
    "    diff = np.mean(data_1) - np.mean(data_2)\n",
    "    return diff\n",
    "\n",
    "# Compute difference of mean impact force from experiment: empirical_diff_means\n",
    "empirical_diff_means = diff_of_means(force_a, force_b)\n",
    "\n",
    "# Draw 10,000 permutation replicates: perm_replicates\n",
    "perm_replicates = draw_perm_reps(force_a, force_b, diff_of_means, size=10000)\n",
    "\n",
    "# Compute p-value: p\n",
    "p = np.sum(perm_replicates >= empirical_diff_means) / len(perm_replicates)\n",
    "\n",
    "# Print the result\n",
    "print('p-value =', p)\n"
   ]
  },
  {
   "cell_type": "markdown",
   "id": "3df548e7-3afd-4f4a-a135-72c226700bbf",
   "metadata": {},
   "source": [
    "### A one-sample bootstrap hypothesis test"
   ]
  },
  {
   "cell_type": "code",
   "execution_count": null,
   "id": "6188ede7-2ad6-4c03-8047-e9c4faefe6e3",
   "metadata": {},
   "outputs": [],
   "source": [
    "# Make an array of translated impact forces: translated_force_b\n",
    "translated_force_b = force_b - np.mean(force_b) + 0.55\n",
    "\n",
    "# Take bootstrap replicates of Frog B's translated impact forces: bs_replicates\n",
    "bs_replicates = draw_bs_reps(translated_force_b, np.mean, 10000)\n",
    "\n",
    "# Compute fraction of replicates that are less than the observed Frog B force: p\n",
    "p = np.sum(bs_replicates <= np.mean(force_b)) / 10000\n",
    "\n",
    "# Print the p-value\n",
    "print('p =', p)\n"
   ]
  },
  {
   "cell_type": "markdown",
   "id": "25d57b0e-f495-4478-a4f9-e06cda5d30d0",
   "metadata": {},
   "source": [
    "### A two-sample bootstrap hypothesis test for difference of means"
   ]
  },
  {
   "cell_type": "code",
   "execution_count": null,
   "id": "31408a9a-300b-4e25-a41f-699a6658635e",
   "metadata": {},
   "outputs": [],
   "source": [
    "# Compute mean of all forces: mean_force\n",
    "mean_force = np.mean(forces_concat)\n",
    "\n",
    "# Generate shifted arrays\n",
    "force_a_shifted = force_a - np.mean(force_a) + mean_force\n",
    "force_b_shifted = force_b - np.mean(force_b) + mean_force\n",
    "\n",
    "# Compute 10,000 bootstrap replicates from shifted arrays\n",
    "bs_replicates_a = draw_bs_reps(force_a_shifted, np.mean, 10000)\n",
    "bs_replicates_b = draw_bs_reps(force_b_shifted, np.mean, 10000)\n",
    "\n",
    "# Get replicates of difference of means: bs_replicates\n",
    "bs_replicates = bs_replicates_a - bs_replicates_b\n",
    "\n",
    "# Compute and print p-value: p\n",
    "p = np.sum(bs_replicates >= empirical_diff_means) / len(bs_replicates)\n",
    "print('p-value =', p)"
   ]
  },
  {
   "cell_type": "markdown",
   "id": "6604c9c9-ee8d-4133-9c5e-9eb29a1826db",
   "metadata": {},
   "source": [
    "### The vote for the Civil Rights Act in 1964"
   ]
  },
  {
   "cell_type": "code",
   "execution_count": null,
   "id": "f8dda111-da8a-4a8e-9693-54394e8e0eaa",
   "metadata": {},
   "outputs": [],
   "source": [
    "# Construct arrays of data: dems, reps\n",
    "dems = np.array([True] * 153 + [False] * 91)\n",
    "reps = np.array([True] * 136 + [False] * 35)\n",
    "\n",
    "def frac_yea_dems(dems, reps):\n",
    "    \"\"\"Compute fraction of Democrat yea votes.\"\"\"\n",
    "    frac = np.sum(dems) / len(dems)\n",
    "    return frac\n",
    "\n",
    "# Acquire permutation samples: perm_replicates\n",
    "perm_replicates = draw_perm_reps(dems, reps, frac_yea_dems, 10000)\n",
    "\n",
    "# Compute and print p-value: p\n",
    "p = np.sum(perm_replicates <= 153/244) / len(perm_replicates)\n",
    "print('p-value =', p)\n"
   ]
  },
  {
   "cell_type": "markdown",
   "id": "ba7fc258-8138-4869-b010-16551e08304f",
   "metadata": {},
   "source": [
    "### A time-on-website analog"
   ]
  },
  {
   "cell_type": "code",
   "execution_count": null,
   "id": "2626ebb0-6c81-47d7-a212-3b6b9bc3bf74",
   "metadata": {},
   "outputs": [],
   "source": [
    "# Compute the observed difference in mean inter-no-hitter times: nht_diff_obs\n",
    "nht_diff_obs = diff_of_means(nht_dead, nht_live)\n",
    "\n",
    "# Acquire 10,000 permutation replicates of difference in mean no-hitter time: perm_replicates\n",
    "perm_replicates = draw_perm_reps(nht_dead, nht_live, diff_of_means, size=10000)\n",
    "\n",
    "# Compute and print the p-value: p\n",
    "p = np.sum(perm_replicates <= nht_diff_obs) / len(perm_replicates)\n",
    "print('p-val =', p)\n"
   ]
  },
  {
   "cell_type": "markdown",
   "id": "a177f4aa-daca-44de-b3f3-8a30bfa7df19",
   "metadata": {},
   "source": [
    "### Hypothesis test on Pearson correlation"
   ]
  },
  {
   "cell_type": "code",
   "execution_count": null,
   "id": "b421a210-fd73-44f5-90ab-58da1ac89c9f",
   "metadata": {},
   "outputs": [],
   "source": [
    "# Compute observed correlation: r_obs\n",
    "r_obs = pearson_r(illiteracy, fertility)\n",
    "\n",
    "# Initialize permutation replicates: perm_replicates\n",
    "perm_replicates = np.empty(10000)\n",
    "\n",
    "# Draw replicates\n",
    "for i in range(10000):\n",
    "    # Permute illiteracy measurments: illiteracy_permuted\n",
    "    illiteracy_permuted = np.random.permutation(illiteracy)\n",
    "\n",
    "    # Compute Pearson correlation\n",
    "    perm_replicates[i] = pearson_r(illiteracy_permuted, fertility)\n",
    "\n",
    "# Compute p-value: p\n",
    "p = np.sum(perm_replicates >= r_obs) / len(perm_replicates)\n",
    "print('p-val =', p)\n"
   ]
  },
  {
   "cell_type": "markdown",
   "id": "0e9964d0-d87f-40ec-9900-3a3c4a5815cb",
   "metadata": {},
   "source": [
    "### Do neonicotinoid insecticides have unintended consequences?"
   ]
  },
  {
   "cell_type": "code",
   "execution_count": null,
   "id": "ed53a065-440f-4ec4-b6e5-643c0920ffcb",
   "metadata": {},
   "outputs": [],
   "source": [
    "# Compute x,y values for ECDFs\n",
    "x_control, y_control = ecdf(control)\n",
    "x_treated, y_treated = ecdf(treated)\n",
    "\n",
    "# Plot the ECDFs\n",
    "plt.plot(x_control, y_control, marker='.', linestyle='none')\n",
    "plt.plot(x_treated, y_treated, marker='.', linestyle='none')\n",
    "\n",
    "# Set the margins\n",
    "plt.margins(0.02)\n",
    "\n",
    "# Add a legend\n",
    "plt.legend(('control', 'treated'), loc='lower right')\n",
    "\n",
    "# Label axes and show plot\n",
    "plt.xlabel('millions of alive sperm per mL')\n",
    "plt.ylabel('ECDF')\n",
    "plt.show()\n"
   ]
  },
  {
   "cell_type": "markdown",
   "id": "959df9ba-668c-4561-afd0-db62fd04b33d",
   "metadata": {},
   "source": [
    "### Bootstrap hypothesis test on bee sperm counts"
   ]
  },
  {
   "cell_type": "code",
   "execution_count": null,
   "id": "ad334da8-ff91-4e3e-8920-e8a2098d6799",
   "metadata": {},
   "outputs": [],
   "source": [
    "# Compute the difference in mean sperm count: diff_means\n",
    "diff_means = np.mean(control) - np.mean(treated)\n",
    "\n",
    "# Compute mean of pooled data: mean_count\n",
    "mean_count = np.mean(np.concatenate((control, treated)))\n",
    "\n",
    "# Generate shifted data sets\n",
    "control_shifted = control - np.mean(control) + mean_count\n",
    "treated_shifted = treated - np.mean(treated) + mean_count\n",
    "\n",
    "# Generate bootstrap replicates\n",
    "bs_reps_control = draw_bs_reps(control_shifted,\n",
    "                               np.mean, size=10000)\n",
    "bs_reps_treated = draw_bs_reps(treated_shifted,\n",
    "                               np.mean, size=10000)\n",
    "\n",
    "# Get replicates of difference of means: bs_replicates\n",
    "bs_replicates = bs_reps_control - bs_reps_treated\n",
    "\n",
    "# Compute and print p-value: p\n",
    "p = np.sum(bs_replicates >= np.mean(control) - np.mean(treated)) \\\n",
    "            / len(bs_replicates)\n",
    "print('p-value =', p)\n"
   ]
  },
  {
   "cell_type": "markdown",
   "id": "e2ebe090-95f1-4c1c-a708-2987aa540c1a",
   "metadata": {},
   "source": [
    "### EDA of beak depths of Darwin's finches"
   ]
  },
  {
   "cell_type": "code",
   "execution_count": null,
   "id": "694cabff-e634-48ff-8ffd-f27dfb0a1803",
   "metadata": {},
   "outputs": [],
   "source": [
    "# Create bee swarm plot\n",
    "_ = sns.swarmplot(x='year', y='beak_depth', data=df)\n",
    "\n",
    "# Label the axes\n",
    "_ = plt.xlabel('year')\n",
    "_ = plt.ylabel('beak depth (mm)')\n",
    "\n",
    "# Show the plot\n",
    "plt.show()"
   ]
  },
  {
   "cell_type": "markdown",
   "id": "94104a76-5540-4c1c-995e-85fc84841965",
   "metadata": {},
   "source": [
    "### ECDFs of beak depths"
   ]
  },
  {
   "cell_type": "code",
   "execution_count": null,
   "id": "10fce398-3138-41e0-bcec-625fb17f879c",
   "metadata": {},
   "outputs": [],
   "source": [
    "# Compute ECDFs\n",
    "x_1975, y_1975 = ecdf(bd_1975)\n",
    "x_2012, y_2012 = ecdf(bd_2012)\n",
    "\n",
    "# Plot the ECDFs\n",
    "_ = plt.plot(x_1975, y_1975, marker='.', linestyle='none')\n",
    "_ = plt.plot(x_2012, y_2012, marker='.', linestyle='none')\n",
    "\n",
    "# Set margins\n",
    "plt.margins(0.02)\n",
    "\n",
    "# Add axis labels and legend\n",
    "_ = plt.xlabel('beak depth (mm)')\n",
    "_ = plt.ylabel('ECDF')\n",
    "_ = plt.legend(('1975', '2012'), loc='lower right')\n",
    "\n",
    "# Show the plot\n",
    "plt.show()"
   ]
  },
  {
   "cell_type": "markdown",
   "id": "49e62156-051b-4f10-92b7-15945025d08c",
   "metadata": {},
   "source": [
    "### Parameter estimates of beak depths"
   ]
  },
  {
   "cell_type": "code",
   "execution_count": null,
   "id": "f1fa65cb-e09d-4052-a13e-2e2880367ce6",
   "metadata": {},
   "outputs": [],
   "source": [
    "# Compute the difference of the sample means: mean_diff\n",
    "mean_diff = np.mean(bd_2012) - np.mean(bd_1975)\n",
    "\n",
    "# Get bootstrap replicates of means\n",
    "bs_replicates_1975 = draw_bs_reps(bd_1975, np.mean, size=10000)\n",
    "bs_replicates_2012 = draw_bs_reps(bd_2012, np.mean, size=10000)\n",
    "\n",
    "# Compute samples of the difference of means: bs_diff_replicates\n",
    "bs_diff_replicates = bs_replicates_2012 - bs_replicates_1975\n",
    "\n",
    "# Compute 95% confidence interval: conf_int\n",
    "conf_int = np.percentile(bs_diff_replicates, [2.5, 97.5])\n",
    "\n",
    "# Print the results\n",
    "print('Difference of means =', mean_diff, 'mm')\n",
    "print('95% confidence interval =', conf_int, 'mm')\n"
   ]
  },
  {
   "cell_type": "markdown",
   "id": "2bc3f0f9-ab21-45b9-a8c6-c8b86d08cafd",
   "metadata": {},
   "source": [
    "### Hypothesis test: Are beaks deeper in 2012?"
   ]
  },
  {
   "cell_type": "code",
   "execution_count": null,
   "id": "259766eb-6380-48c5-beb4-afa920730db7",
   "metadata": {},
   "outputs": [],
   "source": [
    "# Compute mean of combined data set: combined_mean\n",
    "combined_mean = np.mean(np.concatenate((bd_1975, bd_2012)))\n",
    "\n",
    "# Shift the samples\n",
    "bd_1975_shifted = bd_1975 - np.mean(bd_1975) + combined_mean\n",
    "bd_2012_shifted = bd_2012 - np.mean(bd_2012) + combined_mean\n",
    "\n",
    "# Get bootstrap replicates of shifted data sets\n",
    "bs_replicates_1975 = draw_bs_reps(bd_1975_shifted, np.mean, size=10000)\n",
    "bs_replicates_2012 = draw_bs_reps(bd_2012_shifted, np.mean, size=10000)\n",
    "\n",
    "# Compute replicates of the difference of means: bs_diff_replicates\n",
    "bs_diff_replicates = bs_replicates_2012 - bs_replicates_1975\n",
    "\n",
    "# Compute the p-value\n",
    "p = np.sum(bs_diff_replicates >= mean_diff) / len(bs_diff_replicates)\n",
    "\n",
    "# Print p-value\n",
    "print('p =', p)"
   ]
  },
  {
   "cell_type": "markdown",
   "id": "8f105d33-e6bd-4c98-8f18-49b6bd0fce9f",
   "metadata": {},
   "source": [
    "### EDA of beak length and depth"
   ]
  },
  {
   "cell_type": "code",
   "execution_count": null,
   "id": "0646ca8e-659f-4a19-936d-4a491c41df65",
   "metadata": {},
   "outputs": [],
   "source": [
    "# Make scatter plot of 1975 data\n",
    "_ = plt.scatter(bl_1975, bd_1975, marker='.', linestyle='None', color='blue', alpha=0.5)\n",
    "\n",
    "# Make scatter plot of 2012 data\n",
    "_ = plt.scatter(bl_2012, bd_2012, marker='.', linestyle='None', color='red', alpha=0.5)\n",
    "\n",
    "# Label axes and make legend\n",
    "_ = plt.xlabel('beak length (mm)')\n",
    "_ = plt.ylabel('beak depth (mm)')\n",
    "_ = plt.legend(('1975', '2012'), loc='upper left')\n",
    "\n",
    "# Show the plot\n",
    "plt.show()\n"
   ]
  },
  {
   "cell_type": "markdown",
   "id": "41802d41-0992-419e-a18d-ce3e2449a592",
   "metadata": {},
   "source": [
    "### Linear regressions"
   ]
  },
  {
   "cell_type": "code",
   "execution_count": null,
   "id": "6752a3e3-b791-4664-8cb2-3bbf4719add0",
   "metadata": {},
   "outputs": [],
   "source": [
    "# Compute the linear regressions\n",
    "slope_1975, intercept_1975 = np.polyfit(bl_1975, bd_1975, 1)\n",
    "slope_2012, intercept_2012 = np.polyfit(bl_2012, bd_2012, 1)\n",
    "\n",
    "# Perform pairs bootstrap for the linear regressions\n",
    "bs_slope_reps_1975, bs_intercept_reps_1975 = draw_bs_pairs_linreg(bl_1975, bd_1975, size=1000)\n",
    "bs_slope_reps_2012, bs_intercept_reps_2012 = draw_bs_pairs_linreg(bl_2012, bd_2012, size=1000)\n",
    "\n",
    "# Compute confidence intervals of slopes\n",
    "slope_conf_int_1975 = np.percentile(bs_slope_reps_1975, [2.5, 97.5])\n",
    "slope_conf_int_2012 = np.percentile(bs_slope_reps_2012, [2.5, 97.5])\n",
    "\n",
    "# Compute confidence intervals of intercepts\n",
    "intercept_conf_int_1975 = np.percentile(bs_intercept_reps_1975, [2.5, 97.5])\n",
    "intercept_conf_int_2012 = np.percentile(bs_intercept_reps_2012, [2.5, 97.5])\n",
    "\n",
    "# Print the results\n",
    "print('1975: slope =', slope_1975, 'conf int =', slope_conf_int_1975)\n",
    "print('1975: intercept =', intercept_1975, 'conf int =', intercept_conf_int_1975)\n",
    "print('2012: slope =', slope_2012, 'conf int =', slope_conf_int_2012)\n",
    "print('2012: intercept =', intercept_2012, 'conf int =', intercept_conf_int_2012)\n"
   ]
  },
  {
   "cell_type": "markdown",
   "id": "1dbf813c-d932-407a-964d-857211ac3e12",
   "metadata": {},
   "source": [
    "### Displaying the linear regression results"
   ]
  },
  {
   "cell_type": "code",
   "execution_count": null,
   "id": "2fe38eae-8826-443c-b8aa-bc3be8a2009b",
   "metadata": {},
   "outputs": [],
   "source": [
    "# Make scatter plot of 1975 data\n",
    "_ = plt.plot(bl_1975, bd_1975, marker='.', linestyle='none', color='blue', alpha=0.5)\n",
    "\n",
    "# Make scatter plot of 2012 data\n",
    "_ = plt.plot(bl_2012, bd_2012, marker='.', linestyle='none', color='red', alpha=0.5)\n",
    "\n",
    "# Label axes and make legend\n",
    "_ = plt.xlabel('beak length (mm)')\n",
    "_ = plt.ylabel('beak depth (mm)')\n",
    "_ = plt.legend(('1975', '2012'), loc='upper left')\n",
    "\n",
    "# Generate x-values for bootstrap lines: x\n",
    "x = np.array([10, 17])\n",
    "\n",
    "# Plot the bootstrap lines\n",
    "for i in range(100):\n",
    "    plt.plot(x, bs_slope_reps_1975[i] * x + bs_intercept_reps_1975[i], linewidth=0.5, alpha=0.2, color='blue')\n",
    "    plt.plot(x, bs_slope_reps_2012[i] * x + bs_intercept_reps_2012[i], linewidth=0.5, alpha=0.2, color='red')\n",
    "\n",
    "# Draw the plot again\n",
    "plt.show()\n"
   ]
  },
  {
   "cell_type": "markdown",
   "id": "17558ece-5bcb-401b-ad8c-a75eecec8338",
   "metadata": {},
   "source": [
    "### Beak length to depth ratio"
   ]
  },
  {
   "cell_type": "code",
   "execution_count": null,
   "id": "f6017562-fcef-422b-89bd-db608accf8fe",
   "metadata": {},
   "outputs": [],
   "source": [
    "# Compute length-to-depth ratios\n",
    "ratio_1975 = bl_1975 / bd_1975\n",
    "ratio_2012 = bl_2012 / bd_2012\n",
    "\n",
    "# Compute means\n",
    "mean_ratio_1975 = np.mean(ratio_1975)\n",
    "mean_ratio_2012 = np.mean(ratio_2012)\n",
    "\n",
    "# Generate bootstrap replicates of the means\n",
    "bs_replicates_1975 = draw_bs_reps(ratio_1975, np.mean, size=10000)\n",
    "bs_replicates_2012 = draw_bs_reps(ratio_2012, np.mean, size=10000)\n",
    "\n",
    "# Compute the 99% confidence intervals\n",
    "conf_int_1975 = np.percentile(bs_replicates_1975, [0.5, 99.5])\n",
    "conf_int_2012 = np.percentile(bs_replicates_2012, [0.5, 99.5])\n",
    "\n",
    "# Print the results\n",
    "print('1975: mean ratio =', mean_ratio_1975, 'conf int =', conf_int_1975)\n",
    "print('2012: mean ratio =', mean_ratio_2012, 'conf int =', conf_int_2012)\n"
   ]
  },
  {
   "cell_type": "markdown",
   "id": "463fe2da-279e-4b88-af76-f6c91c424d1e",
   "metadata": {},
   "source": [
    "### EDA of heritability"
   ]
  },
  {
   "cell_type": "code",
   "execution_count": null,
   "id": "7b3787bc-1d16-4a01-9197-1f1c54b2502c",
   "metadata": {},
   "outputs": [],
   "source": [
    "# Make scatter plots using plt.plot()\n",
    "_ = plt.plot(bd_parent_fortis, bd_offspring_fortis, marker='.', linestyle='none', color='blue', alpha=0.5)\n",
    "_ = plt.plot(bd_parent_scandens, bd_offspring_scandens, marker='.', linestyle='none', color='red', alpha=0.5)\n",
    "\n",
    "# Label axes\n",
    "_ = plt.xlabel('parental beak depth (mm)')\n",
    "_ = plt.ylabel('offspring beak depth (mm)')\n",
    "\n",
    "# Add legend\n",
    "_ = plt.legend(('G. fortis', 'G. scandens'), loc='lower right')\n",
    "\n",
    "# Show plot\n",
    "plt.show()\n"
   ]
  },
  {
   "cell_type": "markdown",
   "id": "5a0625e6-f97b-4edd-9931-ef45c82d15d8",
   "metadata": {},
   "source": [
    "### Correlation of offspring and parental data"
   ]
  },
  {
   "cell_type": "code",
   "execution_count": null,
   "id": "a63d9520-3dc8-4987-9711-e114a56771c2",
   "metadata": {},
   "outputs": [],
   "source": [
    "def draw_bs_pairs(x, y, func, size=1):\n",
    "    \"\"\"Perform pairs bootstrap for a single statistic.\"\"\"\n",
    "    \n",
    "    # Set up array of indices to sample from: inds\n",
    "    inds = np.arange(len(x))\n",
    "    \n",
    "    # Initialize replicates: bs_replicates\n",
    "    bs_replicates = np.empty(size)\n",
    "    \n",
    "    # Generate replicates\n",
    "    for i in range(size):\n",
    "        bs_inds = np.random.choice(inds, len(inds))\n",
    "        bs_x, bs_y = x[bs_inds], y[bs_inds]\n",
    "        bs_replicates[i] = func(bs_x, bs_y)\n",
    "    \n",
    "    return bs_replicates"
   ]
  },
  {
   "cell_type": "markdown",
   "id": "8a44cc93-55f5-4430-9cdd-2d117954a07e",
   "metadata": {},
   "source": [
    "### Pearson correlation of offspring and parental data"
   ]
  },
  {
   "cell_type": "code",
   "execution_count": null,
   "id": "76b9014d-5a58-493e-830f-8a412cfde6c6",
   "metadata": {},
   "outputs": [],
   "source": [
    "# Compute the Pearson correlation coefficients\n",
    "r_scandens = pearson_r(bd_parent_scandens, bd_offspring_scandens)\n",
    "r_fortis = pearson_r(bd_parent_fortis, bd_offspring_fortis)\n",
    "\n",
    "# Acquire 1000 bootstrap replicates of Pearson r\n",
    "bs_replicates_scandens = draw_bs_pairs(bd_parent_scandens, bd_offspring_scandens, pearson_r, size=1000)\n",
    "bs_replicates_fortis = draw_bs_pairs(bd_parent_fortis, bd_offspring_fortis, pearson_r, size=1000)\n",
    "\n",
    "# Compute 95% confidence intervals\n",
    "conf_int_scandens = np.percentile(bs_replicates_scandens, [2.5, 97.5])\n",
    "conf_int_fortis = np.percentile(bs_replicates_fortis, [2.5, 97.5])\n",
    "\n",
    "# Print results\n",
    "print('G. scandens:', r_scandens, conf_int_scandens)\n",
    "print('G. fortis:', r_fortis, conf_int_fortis)\n"
   ]
  },
  {
   "cell_type": "markdown",
   "id": "f9b3c132-479b-41c3-af36-885484a0990e",
   "metadata": {},
   "source": [
    "### Measuring heritability"
   ]
  },
  {
   "cell_type": "code",
   "execution_count": null,
   "id": "29aabb29-fbfb-4907-b9bb-9fa967774f4b",
   "metadata": {},
   "outputs": [],
   "source": [
    "def heritability(parents, offspring):\n",
    "    \"\"\"Compute the heritability from parent and offspring samples.\"\"\"\n",
    "    covariance_matrix = np.cov(parents, offspring)\n",
    "    return covariance_matrix[0, 1] / covariance_matrix[0, 0]\n",
    "\n",
    "# Compute the heritability\n",
    "heritability_scandens = heritability(bd_parent_scandens, bd_offspring_scandens)\n",
    "heritability_fortis = heritability(bd_parent_fortis, bd_offspring_fortis)\n",
    "\n",
    "# Acquire 1000 bootstrap replicates of heritability\n",
    "replicates_scandens = draw_bs_pairs(bd_parent_scandens, bd_offspring_scandens, heritability, size=1000)\n",
    "replicates_fortis = draw_bs_pairs(bd_parent_fortis, bd_offspring_fortis, heritability, size=1000)\n",
    "\n",
    "# Compute 95% confidence intervals\n",
    "conf_int_scandens = np.percentile(replicates_scandens, [2.5, 97.5])\n",
    "conf_int_fortis = np.percentile(replicates_fortis, [2.5, 97.5])\n",
    "\n",
    "# Print results\n",
    "print('G. scandens:', heritability_scandens, conf_int_scandens)\n",
    "print('G. fortis:', heritability_fortis, conf_int_fortis)\n"
   ]
  },
  {
   "cell_type": "markdown",
   "id": "90069dc2-f691-444f-903d-a675c4017d40",
   "metadata": {},
   "source": [
    "### Is beak depth heritable at all in G. scandens?"
   ]
  },
  {
   "cell_type": "code",
   "execution_count": null,
   "id": "f8046dcf-9978-49ef-b6bc-e863df6a8ffd",
   "metadata": {},
   "outputs": [],
   "source": [
    "# Initialize array of replicates: perm_replicates\n",
    "perm_replicates = np.empty(10000)\n",
    "\n",
    "# Draw replicates\n",
    "for i in range(10000):\n",
    "    # Permute parent beak depths\n",
    "    bd_parent_permuted = np.random.permutation(bd_parent_scandens)\n",
    "    \n",
    "    # Compute heritability between permuted array and offspring array\n",
    "    perm_replicates[i] = heritability(bd_parent_permuted, bd_offspring_scandens)\n",
    "\n",
    "# Compute p-value: p\n",
    "p = np.sum(perm_replicates >= heritability_scandens) / len(perm_replicates)\n",
    "\n",
    "# Print the p-value\n",
    "print('p-val =', p)\n"
   ]
  }
 ],
 "metadata": {
  "kernelspec": {
   "display_name": "Python 3 (ipykernel)",
   "language": "python",
   "name": "python3"
  },
  "language_info": {
   "codemirror_mode": {
    "name": "ipython",
    "version": 3
   },
   "file_extension": ".py",
   "mimetype": "text/x-python",
   "name": "python",
   "nbconvert_exporter": "python",
   "pygments_lexer": "ipython3",
   "version": "3.11.5"
  }
 },
 "nbformat": 4,
 "nbformat_minor": 5
}
