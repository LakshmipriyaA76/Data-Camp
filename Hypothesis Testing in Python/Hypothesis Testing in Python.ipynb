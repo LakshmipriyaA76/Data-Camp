{
 "cells": [
  {
   "cell_type": "markdown",
   "id": "c7b51fd1-82af-42de-8740-015bd4cb0953",
   "metadata": {},
   "source": [
    "## Hypothesis Testing in Python"
   ]
  },
  {
   "cell_type": "markdown",
   "id": "f3c8e88c-8e64-4fb7-9888-4cbb1386994b",
   "metadata": {},
   "source": [
    "### Calculating the sample mean"
   ]
  },
  {
   "cell_type": "code",
   "execution_count": null,
   "id": "b1a6623f-dd84-4b28-bc52-42877140e328",
   "metadata": {},
   "outputs": [],
   "source": [
    "# Print the late_shipments dataset\n",
    "print(late_shipments)"
   ]
  },
  {
   "cell_type": "code",
   "execution_count": null,
   "id": "af0e0492-03a1-42bf-b5a5-02388083c5b5",
   "metadata": {},
   "outputs": [],
   "source": [
    "# Print the late_shipments dataset\n",
    "print(late_shipments)\n",
    "\n",
    "# Calculate the proportion of late shipments\n",
    "late_prop_samp = (late_shipments['late'] == 'Yes').mean()\n",
    "\n",
    "# Print the results\n",
    "print(late_prop_samp)\n"
   ]
  },
  {
   "cell_type": "markdown",
   "id": "b9102179-f0cd-4848-91af-2cd8d8a31a8b",
   "metadata": {},
   "source": [
    "## Calculating a z-score"
   ]
  },
  {
   "cell_type": "code",
   "execution_count": null,
   "id": "337ca2a4-bcb1-425b-ba6b-006b4be772c4",
   "metadata": {},
   "outputs": [],
   "source": [
    "# Hypothesize that the proportion is 6%\n",
    "late_prop_hyp = 0.06\n",
    "\n",
    "# Calculate the standard error\n",
    "std_error = np.std(late_shipments_boot_distn)\n",
    "\n",
    "# Find z-score of late_prop_samp\n",
    "z_score = (late_prop_samp - late_prop_hyp) / std_error\n",
    "\n",
    "# Print z_score\n",
    "print(z_score)"
   ]
  },
  {
   "cell_type": "markdown",
   "id": "1239c3d5-6633-40c7-9ab1-c19ebc2aa044",
   "metadata": {},
   "source": [
    "### Calculating p-values"
   ]
  },
  {
   "cell_type": "code",
   "execution_count": null,
   "id": "c73a7856-2b20-428c-b296-c146c3fbfb52",
   "metadata": {},
   "outputs": [],
   "source": [
    "# Calculate the z-score of late_prop_samp\n",
    "z_score = (late_prop_samp - late_prop_hyp) / std_error\n",
    "\n",
    "# Calculate the p-value for the z-score using a right-tailed test\n",
    "p_value = 1 - norm.cdf(z_score)\n",
    "\n",
    "# Print the p-value\n",
    "print(p_value)"
   ]
  },
  {
   "cell_type": "markdown",
   "id": "494f85c4-6daf-46a4-9b7f-f53aa283a597",
   "metadata": {
    "tags": []
   },
   "source": [
    "### Calculating a confidence interval"
   ]
  },
  {
   "cell_type": "code",
   "execution_count": null,
   "id": "4f010135-817e-4b30-85e1-f4ad4d7380ea",
   "metadata": {},
   "outputs": [],
   "source": [
    "# Calculate 95% confidence interval using quantile method\n",
    "lower = np.percentile(late_shipments_boot_distn, 2.5)\n",
    "upper = np.percentile(late_shipments_boot_distn, 97.5)\n",
    "\n",
    "# Print the confidence interval\n",
    "print((lower, upper))\n"
   ]
  },
  {
   "cell_type": "markdown",
   "id": "5f225cf5-71b1-4bd5-87e3-2fe80b642b65",
   "metadata": {},
   "source": [
    "### Two sample mean test statistic"
   ]
  },
  {
   "cell_type": "code",
   "execution_count": null,
   "id": "dec6cdb6-9817-4afd-a76a-7ee01106abe0",
   "metadata": {},
   "outputs": [],
   "source": [
    "# Calculate the numerator of the test statistic\n",
    "numerator = xbar_no - xbar_yes\n",
    "\n",
    "# Calculate the denominator of the test statistic\n",
    "denominator = np.sqrt((s_no**2 / n_no) + (s_yes**2 / n_yes))\n",
    "\n",
    "# Calculate the test statistic\n",
    "t_stat = numerator / denominator\n",
    "\n",
    "# Print the test statistic\n",
    "print(t_stat)\n"
   ]
  },
  {
   "cell_type": "markdown",
   "id": "6dbb2bf8-ba6e-46e2-bdf1-ce40ae59559c",
   "metadata": {},
   "source": [
    "### From t to p"
   ]
  },
  {
   "cell_type": "code",
   "execution_count": null,
   "id": "94e2fc89-7529-407f-875a-95d447f45669",
   "metadata": {},
   "outputs": [],
   "source": [
    "# Calculate the degrees of freedom\n",
    "degrees_of_freedom = n_no + n_yes - 2\n",
    "\n",
    "# Calculate the p-value from the test stat\n",
    "p_value = t.cdf(t_stat, degrees_of_freedom)\n",
    "\n",
    "# Print the p_value\n",
    "print(p_value)"
   ]
  },
  {
   "cell_type": "markdown",
   "id": "2dec20ee-15ae-4dd1-bcae-a8a3428369d9",
   "metadata": {},
   "source": [
    "### Visualizing the difference"
   ]
  },
  {
   "cell_type": "code",
   "execution_count": null,
   "id": "86d2029e-7b92-4b35-8a08-da6e5a934058",
   "metadata": {},
   "outputs": [],
   "source": [
    "# Calculate the differences from 2012 to 2016\n",
    "sample_dem_data['diff'] = sample_dem_data['dem_percent_12'] - sample_dem_data['dem_percent_16']\n",
    "\n",
    "# Find the mean of the 'diff' column\n",
    "xbar_diff = sample_dem_data['diff'].mean()\n",
    "\n",
    "# Print xbar_diff\n",
    "print(xbar_diff)\n"
   ]
  },
  {
   "cell_type": "code",
   "execution_count": null,
   "id": "00681bf3-3e52-408d-a5ee-7c039f3e436b",
   "metadata": {},
   "outputs": [],
   "source": [
    "# Calculate the differences from 2012 to 2016\n",
    "sample_dem_data['diff'] = sample_dem_data['dem_percent_12'] - sample_dem_data['dem_percent_16']\n",
    "\n",
    "# Find the mean of the 'diff' column\n",
    "xbar_diff = sample_dem_data['diff'].mean()\n",
    "\n",
    "# Print xbar_diff\n",
    "print(xbar_diff)\n"
   ]
  },
  {
   "cell_type": "code",
   "execution_count": null,
   "id": "b4b8d9ed-5549-4f84-b07a-5172414811da",
   "metadata": {},
   "outputs": [],
   "source": [
    "# Calculate the differences from 2012 to 2016\n",
    "sample_dem_data['diff'] = sample_dem_data['dem_percent_12'] - sample_dem_data['dem_percent_16']\n",
    "\n",
    "# Find the mean of the 'diff' column\n",
    "xbar_diff = sample_dem_data['diff'].mean()\n",
    "\n",
    "# Find the standard deviation of the 'diff' column\n",
    "s_diff = sample_dem_data['diff'].std()\n",
    "\n",
    "# Print s_diff\n",
    "print(s_diff)\n"
   ]
  },
  {
   "cell_type": "code",
   "execution_count": null,
   "id": "eb32bb68-5e2a-4a4c-9375-fe6f6c495de1",
   "metadata": {},
   "outputs": [],
   "source": [
    "# Calculate the differences from 2012 to 2016\n",
    "sample_dem_data['diff'] = sample_dem_data['dem_percent_12'] - sample_dem_data['dem_percent_16']\n",
    "\n",
    "# Find the mean of the 'diff' column\n",
    "xbar_diff = sample_dem_data['diff'].mean()\n",
    "\n",
    "# Find the standard deviation of the 'diff' column\n",
    "s_diff = sample_dem_data['diff'].std()\n",
    "\n",
    "# Plot a histogram of 'diff' with 20 bins\n",
    "sample_dem_data['diff'].hist(bins=20)\n",
    "\n",
    "# Show the plot\n",
    "plt.show()\n"
   ]
  },
  {
   "cell_type": "markdown",
   "id": "ac7b275b-5d9c-4c09-bb9b-b62259b5b6ab",
   "metadata": {},
   "source": [
    "### Using ttest()"
   ]
  },
  {
   "cell_type": "code",
   "execution_count": null,
   "id": "e481c863-d7ac-445f-8821-3ce31c3f1c74",
   "metadata": {},
   "outputs": [],
   "source": [
    "# Conduct a t-test on diff\n",
    "test_results = pingouin.ttest(x=sample_dem_data['diff'], \n",
    "                              y=0, \n",
    "                              alternative=\"two-sided\")\n",
    "                              \n",
    "# Print the test results\n",
    "print(test_results)"
   ]
  },
  {
   "cell_type": "code",
   "execution_count": null,
   "id": "48bac1ca-124d-4772-a0ae-1d008319d8ee",
   "metadata": {},
   "outputs": [],
   "source": [
    "# Conduct a t-test on diff\n",
    "test_results = pingouin.ttest(x=sample_dem_data['diff'], \n",
    "                              y=0, \n",
    "                              alternative=\"two-sided\")\n",
    "\n",
    "# Conduct a paired t-test on 'dem_percent_12' and 'dem_percent_16'\n",
    "paired_test_results = pingouin.ttest(sample_dem_data['dem_percent_12'], sample_dem_data['dem_percent_16'], paired=True, alternative='two-sided')\n",
    "\n",
    "# Print the paired test results\n",
    "print(paired_test_results)"
   ]
  },
  {
   "cell_type": "markdown",
   "id": "5248f56e-522d-497f-b521-16e040cc0ab5",
   "metadata": {},
   "source": [
    "### Visualizing many categories"
   ]
  },
  {
   "cell_type": "code",
   "execution_count": null,
   "id": "4fb0037d-629d-4531-9a6d-09d7a9944834",
   "metadata": {},
   "outputs": [],
   "source": [
    "# Group late_shipments by shipment_mode and calculate the mean pack_price for each group\n",
    "xbar_pack_by_mode = late_shipments.groupby('shipment_mode')['pack_price'].mean()\n",
    "\n",
    "# Print the grouped means\n",
    "print(xbar_pack_by_mode)"
   ]
  },
  {
   "cell_type": "code",
   "execution_count": null,
   "id": "688e2c2c-a8aa-4e32-b599-c66a0374460e",
   "metadata": {},
   "outputs": [],
   "source": [
    "# Calculate the mean pack_price for each shipment_mode\n",
    "xbar_pack_by_mode = late_shipments.groupby(\"shipment_mode\")['pack_price'].mean()\n",
    "\n",
    "# Calculate the standard deviation of the pack_price for each shipment_mode\n",
    "s_pack_by_mode = late_shipments.groupby(\"shipment_mode\")['pack_price'].std()\n",
    "\n",
    "# Print the grouped standard deviations\n",
    "print(s_pack_by_mode)"
   ]
  },
  {
   "cell_type": "code",
   "execution_count": null,
   "id": "4af247ae-5a19-445c-a932-1678d5d40682",
   "metadata": {},
   "outputs": [],
   "source": [
    "# Calculate the mean pack_price for each shipment_mode\n",
    "xbar_pack_by_mode = late_shipments.groupby(\"shipment_mode\")['pack_price'].mean()\n",
    "\n",
    "# Calculate the standard deviation of the pack_price for each shipment_mode\n",
    "s_pack_by_mode = late_shipments.groupby(\"shipment_mode\")['pack_price'].std()\n",
    "\n",
    "# Boxplot of shipment_mode vs. pack_price\n",
    "sns.boxplot(x='pack_price', y='shipment_mode', data=late_shipments)\n",
    "\n",
    "# Show the plot\n",
    "plt.show()\n"
   ]
  },
  {
   "cell_type": "markdown",
   "id": "f2904019-ac82-451b-a9df-04540e78d0b8",
   "metadata": {},
   "source": [
    "### Conducting an ANOVA test"
   ]
  },
  {
   "cell_type": "code",
   "execution_count": null,
   "id": "ffbf9078-c694-41b8-94de-1308d4c9f4e3",
   "metadata": {},
   "outputs": [],
   "source": [
    "# Run an ANOVA for pack_price across shipment_mode\n",
    "anova_results = pingouin.anova(data=late_shipments, dv='pack_price', between='shipment_mode')\n",
    "\n",
    "# Print anova_results\n",
    "print(anova_results)"
   ]
  },
  {
   "cell_type": "markdown",
   "id": "44c7d6d5-8afe-45a5-a7a5-d8e6e16d9ae8",
   "metadata": {},
   "source": [
    "### Pairwise t-tests"
   ]
  },
  {
   "cell_type": "code",
   "execution_count": null,
   "id": "ff06bd65-6362-4ee4-856e-28634a795c5e",
   "metadata": {},
   "outputs": [],
   "source": [
    "# Perform a pairwise t-test on pack price, grouped by shipment mode\n",
    "pairwise_results = pingouin.pairwise_ttests(data=late_shipments, dv='pack_price', between='shipment_mode', padjust='none')\n",
    "\n",
    "# Print pairwise_results\n",
    "print(pairwise_results)\n"
   ]
  },
  {
   "cell_type": "code",
   "execution_count": null,
   "id": "31fbe2c9-1b4d-4c29-b292-28d6ef34c9ef",
   "metadata": {},
   "outputs": [],
   "source": [
    "# Modify the pairwise t-tests to use Bonferroni p-value adjustment\n",
    "pairwise_results = pingouin.pairwise_tests(data=late_shipments, \n",
    "                                           dv=\"pack_price\",\n",
    "                                           between=\"shipment_mode\",\n",
    "                                           padjust=\"bonf\")\n",
    "\n",
    "# Print pairwise_results\n",
    "print(pairwise_results)"
   ]
  },
  {
   "cell_type": "markdown",
   "id": "6ee27fd3-f5fd-4c89-b814-287fad188640",
   "metadata": {},
   "source": [
    "### Test for single proportions"
   ]
  },
  {
   "cell_type": "code",
   "execution_count": null,
   "id": "039aae58-6198-4d43-a3ac-4b6c06cd9909",
   "metadata": {},
   "outputs": [],
   "source": [
    "# Hypothesize that the proportion of late shipments is 6%\n",
    "p_0 = 0.06\n",
    "\n",
    "# Calculate the sample proportion of late shipments\n",
    "p_hat = (late_shipments['late'] == 'Yes').mean()\n",
    "\n",
    "# Calculate the sample size\n",
    "n = len(late_shipments)\n",
    "\n",
    "# Print p_hat and n\n",
    "print(p_hat,n)"
   ]
  },
  {
   "cell_type": "code",
   "execution_count": null,
   "id": "07fc1954-d49d-4ce8-905e-9a66c9194c9e",
   "metadata": {},
   "outputs": [],
   "source": [
    "# Hypothesize that the proportion of late shipments is 6%\n",
    "p_0 = 0.06\n",
    "\n",
    "# Calculate the sample proportion of late shipments\n",
    "p_hat = (late_shipments['late'] == 'Yes').mean()\n",
    "\n",
    "# Calculate the sample size\n",
    "n = len(late_shipments)\n",
    "\n",
    "# Calculate the numerator and denominator of the test statistic\n",
    "numerator = p_hat - p_0\n",
    "denominator = np.sqrt((p_0 * (1 - p_0)) / n)\n",
    "\n",
    "# Calculate the test statistic (z-score)\n",
    "z_score = numerator / denominator\n",
    "\n",
    "# Print the result\n",
    "print(\"Z-Score:\", z_score)"
   ]
  },
  {
   "cell_type": "code",
   "execution_count": null,
   "id": "162f6272-811b-47c4-a597-083c5a63e69d",
   "metadata": {},
   "outputs": [],
   "source": [
    "# Hypothesize that the proportion of late shipments is 6%\n",
    "p_0 = 0.06\n",
    "\n",
    "# Calculate the sample proportion of late shipments\n",
    "p_hat = (late_shipments['late'] == 'Yes').mean()\n",
    "\n",
    "# Calculate the sample size\n",
    "n = len(late_shipments)\n",
    "\n",
    "# Calculate the numerator and denominator of the test statistic\n",
    "numerator = p_hat - p_0\n",
    "denominator = np.sqrt(p_0 * (1 - p_0) / n)\n",
    "\n",
    "# Calculate the test statistic (z-score)\n",
    "z_score = numerator / denominator\n",
    "\n",
    "# Calculate the p-value from the z-score for a \"greater than\" test\n",
    "p_value = 1 - norm.cdf(z_score)\n",
    "\n",
    "# Print the p-value\n",
    "print(\"P-Value:\", p_value)"
   ]
  },
  {
   "cell_type": "markdown",
   "id": "52b7c3e5-92a0-4239-a679-029d6a4c4625",
   "metadata": {},
   "source": [
    "### Test of two proportions"
   ]
  },
  {
   "cell_type": "code",
   "execution_count": null,
   "id": "b75f4cca-243d-4405-9688-cfc56114bedd",
   "metadata": {},
   "outputs": [],
   "source": [
    "# Calculate the pooled estimate of the population proportion\n",
    "p_hat = (p_hats[\"reasonable\"] * ns[\"reasonable\"] + p_hats[\"expensive\"] * ns[\"expensive\"]) / (ns[\"reasonable\"] + ns[\"expensive\"])\n",
    "\n",
    "# Print the result\n",
    "print(\"Pooled Sample Proportion:\", p_hat)"
   ]
  },
  {
   "cell_type": "code",
   "execution_count": null,
   "id": "5de6ff5f-37ff-47c6-86a3-4cd45e174cfa",
   "metadata": {},
   "outputs": [],
   "source": [
    "# Calculate the pooled estimate of the population proportion\n",
    "p_hat = (p_hats[\"reasonable\"] * ns[\"reasonable\"] + p_hats[\"expensive\"] * ns[\"expensive\"]) / (ns[\"reasonable\"] + ns[\"expensive\"])\n",
    "\n",
    "# Calculate p_hat one minus p_hat\n",
    "p_hat_times_not_p_hat = p_hat * (1 - p_hat)\n",
    "\n",
    "# Divide this by each of the sample sizes and then sum\n",
    "p_hat_times_not_p_hat_over_ns = p_hat_times_not_p_hat / ns[\"expensive\"] + p_hat_times_not_p_hat / ns[\"reasonable\"]\n",
    "\n",
    "# Calculate the standard error\n",
    "std_error = np.sqrt(p_hat_times_not_p_hat_over_ns)\n",
    "\n",
    "# Print the result\n",
    "print(std_error)"
   ]
  },
  {
   "cell_type": "code",
   "execution_count": null,
   "id": "78a96ec1-61b2-4f92-94a4-5783169aa121",
   "metadata": {},
   "outputs": [],
   "source": [
    "# Calculate the pooled estimate of the population proportion\n",
    "p_hat = (p_hats[\"reasonable\"] * ns[\"reasonable\"] + p_hats[\"expensive\"] * ns[\"expensive\"]) / (ns[\"reasonable\"] + ns[\"expensive\"])\n",
    "\n",
    "# Calculate p_hat one minus p_hat\n",
    "p_hat_times_not_p_hat = p_hat * (1 - p_hat)\n",
    "\n",
    "# Divide this by each of the sample sizes and then sum\n",
    "p_hat_times_not_p_hat_over_ns = p_hat_times_not_p_hat / ns[\"expensive\"] + p_hat_times_not_p_hat / ns[\"reasonable\"]\n",
    "\n",
    "# Calculate the standard error\n",
    "std_error = np.sqrt(p_hat_times_not_p_hat_over_ns)\n",
    "\n",
    "# Calculate the z-score\n",
    "z_score = (p_hats[\"expensive\"] - p_hats[\"reasonable\"]) / std_error\n",
    "\n",
    "# Print z_score\n",
    "print(z_score)"
   ]
  },
  {
   "cell_type": "code",
   "execution_count": null,
   "id": "329836b8-2789-4cc3-a5e7-180cc1509f12",
   "metadata": {},
   "outputs": [],
   "source": [
    "# Calculate the pooled estimate of the population proportion\n",
    "p_hat = (p_hats[\"reasonable\"] * ns[\"reasonable\"] + p_hats[\"expensive\"] * ns[\"expensive\"]) / (ns[\"reasonable\"] + ns[\"expensive\"])\n",
    "\n",
    "# Calculate p_hat one minus p_hat\n",
    "p_hat_times_not_p_hat = p_hat * (1 - p_hat)\n",
    "\n",
    "# Divide this by each of the sample sizes and then sum\n",
    "p_hat_times_not_p_hat_over_ns = p_hat_times_not_p_hat / ns[\"expensive\"] + p_hat_times_not_p_hat / ns[\"reasonable\"]\n",
    "\n",
    "# Calculate the standard error\n",
    "std_error = np.sqrt(p_hat_times_not_p_hat_over_ns)\n",
    "\n",
    "# Calculate the z-score\n",
    "z_score = (p_hats[\"expensive\"] - p_hats[\"reasonable\"]) / std_error\n",
    "\n",
    "# Calculate the p-value from the z-score\n",
    "p_value = 1-norm.cdf(z_score)\n",
    "\n",
    "# Print p_value\n",
    "print(p_value)"
   ]
  },
  {
   "cell_type": "markdown",
   "id": "d1c08fb7-aca8-4704-b85f-42ae1b269394",
   "metadata": {},
   "source": [
    "### proportions_ztest() for two samples"
   ]
  },
  {
   "cell_type": "code",
   "execution_count": null,
   "id": "9f8f2fb8-b536-47be-bfbc-9aca5a667f64",
   "metadata": {},
   "outputs": [],
   "source": [
    "# Count the late column values for each freight_cost_group\n",
    "late_by_freight_cost_group = late_shipments.groupby('freight_cost_group')['late'].value_counts()\n",
    "\n",
    "# Print the counts\n",
    "print(late_by_freight_cost_group)\n"
   ]
  },
  {
   "cell_type": "code",
   "execution_count": null,
   "id": "49273ba7-6a91-4415-9b74-1b821244537d",
   "metadata": {},
   "outputs": [],
   "source": [
    "# Count the late column values for each freight_cost_group\n",
    "late_by_freight_cost_group = late_shipments.groupby(\"freight_cost_group\")['late'].value_counts()\n",
    "\n",
    "# Create an array of the \"Yes\" counts for each freight_cost_group\n",
    "success_counts = np.array([late_by_freight_cost_group['expensive', 'Yes'], late_by_freight_cost_group['reasonable', 'Yes']])\n",
    "\n",
    "# Create an array of the total number of rows in each freight_cost_group\n",
    "n = np.array([len(late_shipments[late_shipments['freight_cost_group'] == 'expensive']),\n",
    "              len(late_shipments[late_shipments['freight_cost_group'] == 'reasonable'])])\n",
    "\n",
    "# Run a z-test on the two proportions\n",
    "stat, p_value = proportions_ztest(success_counts, n, alternative=\"larger\")\n",
    "\n",
    "\n",
    "\n",
    "# Print the results\n",
    "print(stat, p_value)"
   ]
  },
  {
   "cell_type": "markdown",
   "id": "44c6aab5-b35b-4345-9779-6d155436ee3e",
   "metadata": {},
   "source": [
    "### Performing a chi-square test"
   ]
  },
  {
   "cell_type": "code",
   "execution_count": null,
   "id": "9e15c044-8d68-4870-abbb-f3185a2abfd1",
   "metadata": {},
   "outputs": [],
   "source": [
    "# Proportion of freight_cost_group grouped by vendor_inco_term\n",
    "props = late_shipments.groupby('vendor_inco_term')['freight_cost_group'].value_counts(normalize=True)\n",
    "\n",
    "# Print props\n",
    "print(props)"
   ]
  },
  {
   "cell_type": "code",
   "execution_count": null,
   "id": "fb3b6df6-6b34-4450-8578-f8f019519be7",
   "metadata": {},
   "outputs": [],
   "source": [
    "# Proportion of freight_cost_group grouped by vendor_inco_term\n",
    "props = late_shipments.groupby('vendor_inco_term')['freight_cost_group'].value_counts(normalize=True)\n",
    "\n",
    "# Convert props to wide format\n",
    "wide_props = props.unstack()\n",
    "\n",
    "# Print wide_props\n",
    "print(wide_props)\n"
   ]
  },
  {
   "cell_type": "code",
   "execution_count": null,
   "id": "f95fadd0-bbd0-443d-95b6-2a63b4544b3e",
   "metadata": {},
   "outputs": [],
   "source": [
    "# Proportion of freight_cost_group grouped by vendor_inco_term\n",
    "props = late_shipments.groupby('vendor_inco_term')['freight_cost_group'].value_counts(normalize=True)\n",
    "\n",
    "# Convert props to wide format\n",
    "wide_props = props.unstack()\n",
    "\n",
    "# Proportional stacked bar plot of freight_cost_group vs. vendor_inco_term\n",
    "wide_props.plot(kind=\"bar\", stacked=True)\n",
    "plt.show()\n",
    "\n",
    "# Determine if freight_cost_group and vendor_inco_term are independent\n",
    "expected, observed, stats = pingouin.chi2_independence(data=late_shipments, x='freight_cost_group', y='vendor_inco_term')\n",
    "\n",
    "# Print results\n",
    "print(stats[stats['test'] == 'pearson'])"
   ]
  },
  {
   "cell_type": "markdown",
   "id": "20234f8e-6dc2-4494-80e2-365795890c43",
   "metadata": {},
   "source": [
    "### Visualizing goodness of fit"
   ]
  },
  {
   "cell_type": "code",
   "execution_count": null,
   "id": "77a69bce-82b5-49f5-8aea-0587fab06451",
   "metadata": {},
   "outputs": [],
   "source": [
    "# Find the number of rows in late_shipments\n",
    "n_total = len(late_shipments)\n",
    "\n",
    "# Create n column that is prop column * n_total\n",
    "hypothesized['n'] = hypothesized['prop'] * n_total\n",
    "\n",
    "# Print the modified hypothesized DataFrame\n",
    "print(hypothesized)"
   ]
  },
  {
   "cell_type": "code",
   "execution_count": null,
   "id": "3ed1152e-c5f3-49d5-8af8-885fd05fc6a2",
   "metadata": {},
   "outputs": [],
   "source": [
    "# Find the number of rows in late_shipments\n",
    "n_total = len(late_shipments)\n",
    "\n",
    "# Create n column that is prop column * n_total\n",
    "hypothesized[\"n\"] = hypothesized[\"prop\"] * n_total\n",
    "\n",
    "# Plot a red bar graph of n vs. vendor_inco_term for incoterm_counts\n",
    "plt.bar(incoterm_counts['vendor_inco_term'], incoterm_counts['n'], color=\"red\", label=\"Observed\")\n",
    "plt.legend()\n",
    "plt.show()"
   ]
  },
  {
   "cell_type": "code",
   "execution_count": null,
   "id": "0398b089-d564-4dec-bca2-b69506b4d19b",
   "metadata": {},
   "outputs": [],
   "source": [
    "# Find the number of rows in late_shipments\n",
    "n_total = len(late_shipments)\n",
    "\n",
    "# Create n column that is prop column * n_total\n",
    "hypothesized[\"n\"] = hypothesized[\"prop\"] * n_total\n",
    "\n",
    "# Plot a red bar graph of n vs. vendor_inco_term for incoterm_counts\n",
    "plt.bar(incoterm_counts['vendor_inco_term'], incoterm_counts['n'], color=\"red\", label=\"Observed\")\n",
    "\n",
    "# Add a blue bar plot for the hypothesized counts\n",
    "plt.bar(hypothesized['vendor_inco_term'], hypothesized['n'], alpha=0.5, color=\"blue\", label=\"Hypothesized\")\n",
    "plt.legend()\n",
    "plt.show()"
   ]
  },
  {
   "cell_type": "markdown",
   "id": "360a2960-ad3b-4ec3-ad80-7bd85f94aa71",
   "metadata": {},
   "source": [
    "### Performing a goodness of fit test"
   ]
  },
  {
   "cell_type": "code",
   "execution_count": null,
   "id": "0e2a7642-237c-4aa2-b0d0-93116c47a57c",
   "metadata": {},
   "outputs": [],
   "source": [
    "# Perform a goodness of fit test on the incoterm counts n\n",
    "gof_test = chisquare(f_obs=incoterm_counts['n'], f_exp=hypothesized['n'])\n",
    "\n",
    "# Print gof_test results\n",
    "print(gof_test)"
   ]
  },
  {
   "cell_type": "markdown",
   "id": "0356d240-5485-42b9-b142-65a3c9fa1db1",
   "metadata": {},
   "source": [
    "### Testing sample size"
   ]
  },
  {
   "cell_type": "code",
   "execution_count": null,
   "id": "c0ba38cb-dfd2-4865-ac56-5213d6e6b1ab",
   "metadata": {},
   "outputs": [],
   "source": [
    "# Count the freight_cost_group values\n",
    "counts = late_shipments['freight_cost_group'].value_counts()\n",
    "\n",
    "# Print the result\n",
    "print(counts)\n",
    "\n",
    "# Inspect whether the counts are big enough\n",
    "print((counts >= 30).all())\n"
   ]
  },
  {
   "cell_type": "code",
   "execution_count": null,
   "id": "9d670fe4-8058-4ff6-aeb9-df2709c7cc47",
   "metadata": {},
   "outputs": [],
   "source": [
    "# Count the late values\n",
    "counts = late_shipments['late'].value_counts()\n",
    "\n",
    "# Print the result\n",
    "print(counts)\n",
    "\n",
    "# Inspect whether the counts are big enough\n",
    "print((counts >= 10).all())\n"
   ]
  },
  {
   "cell_type": "code",
   "execution_count": null,
   "id": "28944c20-ca23-4f65-b20b-b5f8ace3c309",
   "metadata": {},
   "outputs": [],
   "source": [
    "# Count the values of freight_cost_group grouped by vendor_inco_term\n",
    "counts = late_shipments.groupby('vendor_inco_term')['freight_cost_group'].value_counts()\n",
    "\n",
    "# Print the result\n",
    "print(counts)\n",
    "\n",
    "# Inspect whether the counts are big enough for a chi-square independence test\n",
    "print((counts >= 5).all())\n"
   ]
  },
  {
   "cell_type": "code",
   "execution_count": null,
   "id": "6bfbef46-4f7f-4588-98df-4bfaafa49741",
   "metadata": {},
   "outputs": [],
   "source": [
    "# Count the shipment_mode values\n",
    "counts = late_shipments['shipment_mode'].value_counts()\n",
    "\n",
    "# Print the result\n",
    "print(counts)\n",
    "\n",
    "# Inspect whether the counts are big enough for an ANOVA test\n",
    "print((counts >= 30).all())\n"
   ]
  },
  {
   "cell_type": "markdown",
   "id": "512943e8-d9fb-4dac-a65d-bc3736b7cded",
   "metadata": {},
   "source": [
    "### Wilcoxon signed-rank test"
   ]
  },
  {
   "cell_type": "code",
   "execution_count": null,
   "id": "36504f50-ce9d-43f8-8e9f-38f3856e1ad7",
   "metadata": {},
   "outputs": [],
   "source": [
    "# Conduct a paired t-test on dem_percent_12 and dem_percent_16\n",
    "paired_test_results = pingouin.ttest(x=sample_dem_data['dem_percent_12'], y=sample_dem_data['dem_percent_16'], paired=True, alternative='two-sided')\n",
    "\n",
    "# Print paired t-test results\n",
    "print(paired_test_results)\n"
   ]
  },
  {
   "cell_type": "code",
   "execution_count": null,
   "id": "b3233680-4869-4cc2-8ff7-75f0b6f20bb6",
   "metadata": {},
   "outputs": [],
   "source": [
    "# Conduct a Wilcoxon test on dem_percent_12 and dem_percent_16\n",
    "wilcoxon_test_results = pingouin.wilcoxon(x=sample_dem_data['dem_percent_12'], y=sample_dem_data['dem_percent_16'])\n",
    "\n",
    "# Print Wilcoxon test results\n",
    "print(wilcoxon_test_results)\n"
   ]
  },
  {
   "cell_type": "markdown",
   "id": "af2227ea-be58-4509-8923-86dcdf1dc47f",
   "metadata": {},
   "source": [
    "### Wilcoxon-Mann-Whitney"
   ]
  },
  {
   "cell_type": "code",
   "execution_count": null,
   "id": "697eee33-8887-412a-9594-60373f4ed7b7",
   "metadata": {},
   "outputs": [],
   "source": [
    "# Select the weight_kilograms and late columns\n",
    "weight_vs_late = late_shipments[[\"weight_kilograms\", \"late\"]]\n",
    "\n",
    "# Convert weight_vs_late into wide format\n",
    "weight_vs_late_wide = weight_vs_late.pivot(columns='late', \n",
    "                                           values='weight_kilograms')\n",
    "\n",
    "# Run a two-sided Wilcoxon-Mann-Whitney test on weight_kilograms vs. late\n",
    "wmw_test = pingouin.mwu(x=weight_vs_late_wide['No'],\n",
    "                        y=weight_vs_late_wide['Yes'],\n",
    "                        alternative='two-sided')\n",
    "\n",
    "# Print the test results\n",
    "print(wmw_test)"
   ]
  },
  {
   "cell_type": "markdown",
   "id": "470d68b5-90ad-4216-b357-8a07db39e6b4",
   "metadata": {},
   "source": [
    "### Kruskal-Wallis"
   ]
  },
  {
   "cell_type": "code",
   "execution_count": null,
   "id": "b7dcbc9d-643d-43e8-9b25-09f76698b344",
   "metadata": {},
   "outputs": [],
   "source": [
    "# Run a Kruskal-Wallis test on weight_kilograms vs. shipment_mode\n",
    "kw_test = pingouin.kruskal(data=late_shipments, dv='weight_kilograms', between='shipment_mode')\n",
    "\n",
    "# Print the results\n",
    "print(kw_test)"
   ]
  },
  {
   "cell_type": "code",
   "execution_count": null,
   "id": "6dac9a8e-df9f-4b88-9703-7c4cd368bc99",
   "metadata": {},
   "outputs": [],
   "source": []
  },
  {
   "cell_type": "code",
   "execution_count": null,
   "id": "16ca23e6-f6d7-4163-8a93-210950ed59ad",
   "metadata": {},
   "outputs": [],
   "source": []
  },
  {
   "cell_type": "code",
   "execution_count": null,
   "id": "903eb62f-e155-407f-94d8-fd5dfb9569e1",
   "metadata": {},
   "outputs": [],
   "source": []
  },
  {
   "cell_type": "code",
   "execution_count": null,
   "id": "dfad9405-53d7-47a3-a2eb-140a0bacc183",
   "metadata": {},
   "outputs": [],
   "source": []
  },
  {
   "cell_type": "code",
   "execution_count": null,
   "id": "5620afad-f090-4bff-bb8c-f4250953a8bd",
   "metadata": {},
   "outputs": [],
   "source": []
  },
  {
   "cell_type": "code",
   "execution_count": null,
   "id": "46a5e6d1-fc50-46f4-8af4-0ceec8941093",
   "metadata": {},
   "outputs": [],
   "source": []
  },
  {
   "cell_type": "code",
   "execution_count": null,
   "id": "90908285-bab8-467f-984e-5b46c4539adc",
   "metadata": {},
   "outputs": [],
   "source": []
  },
  {
   "cell_type": "code",
   "execution_count": null,
   "id": "5ac5d67b-9aac-417a-bbf5-244d64c38e14",
   "metadata": {},
   "outputs": [],
   "source": []
  }
 ],
 "metadata": {
  "kernelspec": {
   "display_name": "Python 3 (ipykernel)",
   "language": "python",
   "name": "python3"
  },
  "language_info": {
   "codemirror_mode": {
    "name": "ipython",
    "version": 3
   },
   "file_extension": ".py",
   "mimetype": "text/x-python",
   "name": "python",
   "nbconvert_exporter": "python",
   "pygments_lexer": "ipython3",
   "version": "3.11.5"
  }
 },
 "nbformat": 4,
 "nbformat_minor": 5
}
