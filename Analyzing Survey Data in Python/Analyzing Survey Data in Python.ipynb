{
 "cells": [
  {
   "cell_type": "markdown",
   "id": "a8230889-7d81-4778-b1a9-997b5bea3a5f",
   "metadata": {},
   "source": [
    "### Crosstabulation"
   ]
  },
  {
   "cell_type": "code",
   "execution_count": null,
   "id": "ad3cd546-863c-4720-9d62-d194ed39b821",
   "metadata": {},
   "outputs": [],
   "source": [
    "# Create a cross-tabulation of \"Gender\" and \"Education\"\n",
    "cross_tabulation = pd.crosstab(we_survey['Gender'], we_survey['Education'], margins=True)\n",
    "\n",
    "print(cross_tabulation)\n"
   ]
  },
  {
   "cell_type": "markdown",
   "id": "89eb2754-1876-4fae-bb69-865a57ad44b9",
   "metadata": {},
   "source": [
    "### Descriptive statistics"
   ]
  },
  {
   "cell_type": "code",
   "execution_count": null,
   "id": "23a7853d-7960-4cd6-a721-17586658d825",
   "metadata": {},
   "outputs": [],
   "source": [
    "# Generate descriptive statistics on the non-numerical columns\n",
    "print(youth_survey_clean.describe(include='object'))\n"
   ]
  },
  {
   "cell_type": "markdown",
   "id": "0548693a-d87f-448a-ad4a-0775bd339989",
   "metadata": {},
   "source": [
    "### Inferential statistics"
   ]
  },
  {
   "cell_type": "code",
   "execution_count": null,
   "id": "329bb01b-379a-4757-bf46-5901827bf95c",
   "metadata": {},
   "outputs": [],
   "source": [
    "# Calculate the confidence interval for mean height with 95% confidence level\n",
    "conf_95 = st.norm.interval(alpha=0.95, \n",
    "                           loc=np.mean(youth_survey_clean['Height_in']), \n",
    "                           scale=st.sem(youth_survey_clean['Height_in']))\n",
    "\n",
    "# Calculate the confidence interval for mean height with 99% confidence level\n",
    "conf_99 = st.norm.interval(alpha=0.99, \n",
    "                           loc=np.mean(youth_survey_clean['Height_in']), \n",
    "                           scale=st.sem(youth_survey_clean['Height_in']))\n",
    "\n",
    "print(\"conf_95 = \", conf_95)\n",
    "print(\"conf_99 = \", conf_99)\n"
   ]
  },
  {
   "cell_type": "markdown",
   "id": "dd42f0e6-6c23-4ad8-bc83-8e81e0b9908b",
   "metadata": {},
   "source": [
    "### Scatter plot inspection"
   ]
  },
  {
   "cell_type": "code",
   "execution_count": null,
   "id": "637f3ce8-ae4a-4fcf-9c5f-02acb4833e63",
   "metadata": {},
   "outputs": [],
   "source": [
    "# Create a scatter plot between `Age` and `Height_in`\n",
    "youth_survey.plot.scatter(x='Age', y='Height_in')\n",
    "plt.show()\n"
   ]
  },
  {
   "cell_type": "markdown",
   "id": "d285f578-b810-46d5-8889-5615d69842f8",
   "metadata": {},
   "source": [
    "### Random sample of employees"
   ]
  },
  {
   "cell_type": "code",
   "execution_count": null,
   "id": "d0df7c31-ce42-4130-bf8e-32d593a5a838",
   "metadata": {},
   "outputs": [],
   "source": [
    "# Use n parameter to sample 85 employees\n",
    "random_sample = employee_satisfaction.sample(n=85)\n",
    "\n",
    "# Display the random sample\n",
    "print(random_sample)\n"
   ]
  },
  {
   "cell_type": "code",
   "execution_count": null,
   "id": "ab870e78-174e-48ef-a0c7-160b2aadf069",
   "metadata": {},
   "outputs": [],
   "source": [
    "# Use n parameter to sample 85 employees\n",
    "employee_satisfaction.sample(n = 85)\n",
    "\n",
    "# Use `frac` parameter to sample 85 employees\n",
    "random_sample = employee_satisfaction.sample(frac=0.17)\n",
    "\n",
    "# Display the random sample\n",
    "print(random_sample)"
   ]
  },
  {
   "cell_type": "markdown",
   "id": "a626fa90-c104-4f96-89c6-09460c53b62e",
   "metadata": {},
   "source": [
    "### Reproducible random sampling"
   ]
  },
  {
   "cell_type": "code",
   "execution_count": null,
   "id": "12c1abc1-bc9a-4301-b487-b824cb93a322",
   "metadata": {},
   "outputs": [],
   "source": [
    "# Create a reproducible sample of 25 employees\n",
    "random_sample = employee_satisfaction.sample(n=25, random_state=123)\n",
    "\n",
    "# Display the random sample\n",
    "print(random_sample)\n"
   ]
  },
  {
   "cell_type": "markdown",
   "id": "bbb74758-3f7d-4957-bb25-107ce0531982",
   "metadata": {},
   "source": [
    "### Spread of yes's and no's"
   ]
  },
  {
   "cell_type": "code",
   "execution_count": null,
   "id": "6c77e61f-333a-46c3-a9c6-ee92439c4003",
   "metadata": {},
   "outputs": [],
   "source": [
    "# Create a pie chart to the question of working onsite\n",
    "ABC_survey.onsite_work.value_counts().plot.pie()\n",
    "plt.show()"
   ]
  },
  {
   "cell_type": "markdown",
   "id": "a9e50d2a-182f-4bd6-8037-55eb275a221d",
   "metadata": {},
   "source": [
    "### Stratified sampling"
   ]
  },
  {
   "cell_type": "code",
   "execution_count": null,
   "id": "d90531a7-ed82-4917-9691-a936aacfb990",
   "metadata": {},
   "outputs": [],
   "source": [
    "# Calculate the percentage of female and male respondents\n",
    "print(youth_survey['Gender'].value_counts(normalize=True) * 100)\n"
   ]
  },
  {
   "cell_type": "code",
   "execution_count": null,
   "id": "45994e0f-b930-4216-8152-a212960db39b",
   "metadata": {},
   "outputs": [],
   "source": [
    "# Calculate the percentage of female and male respondents\n",
    "print(youth_survey.Gender.value_counts(normalize=True) * 100)\n",
    "\n",
    "# Check the percentage of female and male respondents\n",
    "youth_survey.Gender.value_counts(normalize=True) * 100\n",
    "\n",
    "# Proportionally sample out 1% of respondents\n",
    "sample_dataset = youth_survey.groupby(\"Gender\", group_keys=False).apply(lambda x: x.sample(frac=0.01))\n",
    "\n",
    "print(sample_dataset.head())"
   ]
  },
  {
   "cell_type": "markdown",
   "id": "9258e6dd-3f31-4610-98ba-c2f87bd0e193",
   "metadata": {},
   "source": [
    "### Blog survey"
   ]
  },
  {
   "cell_type": "code",
   "execution_count": null,
   "id": "c7c2cffe-c9f1-4a7f-9a0c-661041d8bc77",
   "metadata": {},
   "outputs": [],
   "source": [
    "# Create a crosstab of male and female handedness\n",
    "survey_crosstab = pd.crosstab(hand_survey['Gender'], hand_survey['Left - right handed'])\n",
    "\n",
    "# Create a horizontal bar plot of your results\n",
    "survey_crosstab.plot.barh()\n",
    "plt.xlabel('Number of Respondents')\n",
    "plt.ylabel('Gender')\n",
    "plt.title('Handedness by Gender')\n",
    "plt.legend(title='Handedness')\n",
    "plt.show()\n"
   ]
  },
  {
   "cell_type": "markdown",
   "id": "4d2dc8fc-9651-4c43-b521-9f5a573c6831",
   "metadata": {},
   "source": [
    "### Weighted sampling on handedness"
   ]
  },
  {
   "cell_type": "code",
   "execution_count": null,
   "id": "5999a277-02b4-42e9-ae1f-b176647f60c4",
   "metadata": {},
   "outputs": [],
   "source": [
    "# Groupby Gender and Handedness\n",
    "hand_survey = hand_survey.groupby(['Gender', 'Left - right handed'])['Age'].count().reset_index()\n",
    "\n",
    "hand_survey.columns = ['Gender', 'Handedness', 'Respondents']\n",
    "\n",
    "# Create new column that calculates the percentage of each respondent type\n",
    "hand_survey['% total respondents'] = hand_survey['Respondents'] * 100. / hand_survey['Respondents'].sum()\n"
   ]
  },
  {
   "cell_type": "code",
   "execution_count": null,
   "id": "7c4fedd8-b1e3-45fe-95ed-cd79306ff30e",
   "metadata": {},
   "outputs": [],
   "source": [
    "hand_survey = hand_survey.groupby(\n",
    "  ['Gender','Left - right handed'])[\n",
    "  'Age'].count().reset_index()\n",
    "\n",
    "hand_survey.columns = ['Gender','Handedness','Respondents']\n",
    "\n",
    "hand_survey['% total respondents'] = hand_survey.Respondents*100./hand_survey.Respondents.sum()\n",
    "\n",
    "hand_survey['% of population'] = [5.5,44.5,6.5,43.5]\n",
    "\n",
    "# Calculate weights for each category\n",
    "hand_survey['Weight'] = hand_survey['% of population'] / hand_survey['% total respondents']\n",
    "\n",
    "# Calculate number of weighted respondents\n",
    "hand_survey['Weighted Respondents'] = hand_survey.Weight * hand_survey.Respondents\n",
    "\n",
    "print(hand_survey.head())"
   ]
  },
  {
   "cell_type": "code",
   "execution_count": null,
   "id": "8287c364-418c-4778-830c-100c5dbc0529",
   "metadata": {},
   "outputs": [],
   "source": [
    "hand_survey = hand_survey.groupby(\n",
    "  ['Gender','Left - right handed'])[\n",
    "  'Age'].count().reset_index()\n",
    "\n",
    "hand_survey.columns = ['Gender','Handedness','Respondents']\n",
    "\n",
    "hand_survey['% total respondents'] = hand_survey.Respondents * 100. / hand_survey.Respondents.sum()\n",
    "\n",
    "hand_survey['% of population'] = [5.5,44.5,6.5,43.5]\n",
    "\n",
    "hand_survey['Weight'] = hand_survey['% of population'] / hand_survey['% total respondents']\n",
    "\n",
    "hand_survey['Weighted Respondents'] = hand_survey.Weight * hand_survey.Respondents\n",
    "\n",
    "# Plot horizontal bar plot of original and weighted sample of each category\n",
    "hand_survey[['Gender','Handedness','Respondents','Weighted Respondents']].set_index(['Gender', 'Handedness']).plot.barh()"
   ]
  },
  {
   "cell_type": "markdown",
   "id": "32244e5e-3f2a-41de-a4fc-5ed40b82b55c",
   "metadata": {},
   "source": [
    "### Group clusters"
   ]
  },
  {
   "cell_type": "code",
   "execution_count": null,
   "id": "a1806641-56ad-4271-a6a5-b45545533065",
   "metadata": {},
   "outputs": [],
   "source": [
    "# Group population into clusters and calculate respondents\n",
    "groups = mh_survey.groupby('US_state_live').size().reset_index()\n",
    "groups.columns = ['US_state_live', 'count']\n",
    "\n",
    "# Plot a bar graph of number of respondents by US_state_live\n",
    "groups.plot.bar(x='US_state_live', y='count')\n",
    "plt.xlabel('US State')\n",
    "plt.ylabel('Number of Respondents')\n",
    "plt.title('Number of Respondents by US State')\n",
    "plt.xticks(rotation=45)\n",
    "plt.show()\n"
   ]
  },
  {
   "cell_type": "markdown",
   "id": "54574b8a-6471-4a88-8242-ae8fcf6531b9",
   "metadata": {},
   "source": [
    "### Choosing clusters"
   ]
  },
  {
   "cell_type": "code",
   "execution_count": null,
   "id": "9cc8e280-2cd6-48dc-83bb-716cb347e0c8",
   "metadata": {},
   "outputs": [],
   "source": [
    "# Create a list of the unique states present in the survey\n",
    "unique_states = list(set(mh_survey['US_state_live']))\n",
    "\n",
    "# Randomly choose ten states\n",
    "random_clusters = np.random.choice(unique_states, size=10, replace=False)\n",
    "\n",
    "print(random_clusters)\n"
   ]
  },
  {
   "cell_type": "markdown",
   "id": "e80f8627-ecbf-4592-bdaf-e9e397dde8a1",
   "metadata": {},
   "source": [
    "### Cluster sampling analysis"
   ]
  },
  {
   "cell_type": "code",
   "execution_count": null,
   "id": "10ebda1f-4c3f-4545-bbda-3cf982487813",
   "metadata": {},
   "outputs": [],
   "source": [
    "# Subset dataset to include only states in random_clusters\n",
    "cluster_sample = mh_survey[mh_survey['US_state_live'].isin(random_clusters)]\n",
    "\n",
    "# Create a pie chart of the sought_treament column\n",
    "treatment_pie = cluster_sample['sought_treatment'].value_counts(normalize=True)\n",
    "treatment_pie.plot.pie()\n",
    "plt.title('Likelihood of Tech Workers Seeking Treatment for Mental Health')\n",
    "plt.ylabel('')\n",
    "plt.show()\n"
   ]
  },
  {
   "cell_type": "markdown",
   "id": "2f64af51-5808-40c2-8079-62a78d6c0a1c",
   "metadata": {},
   "source": [
    "### Frequency distribution"
   ]
  },
  {
   "cell_type": "code",
   "execution_count": null,
   "id": "5df72df7-2929-4471-85bf-ece28fe235c5",
   "metadata": {},
   "outputs": [],
   "source": [
    "# Count the number of responses for each age group\n",
    "freq_dist = dietary_habits.Age.value_counts().to_frame('Number')\n",
    "print(freq_dist)"
   ]
  },
  {
   "cell_type": "code",
   "execution_count": null,
   "id": "8203d0e2-f619-4d25-892e-2b7a1ca7d71c",
   "metadata": {},
   "outputs": [],
   "source": [
    "# Count the number of responses for each age group\n",
    "freq_dist = dietary_habits.Age.value_counts().to_frame('Number')\n",
    "\n",
    "# Create a bar chart of the different age groups\n",
    "freq_dist.plot(kind='bar')\n",
    "plt.show()"
   ]
  },
  {
   "cell_type": "markdown",
   "id": "7f4ec7a0-a14a-4593-9cfb-70cda5d91226",
   "metadata": {},
   "source": [
    "### Measures of variability"
   ]
  },
  {
   "cell_type": "code",
   "execution_count": null,
   "id": "eb02f4f7-937d-4f57-89b5-ea99cf97818f",
   "metadata": {},
   "outputs": [],
   "source": [
    "# Find the range of meals eaten out or ordered\n",
    "range_value = dietary_habits['eat_out_per_wk'].max() - dietary_habits['eat_out_per_wk'].min()\n",
    "print(\"Range of meals eaten out or ordered:\", range_value)\n",
    "\n",
    "# Find the standard deviation of meals eaten out or ordered\n",
    "std_dev_value = dietary_habits['eat_out_per_wk'].std()\n",
    "print(\"Standard deviation of meals eaten out or ordered:\", std_dev_value)\n"
   ]
  },
  {
   "cell_type": "markdown",
   "id": "b74ea145-6faf-429e-9f5e-5f12c7d07733",
   "metadata": {},
   "source": [
    "### Measures of central tendency"
   ]
  },
  {
   "cell_type": "code",
   "execution_count": null,
   "id": "dcc1731d-628c-42f9-b7c4-c15f69b9b844",
   "metadata": {},
   "outputs": [],
   "source": [
    "# Calculate the mean\n",
    "mean_value = dietary_habits.eat_out_per_wk.mean()\n",
    "print('mean_value = ', mean_value)\n",
    "\n",
    "# Calculate the median\n",
    "median_value = dietary_habits.eat_out_per_wk.median()\n",
    "print('median_value = ', median_value)\n",
    "\n",
    "# Calculate the mode\n",
    "mode_value = dietary_habits.eat_out_per_wk.mode()\n",
    "print('mode_value = ', mode_value)"
   ]
  },
  {
   "cell_type": "markdown",
   "id": "1bf034bb-7acd-45b9-9ec0-43c40b7c19f1",
   "metadata": {},
   "source": [
    "### Visualize data: histogram"
   ]
  },
  {
   "cell_type": "code",
   "execution_count": null,
   "id": "19ef60f1-e041-4de0-b23d-e10c4f24539e",
   "metadata": {},
   "outputs": [],
   "source": [
    "# Histogram of Height column\n",
    "young_people.Height.plot(kind='hist', bins=20)\n",
    "plt.xlabel('Height')\n",
    "plt.ylabel('Frequency')\n",
    "plt.title('Distribution of Height')\n",
    "plt.show()\n"
   ]
  },
  {
   "cell_type": "markdown",
   "id": "7767296f-4bb7-4cb3-81eb-258fa5ca244b",
   "metadata": {},
   "source": [
    "### Find the z-score"
   ]
  },
  {
   "cell_type": "code",
   "execution_count": null,
   "id": "0f98a21a-62eb-4421-9d07-a76b8aa91fc3",
   "metadata": {},
   "outputs": [],
   "source": [
    "# z-score of `Height` column\n",
    "young_people['Height_zscore'] = stats.zscore(young_people.Height)\n",
    "\n",
    "# Outliers in `Height_zscore`\n",
    "height_outliers = young_people[\n",
    "  (young_people.Height_zscore>=3)\n",
    "  |(young_people.Height_zscore<=-3)\n",
    "]\n",
    "print(height_outliers)"
   ]
  },
  {
   "cell_type": "markdown",
   "id": "de09fc28-55a5-4434-be87-3f3af5383de0",
   "metadata": {},
   "source": [
    "### Analyze variables with .corr()"
   ]
  },
  {
   "cell_type": "code",
   "execution_count": null,
   "id": "92539961-d9dd-4336-8678-b73293ba1abc",
   "metadata": {},
   "outputs": [],
   "source": [
    "# Find the correlation between variables present in the survey\n",
    "cor = birth_survey['birth_age'].corr(birth_survey['birth_weight'])\n",
    "print(cor)\n"
   ]
  },
  {
   "cell_type": "markdown",
   "id": "8460379e-3c83-4b3e-9c10-05b7abc79ed8",
   "metadata": {},
   "source": [
    "### Fair and square"
   ]
  },
  {
   "cell_type": "code",
   "execution_count": null,
   "id": "bf297e5c-1112-43fc-af35-c04f0b5295ae",
   "metadata": {},
   "outputs": [],
   "source": [
    "# z-score of `Age` column\n",
    "young_people['Age_zscore'] = stats.zscore(young_people.Age)\n",
    "\n",
    "# Outliers in `Age_zscore`\n",
    "age_outliers = young_people[\n",
    "  (young_people.Age_zscore >= 3)\n",
    "  |(young_people.Age_zscore <= -3)\n",
    "]\n",
    "print(age_outliers)"
   ]
  },
  {
   "cell_type": "markdown",
   "id": "8a1d0471-5e27-45d3-837e-c38ccd36d186",
   "metadata": {},
   "source": [
    "### Fitting a linear regression model"
   ]
  },
  {
   "cell_type": "code",
   "execution_count": null,
   "id": "5a1b93b8-3fa5-4884-8da5-cfc2f1bdd2c4",
   "metadata": {},
   "outputs": [],
   "source": [
    "# Define variable, x and y\n",
    "x = salary_survey.experience_years.tolist()\n",
    "y = salary_survey.current_salary.tolist()\n",
    "\n",
    "# Add the constant term\n",
    "x = sm.add_constant(x)\n",
    "\n",
    "# Perform .OLS() regression and fit\n",
    "result = sm.OLS(y,x).fit()\n",
    "\n",
    "# Print the summary table\n",
    "print(result.summary())"
   ]
  },
  {
   "cell_type": "markdown",
   "id": "098fde34-5239-41e8-8362-faac76860f11",
   "metadata": {},
   "source": [
    "### Visualizing survey data"
   ]
  },
  {
   "cell_type": "code",
   "execution_count": null,
   "id": "e501e560-4659-4e5d-bb8c-9842a0de4147",
   "metadata": {},
   "outputs": [],
   "source": [
    "# Plot the original values using a scatter plot\n",
    "x = data.experience_years.tolist()\n",
    "y = data.current_salary.tolist()\n",
    "plt.scatter(x,y)\n",
    "\n",
    "# Get the range of data\n",
    "max_x = data.experience_years.max()\n",
    "min_x = data.experience_years.min()\n",
    "\n",
    "# Get the range of values\n",
    "x = np.arange(min_x,max_x,1)\n",
    "y = 1590.4569 * x + 58080\n",
    "\n",
    "# Plot the regression line\n",
    "plt.plot(x, y,'r')\n",
    "plt.show()"
   ]
  },
  {
   "cell_type": "markdown",
   "id": "95ff3594-f30d-4fc9-8ad6-d317f8a1052f",
   "metadata": {},
   "source": [
    "### Safety precautions needed?"
   ]
  },
  {
   "cell_type": "code",
   "execution_count": null,
   "id": "696d3d8f-a602-4d82-9915-9a2e4221601d",
   "metadata": {},
   "outputs": [],
   "source": [
    "# Define variable, x and y\n",
    "x = foot_traffic.year.tolist()\n",
    "y = foot_traffic.visitors.tolist()\n",
    "\n",
    "# Add the constant term\n",
    "x = sm.add_constant(x)\n",
    "\n",
    "# Perform .OLS() regression and fit\n",
    "result = sm.OLS(y, x).fit()\n",
    "\n",
    "# Print the summary table\n",
    "print(result.summary())"
   ]
  },
  {
   "cell_type": "code",
   "execution_count": null,
   "id": "8474cfc0-53b8-480d-95ad-ea6173d91003",
   "metadata": {},
   "outputs": [],
   "source": [
    "# Plot the original values using a scatter plot\n",
    "x = foot_traffic.year.tolist()\n",
    "y = foot_traffic.visitors.tolist()\n",
    "plt.scatter(x,y)\n",
    "\n",
    "max_x = max(x)\n",
    "min_x = min(x)\n",
    "\n",
    "# Get the range of values\n",
    "x = np.arange(min_x,max_x,1)\n",
    "y = 5.9786 * x - 11840\n",
    "\n",
    "# Plot the regression line\n",
    "plt.plot(x, y,'r')\n",
    "plt.show()"
   ]
  },
  {
   "cell_type": "markdown",
   "id": "9880054c-a2a4-48a0-8f8c-b7c0aa0bfcbe",
   "metadata": {},
   "source": [
    "### Are women more extroverted?"
   ]
  },
  {
   "cell_type": "code",
   "execution_count": null,
   "id": "9eab2e30-82fb-46bc-8191-d8c2d557acaa",
   "metadata": {},
   "outputs": [],
   "source": [
    "# Calculate mean extroversion of males \n",
    "male_mean = male_survey.extroversion.mean()\n",
    "print(male_mean)\n",
    "\n",
    "# Calculate mean extroversion of females \n",
    "female_mean = female_survey.extroversion.mean()\n",
    "print(female_mean)"
   ]
  },
  {
   "cell_type": "code",
   "execution_count": null,
   "id": "2a3e5023-2a11-42ec-9723-97ab053a19bd",
   "metadata": {},
   "outputs": [],
   "source": [
    "# Calculate mean extroversion of males \n",
    "male_mean = male_survey.extroversion.mean()\n",
    "\n",
    "# Calculate mean extroversion of females \n",
    "female_mean = female_survey.extroversion.mean()\n",
    "\n",
    "# Test normality for males\n",
    "male_norm = stats.shapiro(male_survey.extroversion)\n",
    "print(male_norm)\n",
    "\n",
    "# Test normality for females\n",
    "female_norm = stats.shapiro(female_survey.extroversion)\n",
    "print(female_norm)"
   ]
  },
  {
   "cell_type": "code",
   "execution_count": null,
   "id": "9c374e7d-56de-4472-a3e0-134fbf6b0a44",
   "metadata": {},
   "outputs": [],
   "source": [
    "# Calculate mean extroversion of males \n",
    "male_mean = male_survey.extroversion.mean()\n",
    "\n",
    "# Calculate mean extroversion of females \n",
    "female_mean = female_survey.extroversion.mean()\n",
    "\n",
    "# Test normality for males\n",
    "male_norm = stats.shapiro(male_survey.extroversion)\n",
    "\n",
    "# Test normality for females\n",
    "female_norm = stats.shapiro(female_survey.extroversion)\n",
    "\n",
    "# Test of equal variance\n",
    "variance_test = stats.levene(male_survey.extroversion,female_survey.extroversion)\n",
    "print(variance_test)"
   ]
  },
  {
   "cell_type": "markdown",
   "id": "da8de05f-f6b9-4e0b-9ef9-218eccd933e1",
   "metadata": {},
   "source": [
    "### Mental health in tech survey"
   ]
  },
  {
   "cell_type": "code",
   "execution_count": null,
   "id": "7848b918-5d81-443b-9a39-9237f495f050",
   "metadata": {},
   "outputs": [],
   "source": [
    "# Perform cross tabulation and assign to variable, cross_table\n",
    "cross_table = pd.crosstab(tech_mh.anonymity_protected, tech_mh.discuss_with_supervisor)\n",
    "\n",
    "print(cross_table)\n"
   ]
  },
  {
   "cell_type": "code",
   "execution_count": null,
   "id": "fa55ac95-bc92-427f-ad94-bc48db044a88",
   "metadata": {},
   "outputs": [],
   "source": [
    "# Perform cross tabulation and assign to variable, cross_table\n",
    "cross_table = pd.crosstab(tech_mh.anonymity_protected, tech_mh.discuss_with_supervisor)\n",
    "\n",
    "# Conduct the chi-square analysis\n",
    "chi_analysis = st.chi2_contingency(cross_table)\n",
    "\n",
    "print(chi_analysis)"
   ]
  },
  {
   "cell_type": "markdown",
   "id": "44537d86-b50d-42cf-a08a-ee25c5502bc6",
   "metadata": {},
   "source": [
    "### Mental health vs. remote work"
   ]
  },
  {
   "cell_type": "code",
   "execution_count": null,
   "id": "1f593f9f-be46-48fa-bc0d-22026b23af2f",
   "metadata": {},
   "outputs": [],
   "source": [
    "# Perform cross tabulation and assign to variable, cross_table\n",
    "cross_table = pd.crosstab(tech_mh.work_remotely, tech_mh.current_condition)\n",
    "\n",
    "# Conduct chi-square analysis\n",
    "chi_analysis = st.chi2_contingency(cross_table)\n",
    "\n",
    "print(chi_analysis)\n"
   ]
  },
  {
   "cell_type": "code",
   "execution_count": null,
   "id": "c095a5b3-d936-4db5-9391-cf5f9e7dd1e9",
   "metadata": {},
   "outputs": [],
   "source": [
    "# Perform cross tabulation and assign to variable, cross_table\n",
    "cross_table = pd.crosstab(tech_mh.work_remotely, tech_mh.current_condition)\n",
    "\n",
    "# Conduct chi-square analysis\n",
    "chi_analysis = st.chi2_contingency(cross_table)\n",
    "\n",
    "# Record p-value and expected frequencies\n",
    "p_value = chi_analysis[1]\n",
    "expected_freq = chi_analysis[3]\n",
    "\n",
    "print(p_value)\n",
    "print(expected_freq)"
   ]
  },
  {
   "cell_type": "code",
   "execution_count": null,
   "id": "658bc3a6-46fd-45c1-8cf6-f5496346d4cc",
   "metadata": {},
   "outputs": [],
   "source": []
  },
  {
   "cell_type": "code",
   "execution_count": null,
   "id": "7b7181d1-5e53-4073-b2d6-64ddcf1d2ffe",
   "metadata": {},
   "outputs": [],
   "source": []
  },
  {
   "cell_type": "code",
   "execution_count": null,
   "id": "9a159b18-1e44-477f-9643-8c712c25dbe4",
   "metadata": {},
   "outputs": [],
   "source": []
  }
 ],
 "metadata": {
  "kernelspec": {
   "display_name": "Python 3 (ipykernel)",
   "language": "python",
   "name": "python3"
  },
  "language_info": {
   "codemirror_mode": {
    "name": "ipython",
    "version": 3
   },
   "file_extension": ".py",
   "mimetype": "text/x-python",
   "name": "python",
   "nbconvert_exporter": "python",
   "pygments_lexer": "ipython3",
   "version": "3.11.7"
  }
 },
 "nbformat": 4,
 "nbformat_minor": 5
}
