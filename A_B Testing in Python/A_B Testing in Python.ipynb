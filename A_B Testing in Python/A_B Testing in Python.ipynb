{
 "cells": [
  {
   "cell_type": "markdown",
   "id": "ae7248ea-c944-4e7b-880a-4e931bde3c9a",
   "metadata": {},
   "source": [
    "### Randomization effects"
   ]
  },
  {
   "cell_type": "code",
   "execution_count": null,
   "id": "9321e320-b350-4937-a667-f72dd302b8e5",
   "metadata": {},
   "outputs": [],
   "source": [
    "# Determine the normalized distribution of browser counts\n",
    "checkout['browser'].value_counts(normalize = True)"
   ]
  },
  {
   "cell_type": "code",
   "execution_count": null,
   "id": "4f98cb1f-069a-48bc-8415-4f1b16ad4819",
   "metadata": {},
   "outputs": [],
   "source": [
    "# Determine the normalized distribution of browser counts\n",
    "checkout['browser'].value_counts(normalize = True)\n",
    "\n",
    "# Draw a random sample of rows\n",
    "sample_df = checkout.sample(n = 2000)"
   ]
  },
  {
   "cell_type": "code",
   "execution_count": null,
   "id": "cb4a8a04-9a2e-4d87-b950-a313b28c9903",
   "metadata": {},
   "outputs": [],
   "source": [
    "# Determine the normalized distribution of browser counts\n",
    "checkout['browser'].value_counts(normalize = True)\n",
    "\n",
    "# Draw a random sample of rows\n",
    "sample_df = checkout.sample(n = 2000)\n",
    "\n",
    "# Check the counts distribution of sampled users' browsers\n",
    "sample_df['browser'].value_counts(normalize = True)"
   ]
  },
  {
   "cell_type": "code",
   "execution_count": null,
   "id": "ee996f60-f79a-4793-8de6-ded70019ffb0",
   "metadata": {},
   "outputs": [],
   "source": [
    "# Determine the normalized distribution of browser counts\n",
    "checkout['browser'].value_counts(normalize = True)\n",
    "\n",
    "# Draw a random sample of rows\n",
    "sample_df = checkout.sample(n = 2000)\n",
    "\n",
    "# Check the counts distribution of sampled users' browsers\n",
    "sample_df['browser'].value_counts(normalize = True)\n",
    "\n",
    "# Check the counts distribution of browsers across checkout pages\n",
    "checkout.groupby('checkout_page')['browser'].value_counts(normalize = True)"
   ]
  },
  {
   "cell_type": "markdown",
   "id": "acdcce2e-6913-4497-bae8-200973830695",
   "metadata": {},
   "source": [
    "### Correlation visualization"
   ]
  },
  {
   "cell_type": "code",
   "execution_count": null,
   "id": "0a7c8d7a-2d4c-4d72-b3fe-6baf0f675c60",
   "metadata": {},
   "outputs": [],
   "source": [
    "# Import seaborn for visualization\n",
    "import seaborn as sns\n",
    "\n",
    "# Visualize the variables in a pairplot\n",
    "sns.pairplot(admissions[['Serial No.', 'TOEFL Score', 'SOP', 'Chance of Admit']])\n",
    "plt.show()"
   ]
  },
  {
   "cell_type": "code",
   "execution_count": null,
   "id": "586d32fb-e16d-42e7-84c9-1c57d2d6fd4a",
   "metadata": {},
   "outputs": [],
   "source": [
    "# Import seaborn for visualization\n",
    "import seaborn as sns\n",
    "\n",
    "# Print Pearson's correlation coefficients\n",
    "print(admissions[['Serial No.', 'TOEFL Score', 'SOP','Chance of Admit']].corr())"
   ]
  },
  {
   "cell_type": "code",
   "execution_count": null,
   "id": "9d45bd32-c7cc-4c88-b54f-8af8747d0629",
   "metadata": {},
   "outputs": [],
   "source": [
    "# Import seaborn for visualization\n",
    "import seaborn as sns\n",
    "\n",
    "# Visualize the coefficients in a heatmap\n",
    "sns.heatmap(admissions[['Serial No.', 'TOEFL Score', 'SOP','Chance of Admit']].corr(), annot = True)\n",
    "plt.show()"
   ]
  },
  {
   "cell_type": "markdown",
   "id": "6221b149-9456-4cb7-b78b-31c8c5d3b184",
   "metadata": {},
   "source": [
    "### Means and proportions"
   ]
  },
  {
   "cell_type": "code",
   "execution_count": null,
   "id": "d60ec357-d397-4505-ba21-9e8b232e3650",
   "metadata": {},
   "outputs": [],
   "source": [
    "# Calculate the mean order value for each group\n",
    "checkout.groupby('checkout_page')['order_value'].mean()"
   ]
  },
  {
   "cell_type": "code",
   "execution_count": null,
   "id": "0a1c54e5-84b3-4e6d-843c-f4f0072c7f92",
   "metadata": {},
   "outputs": [],
   "source": [
    "# Calculate the mean order value for each group\n",
    "checkout.groupby('checkout_page')['purchased'].mean()"
   ]
  },
  {
   "cell_type": "code",
   "execution_count": null,
   "id": "13044915-29ae-4189-9ec9-8fbd43d36fc1",
   "metadata": {},
   "outputs": [],
   "source": [
    "# Calculate the proportion of users who purchased and the mean order value\n",
    "checkout.groupby('checkout_page')[['order_value', 'purchased']].mean()"
   ]
  },
  {
   "cell_type": "markdown",
   "id": "043330b3-66cf-4f2e-97f6-aad9502b7301",
   "metadata": {},
   "source": [
    "### Ad impressions metrics"
   ]
  },
  {
   "cell_type": "code",
   "execution_count": null,
   "id": "6b1203b2-1dc8-4669-a678-4aa7c821be30",
   "metadata": {},
   "outputs": [],
   "source": [
    "# Filter on users who responded\n",
    "AdSmart_Responded = AdSmart[(AdSmart['yes'] == 1) | (AdSmart['no'] == 1)]"
   ]
  },
  {
   "cell_type": "code",
   "execution_count": null,
   "id": "10eeea83-93d0-44e7-b1cc-da1018ff9ab8",
   "metadata": {},
   "outputs": [],
   "source": [
    "# Filter on users who responded \n",
    "AdSmart_Responded = AdSmart[(AdSmart['yes'] == 1) | (AdSmart['no'] == 1)]\n",
    "\n",
    "# Find the counts of yes after 2020-07-05 per experiment\n",
    "AdSmart_Responded[AdSmart_Responded['date'] > '2020-07-05'].groupby('experiment').count()"
   ]
  },
  {
   "cell_type": "code",
   "execution_count": null,
   "id": "e13d73d7-4777-4255-9fc8-837970a01a37",
   "metadata": {},
   "outputs": [],
   "source": [
    "# Filter on users who responded \n",
    "AdSmart_Responded = AdSmart[(AdSmart['yes'] == 1) | (AdSmart['no'] == 1)]\n",
    "\n",
    "# Find the counts of yes after 2020-07-05 per experiment\n",
    "AdSmart_Responded[(AdSmart_Responded['date'] > '2020-07-05')].groupby('experiment').count()\n",
    "\n",
    "# Proportion of users who responded 'yes' by experiment type\n",
    "proportion_yes_per_experiment = AdSmart_Responded.groupby('experiment')['yes'].mean()"
   ]
  },
  {
   "cell_type": "code",
   "execution_count": null,
   "id": "4d4c917a-9f18-4cfd-9380-8b0d094f1dbc",
   "metadata": {},
   "outputs": [],
   "source": [
    "# Filter on users who responded \n",
    "AdSmart_Responded = AdSmart[(AdSmart['yes'] == 1) | (AdSmart['no'] == 1)]\n",
    "\n",
    "# Find the counts of yes after 2020-07-05 per experiment\n",
    "AdSmart_Responded[(AdSmart_Responded['date'] > '2020-07-05')].groupby('experiment').count()\n",
    "\n",
    "# Proportion of users who responded 'yes' by experiment type\n",
    "AdSmart_Responded.groupby('experiment')['yes'].mean()\n",
    "\n",
    "# Proportion of users who responded 'yes' by experiment type and platform OS\n",
    "proportion_yes_per_experiment_os = AdSmart_Responded.groupby(['experiment', 'platform_os'])['yes'].mean()"
   ]
  },
  {
   "cell_type": "markdown",
   "id": "f12d3a26-366e-4d5b-8669-e7c731fa9654",
   "metadata": {},
   "source": [
    "### Plotting distributions"
   ]
  },
  {
   "cell_type": "code",
   "execution_count": null,
   "id": "8c4bb2c3-6841-4beb-81c8-f1caa7132588",
   "metadata": {},
   "outputs": [],
   "source": [
    "from scipy.stats import binom \n",
    "\n",
    "# Plot a binomial distribution\n",
    "p = 0.6\n",
    "n = 3000 \n",
    "\n",
    "x = np.arange(n*p - 100, n*p + 100) \n",
    "binom_a = binom.pmf(x, n, p)\n",
    "\n",
    "plt.bar(x, binom_a)\n",
    "plt.xlabel('Purchased')\n",
    "plt.ylabel('PMF')\n",
    "plt.show()"
   ]
  },
  {
   "cell_type": "code",
   "execution_count": null,
   "id": "91762a16-f8a8-44d0-95d7-8a85c7f1db2f",
   "metadata": {},
   "outputs": [],
   "source": [
    "from scipy.stats import norm\n",
    "import seaborn as sns\n",
    "\n",
    "# Plot a normal distribution\n",
    "mean = 0\n",
    "sd = 1\n",
    "\n",
    "x = np.linspace(-4, 4, 500)\n",
    "norm_a = norm.pdf(x, mean, sd)\n",
    "\n",
    "sns.lineplot(x, norm_a)\n",
    "plt.xlabel('x')\n",
    "plt.ylabel('PDF')\n",
    "plt.show()"
   ]
  },
  {
   "cell_type": "markdown",
   "id": "38f66c3d-7ee9-48c6-9d25-a9271d9113bf",
   "metadata": {},
   "source": [
    "### Central limit theorem for means"
   ]
  },
  {
   "cell_type": "code",
   "execution_count": null,
   "id": "9457e79c-eb66-4709-be02-53bc19f20b57",
   "metadata": {},
   "outputs": [],
   "source": [
    "np.random.seed(47)\n",
    "\n",
    "# Create an empty list, then a for loop for 1000 samples of size 5\n",
    "sampled_means = []\n",
    "\n",
    "for i in range(1000):\n",
    "    sample = checkout[checkout['checkout_page']=='A']['order_value'].sample(5, replace=True)"
   ]
  },
  {
   "cell_type": "code",
   "execution_count": null,
   "id": "d4bec9ec-0510-4f6a-b7df-19d229be8ec7",
   "metadata": {},
   "outputs": [],
   "source": [
    "np.random.seed(47)\n",
    "\n",
    "# Create an empty list, then a for loop for 1000 samples of size 5\n",
    "sampled_means = []\n",
    "\n",
    "for i in range(1000):\n",
    "    sample = checkout[checkout['checkout_page']=='A']['order_value'].sample(5, replace=True)\n",
    "    # Get the sample mean and append to list\n",
    "    sample_mean = np.mean(sample)\n",
    "    sampled_means.append(sample_mean)"
   ]
  },
  {
   "cell_type": "code",
   "execution_count": null,
   "id": "af69db33-fbfd-48e3-a857-ead1d69d7128",
   "metadata": {},
   "outputs": [],
   "source": [
    "np.random.seed(47)\n",
    "\n",
    "# Create an empty list, then a for loop for 1000 samples of size 5\n",
    "sampled_means = []\n",
    "\n",
    "for i in range(1000):\n",
    "    sample = checkout[checkout['checkout_page']=='A']['order_value'].sample(5, replace=True)\n",
    "    # Get the sample mean and append to list\n",
    "    sample_mean = np.mean(sample)\n",
    "    sampled_means.append(sample_mean)\n",
    "    \n",
    "# Plot distribution\n",
    "sns.displot(sampled_means, kde=True)\n",
    "plt.show()"
   ]
  },
  {
   "cell_type": "markdown",
   "id": "55e88609-e8d2-4da3-b004-a724ecc77ec8",
   "metadata": {},
   "source": [
    "### Plotting power curves"
   ]
  },
  {
   "cell_type": "code",
   "execution_count": null,
   "id": "a7d53265-13ea-4793-b7a3-696c4ff71544",
   "metadata": {},
   "outputs": [],
   "source": [
    "from statsmodels.stats.power import TTestIndPower\n",
    "\n",
    "# Specify parameters for power analysis\n",
    "sample_sizes = np.array(range(10,600))\n",
    "effect_sizes = np.array([0.1,0.2,0.3])"
   ]
  },
  {
   "cell_type": "code",
   "execution_count": null,
   "id": "a03aa19c-0e3a-4385-98b1-3bc20ad20297",
   "metadata": {},
   "outputs": [],
   "source": [
    "from statsmodels.stats.power import TTestIndPower\n",
    "\n",
    "# Specify parameters for power analysis\n",
    "sample_sizes = np.array(range(10, 600))\n",
    "effect_sizes = np.array([0.1, 0.2, 0.3])\n",
    "\n",
    "# Plot power curves\n",
    "TTestIndPower().plot_power(nobs=sample_sizes, effect_size=effect_sizes)\n",
    "plt.show()"
   ]
  },
  {
   "cell_type": "code",
   "execution_count": null,
   "id": "707c4d03-0083-440d-8c41-1f2fa298a2c8",
   "metadata": {},
   "outputs": [],
   "source": [
    "from statsmodels.stats.power import TTestIndPower\n",
    "\n",
    "# Adjust the parameters for power analysis\n",
    "sample_sizes = np.array(range(10,2000))\n",
    "effect_sizes = np.array([0.1, 0.2, 0.3])\n",
    "\n",
    "# Plot power curves\n",
    "TTestIndPower().plot_power(nobs=sample_sizes, effect_size=effect_sizes)\n",
    "plt.show()"
   ]
  },
  {
   "cell_type": "markdown",
   "id": "8d450eb1-e414-4860-a6d9-04e8210b2b91",
   "metadata": {},
   "source": [
    "### Sample size for means"
   ]
  },
  {
   "cell_type": "code",
   "execution_count": null,
   "id": "9bb6d260-b2d2-4819-9e0f-65292682b222",
   "metadata": {},
   "outputs": [],
   "source": [
    "# Calculate and print the baseline mean and standard deviation\n",
    "mean_B = checkout[checkout['checkout_page'] == 'B']['order_value'].mean()\n",
    "print(\"Mean order value for checkout page 'B':\", mean_B)\n",
    "\n",
    "std_B = checkout[checkout['checkout_page'] == 'B']['order_value'].std()\n",
    "print(\"Standard deviation of order value for checkout page 'B':\", std_B)\n"
   ]
  },
  {
   "cell_type": "code",
   "execution_count": null,
   "id": "c253e4d1-23a6-41c8-a985-a42afa5e2895",
   "metadata": {},
   "outputs": [],
   "source": [
    "# Calculate and print the baseline mean and standard deviation\n",
    "mean_B = checkout[checkout['checkout_page']=='B']['order_value'].mean()\n",
    "print(mean_B)\n",
    "\n",
    "std_B = checkout[checkout['checkout_page']=='B']['order_value'].std()\n",
    "print(std_B)\n",
    "\n",
    "# Define mean_new and calculate the standardized effect size\n",
    "mean_new = 31\n",
    "\n",
    "std_effect_size = (mean_new-mean_B)/std_B\n",
    "print(std_effect_size)"
   ]
  },
  {
   "cell_type": "code",
   "execution_count": null,
   "id": "005b6059-f903-47d0-bc81-5f6edcd1d1c9",
   "metadata": {},
   "outputs": [],
   "source": [
    "# Calculate and print the baseline mean and standard deviation\n",
    "mean_B = checkout[checkout['checkout_page']=='B']['order_value'].mean()\n",
    "print(mean_B)\n",
    "\n",
    "std_B = checkout[checkout['checkout_page']=='B']['order_value'].std()\n",
    "print(std_B)\n",
    "\n",
    "# Define mean_new and calculate the standardized effect size\n",
    "mean_new = 31\n",
    "\n",
    "std_effect_size=(mean_new-mean_B)/std_B\n",
    "print(std_effect_size)\n",
    "\n",
    "# Calculate the required sample size\n",
    "sample_size = power.TTestIndPower().solve_power(effect_size=std_effect_size, power=.80, alpha=.05, nobs1=None)\n",
    "\n",
    "print(sample_size)"
   ]
  },
  {
   "cell_type": "markdown",
   "id": "b68b28fb-18c0-4aad-8a3b-5e06cab7e2d2",
   "metadata": {},
   "source": [
    "### Sample size for proportions"
   ]
  },
  {
   "cell_type": "code",
   "execution_count": null,
   "id": "cc405417-e3d2-4bd9-b64f-9c06c82c653e",
   "metadata": {},
   "outputs": [],
   "source": [
    "# Calculate the baseline signup rate for group A\n",
    "p_A = homepage[homepage['landing_page'] == 'A']['signup'].mean()\n",
    "print('Group A mean signup rate:', p_A)"
   ]
  },
  {
   "cell_type": "code",
   "execution_count": null,
   "id": "6b1ec913-3ffb-43ec-9937-de558b1b95b9",
   "metadata": {},
   "outputs": [],
   "source": [
    "# Calculate the baseline signup rate for group A\n",
    "p_A = homepage[homepage['landing_page']=='A']['signup'].mean()\n",
    "print('Group A mean signup rate:',p_A)\n",
    "\n",
    "# Define p_new and calculate standardized effect size\n",
    "p_new = 0.07\n",
    "\n",
    "effect_size_std = proportion_effectsize(p_new,p_A)\n",
    "print(effect_size_std)"
   ]
  },
  {
   "cell_type": "code",
   "execution_count": null,
   "id": "3437e707-34be-4908-92e5-18f6e5270833",
   "metadata": {},
   "outputs": [],
   "source": [
    "# Calculate the baseline signup rate for group A\n",
    "p_A=homepage[homepage['landing_page']=='A']['signup'].mean()\n",
    "print('Group A mean signup rate:',p_A)\n",
    "\n",
    "# Define p_new and calculate standardized effect size\n",
    "p_new = 0.07\n",
    "\n",
    "effect_size_std = proportion_effectsize(p_new, p_A)\n",
    "print(effect_size_std)\n",
    "\n",
    "# Calculate the required sample size per group\n",
    "sample_size = power.TTestIndPower().solve_power(effect_size=effect_size_std, power=.80, alpha=.05, nobs1=None)\n",
    "\n",
    "print(round(sample_size, 1))"
   ]
  },
  {
   "cell_type": "markdown",
   "id": "e752e451-16ed-4c39-aeca-a040321bba3b",
   "metadata": {},
   "source": [
    "### Corrected p-values"
   ]
  },
  {
   "cell_type": "code",
   "execution_count": null,
   "id": "7bcdaa95-7c87-4aee-bc14-f84e0ad725f6",
   "metadata": {},
   "outputs": [],
   "source": [
    "import statsmodels.stats.multitest as smt\n",
    "\n",
    "pvals = [0.0126, 0.0005, 0.00007, 0.009]\n",
    "\n",
    "# Perform a Bonferroni correction and print the output\n",
    "corrected = smt.multipletests(pvals, alpha = 0.05, method = 'bonferroni')\n",
    "\n",
    "print('Significant Test:', corrected[0])\n",
    "print('Corrected P-values:', corrected[1])\n",
    "print('Bonferroni Corrected alpha: {:.4f}'.format(corrected[3]))"
   ]
  },
  {
   "cell_type": "code",
   "execution_count": null,
   "id": "4a2cb193-a529-4a8d-b86b-cf6f61344001",
   "metadata": {},
   "outputs": [],
   "source": [
    "import statsmodels.stats.multitest as smt\n",
    "\n",
    "pvals=[0.0126, 0.0005, 0.00007, 0.009]\n",
    "\n",
    "# Perform a Sidak correction and print the output\n",
    "corrected = smt.multipletests(pvals, alpha = 0.05, method = 'sidak')\n",
    "\n",
    "print('Significant Test:', corrected[0])\n",
    "print('Corrected P-values:', corrected[1])\n",
    "print('Sidak Corrected alpha: {:.4f}'.format(corrected[3]))"
   ]
  },
  {
   "cell_type": "markdown",
   "id": "ca7bb695-3c41-4236-92ac-d5a8cca6d4f0",
   "metadata": {},
   "source": [
    "### Proportions EDA"
   ]
  },
  {
   "cell_type": "code",
   "execution_count": null,
   "id": "53c966aa-0277-4184-8ac6-3d45fc988323",
   "metadata": {},
   "outputs": [],
   "source": [
    "# Calculate the mean, standard deviation and count\n",
    "checkout.groupby('checkout_page')['purchased'].agg({'mean','std','count'})"
   ]
  },
  {
   "cell_type": "code",
   "execution_count": null,
   "id": "91da0cdf-9b7d-49c9-9e9d-b65ab61d305c",
   "metadata": {},
   "outputs": [],
   "source": [
    "# Calculate the mean, standard deviation and count\n",
    "checkout.groupby('checkout_page')['purchased'].agg({'mean','std','count'})\n",
    "\n",
    "# Create a bar plot of average purchase rate per checkout page\n",
    "sns.barplot(x=checkout['checkout_page'], y=checkout['purchased'], estimator=np.mean)\n",
    "plt.ylim(0, 1)\n",
    "plt.title('Purchase Rate per Checkout Page Variant')\n",
    "plt.xlabel('Checkout Page Variant')\n",
    "plt.ylabel('Purchase Rate')\n",
    "plt.show()"
   ]
  },
  {
   "cell_type": "code",
   "execution_count": null,
   "id": "d8f1860f-1691-4277-be81-362700511717",
   "metadata": {},
   "outputs": [],
   "source": [
    "# Calculate the mean, standard deviation and count\n",
    "checkout.groupby('checkout_page')['purchased'].agg({'mean','std','count'})\n",
    "\n",
    "# Create a bar plot of average purchase rate per checkout page\n",
    "sns.barplot(x=checkout['checkout_page'], y=checkout['purchased'], estimator=np.mean)\n",
    "plt.ylim(0, 1)\n",
    "plt.title('Purchase Rate per Checkout Page Variant')\n",
    "plt.xlabel('Checkout Page Variant')\n",
    "plt.ylabel('Purchase Rate')\n",
    "\n",
    "# This code clears the bar plot\n",
    "plt.clf()\n",
    "\n",
    "# Plot the proportion of 'no' responses over experiment duration\n",
    "sns.lineplot(data=AdSmart, x='date', y='no', hue='experiment', ci=False)\n",
    "plt.show()"
   ]
  },
  {
   "cell_type": "markdown",
   "id": "239f440e-2790-4d51-83af-7765bf44ca9f",
   "metadata": {},
   "source": [
    "### A/B test data cleaning"
   ]
  },
  {
   "cell_type": "code",
   "execution_count": null,
   "id": "7c75ef71-ba99-4fae-9f0d-59903fe224f0",
   "metadata": {},
   "outputs": [],
   "source": [
    "# Check for duplicate rows due to logging issues \n",
    "print(len(AdSmart))\n",
    "print(len(AdSmart.drop_duplicates(keep='first')))"
   ]
  },
  {
   "cell_type": "code",
   "execution_count": null,
   "id": "9ae93769-7a6b-4639-aa86-729d42c6a761",
   "metadata": {},
   "outputs": [],
   "source": [
    "# Check for duplicate rows due to logging issues \n",
    "print(len(AdSmart))\n",
    "print(len(AdSmart.drop_duplicates(keep='first')))\n",
    "\n",
    "# Calculate the unique users in group B and compute the metrics\n",
    "print(homepage[homepage['landing_page'] == 'B']['user_id'].nunique())\n",
    "\n",
    "print(homepage[homepage['landing_page'] == 'B'].groupby('user_id')['signup'].any().sum())\n",
    "\n",
    "print(homepage[homepage['landing_page'] == 'B']['signup'].sum())"
   ]
  },
  {
   "cell_type": "markdown",
   "id": "1ee01b32-3324-45da-9613-19492e48b964",
   "metadata": {},
   "source": [
    "### SRM"
   ]
  },
  {
   "cell_type": "code",
   "execution_count": null,
   "id": "52d1a0c7-2f0f-41df-9eec-1f1bbe9c62c0",
   "metadata": {},
   "outputs": [],
   "source": [
    "# Assign the unqiue counts to each variant\n",
    "control_users = checkout[checkout['checkout_page'] == 'A']['user_id'].nunique()\n",
    "treatment_users = checkout[checkout['checkout_page'] == 'B']['user_id'].nunique()\n",
    "total_users = control_users + treatment_users\n",
    "print(\"Control unique users:\",control_users)\n",
    "print(\"Control unique users:\",treatment_users)"
   ]
  },
  {
   "cell_type": "code",
   "execution_count": null,
   "id": "33cb46a9-7525-4ead-919f-133ed053c7f0",
   "metadata": {},
   "outputs": [],
   "source": [
    "# Assign the unqiue counts to each variant\n",
    "control_users = checkout[checkout['checkout_page'] == 'A']['user_id'].nunique()\n",
    "treatment_users = checkout[checkout['checkout_page'] == 'B']['user_id'].nunique()\n",
    "total_users = control_users + treatment_users\n",
    "\n",
    "print(\"Control unique users:\",control_users)\n",
    "print(\"Control unique users:\",treatment_users)\n",
    "\n",
    "# Calculate the percentages and create two lists\n",
    "control_perc = control_users / total_users\n",
    "treatment_perc = treatment_users / total_users\n",
    "print(\"Percentage of users in the Control group:\",100*round(control_perc,5),\"%\")\n",
    "print(\"Percentage of users in the Exposed group:\",100*round(treatment_perc,5),\"%\")\n",
    "\n",
    "observed = [control_users, treatment_users]\n",
    "expected = [2939.0, 2939.0]"
   ]
  },
  {
   "cell_type": "code",
   "execution_count": null,
   "id": "94d31b7e-011c-4e32-8f96-f7c07ccf978e",
   "metadata": {},
   "outputs": [],
   "source": [
    "# Assign the unqiue counts to each variant\n",
    "control_users = checkout[checkout['checkout_page'] == 'A']['user_id'].nunique()\n",
    "treatment_users = checkout[checkout['checkout_page'] == 'B']['user_id'].nunique()\n",
    "total_users = control_users + treatment_users\n",
    "print(\"Control unique users:\",control_users)\n",
    "print(\"Control unique users:\",treatment_users)\n",
    "\n",
    "# Calculate the percentages and create two lists\n",
    "control_perc = control_users / total_users\n",
    "treatment_perc = treatment_users / total_users\n",
    "print(\"Percentage of users in the Control group:\",100*round(control_perc,5),\"%\")\n",
    "print(\"Percentage of users in the Exposed group:\",100*round(treatment_perc,5),\"%\")\n",
    "\n",
    "observed = [ control_users, treatment_users ]\n",
    "expected = [ total_users/2, total_users/2 ]\n",
    "\n",
    "# Run chisquare test on observed and expected lists and print the results\n",
    "chi = chisquare(observed, f_exp=expected)\n",
    "\n",
    "print(chi)\n",
    "if chi[1] < 0.01:\n",
    "    print(\"SRM may be present\")\n",
    "else:\n",
    "    print(\"SRM likely not present\")"
   ]
  },
  {
   "cell_type": "markdown",
   "id": "b382fec5-a2a6-4647-8a31-6a7eb8aad887",
   "metadata": {},
   "source": [
    "### Distributions balance"
   ]
  },
  {
   "cell_type": "code",
   "execution_count": null,
   "id": "69cc5884-70a9-4600-8f9c-f37bfde25ebb",
   "metadata": {},
   "outputs": [],
   "source": [
    "# Check the distribution of platform_os by experiment groups\n",
    "AdSmart.groupby('experiment')['platform_os'].value_counts(normalize=True)\n"
   ]
  },
  {
   "cell_type": "code",
   "execution_count": null,
   "id": "f619a0f6-50af-4d67-8142-41053be31570",
   "metadata": {},
   "outputs": [],
   "source": [
    "# Check the distribution of gender by checkout_page\n",
    "checkout.groupby('checkout_page')['gender'].value_counts(normalize=True)\n"
   ]
  },
  {
   "cell_type": "markdown",
   "id": "95d7bb16-1afe-48a8-b529-4a85216a54e9",
   "metadata": {},
   "source": [
    "### Novelty effects detection"
   ]
  },
  {
   "cell_type": "code",
   "execution_count": null,
   "id": "2e8c0082-5833-4bfc-9d22-5f04cc27e303",
   "metadata": {},
   "outputs": [],
   "source": [
    "# Plot ToP_lift over the test dates\n",
    "novelty.plot('date', 'ToP_lift')\n",
    "plt.title('Lift in Time-on-Page Over Test Duration')\n",
    "plt.ylabel('Minutes')\n",
    "plt.ylim([0, 20])\n",
    "plt.show()"
   ]
  },
  {
   "cell_type": "code",
   "execution_count": null,
   "id": "0157c286-4af8-42d9-9561-9419e85ba740",
   "metadata": {},
   "outputs": [],
   "source": [
    "# Plot ToP_lift over the test dates\n",
    "novelty.plot('date', 'ToP_lift')\n",
    "# Add a vertical dashed line\n",
    "plt.axvline(x='2023-01-04',color='c',linestyle='dashed')\n",
    "plt.title('Lift in Time On Page Over Test Duration')\n",
    "plt.ylabel('Minutes')\n",
    "plt.ylim([0, 20])\n",
    "plt.show()"
   ]
  },
  {
   "cell_type": "markdown",
   "id": "3becbbcd-4ea6-4665-908f-310d62a38c84",
   "metadata": {},
   "source": [
    "### Simpson's paradox in action"
   ]
  },
  {
   "cell_type": "code",
   "execution_count": null,
   "id": "449b1c2a-b3cf-48d1-8f13-a60f4acee017",
   "metadata": {},
   "outputs": [],
   "source": [
    "# Calculate the conversion rate per variant and then browser\n",
    "imbalanced_variant_rate = simp_imbalanced.groupby('Variant')['Conversion'].mean()\n",
    "imbalanced_variant_browser_rate = simp_imbalanced.groupby(['Variant', 'Browser'])['Conversion'].mean()\n",
    "\n",
    "print(imbalanced_variant_rate)\n",
    "print(imbalanced_variant_browser_rate)"
   ]
  },
  {
   "cell_type": "code",
   "execution_count": null,
   "id": "b522beb5-de06-475a-812b-a8d2262b22b5",
   "metadata": {},
   "outputs": [],
   "source": [
    "# Calculate the conversion rate per variant and then browser\n",
    "imbalanced_variant_rate = simp_imbalanced.groupby('Variant')['Conversion'].mean()\n",
    "imbalanced_variant_browser_rate = simp_imbalanced.groupby(['Variant','Browser'])['Conversion'].mean()\n",
    "\n",
    "print(imbalanced_variant_rate)\n",
    "print(imbalanced_variant_browser_rate)\n",
    "\n",
    "# Examine the counts of browser types per variant\n",
    "imbalanced_variant_browser_count = simp_imbalanced.groupby(['Variant','Browser'])['Browser'].count()\n",
    "\n",
    "print(imbalanced_variant_browser_count)"
   ]
  },
  {
   "cell_type": "code",
   "execution_count": null,
   "id": "3d5451c7-553b-476e-8e95-797b2c7cd7dd",
   "metadata": {},
   "outputs": [],
   "source": [
    "# Calculate the conversion rate per variant and then browser\n",
    "imbalanced_variant_rate = simp_imbalanced.groupby('Variant')['Conversion'].mean()\n",
    "imbalanced_variant_browser_rate = simp_imbalanced.groupby(['Variant','Browser'])['Conversion'].mean()\n",
    "\n",
    "print(imbalanced_variant_rate)\n",
    "print(imbalanced_variant_browser_rate)\n",
    "\n",
    "# Examine the counts of browser types per variant\n",
    "imbalanced_variant_browser_count = simp_imbalanced.groupby(['Variant','Browser'])['Browser'].count()\n",
    "\n",
    "print(imbalanced_variant_browser_count)\n",
    "\n",
    "# Repeat the calcluation for the balanced dataset\n",
    "balanced_variant_rate = simp_balanced.groupby('Variant')['Conversion'].mean()\n",
    "balanced_variant_browser_rate = simp_balanced.groupby(['Variant','Browser'])['Conversion'].mean()\n",
    "balanced_variant_browser_count = simp_balanced.groupby(['Variant','Browser'])['Browser'].count()\n",
    "\n",
    "print(balanced_variant_rate)\n",
    "print(balanced_variant_browser_rate)\n",
    "print(balanced_variant_browser_count)"
   ]
  },
  {
   "cell_type": "markdown",
   "id": "8f5998d2-23a8-4ae7-b6c4-6a3526f6a36d",
   "metadata": {},
   "source": [
    "### Difference in proportions A/B test"
   ]
  },
  {
   "cell_type": "code",
   "execution_count": null,
   "id": "5aadbee5-ff76-4a5b-abd9-c8344ef3fcc8",
   "metadata": {},
   "outputs": [],
   "source": [
    "from statsmodels.stats.proportion import proportions_ztest, proportion_confint\n",
    "\n",
    "# Calculate the number of users in groups C and D\n",
    "n_C = homepage[homepage['landing_page'] == 'C']['signup'].count()\n",
    "n_D = homepage[homepage['landing_page'] == 'D']['signup'].count()\n",
    "print('Group C users:',n_C)\n",
    "print('Group D users:',n_D)"
   ]
  },
  {
   "cell_type": "code",
   "execution_count": null,
   "id": "0c482c9e-10de-4ab5-b3aa-c178688339a8",
   "metadata": {},
   "outputs": [],
   "source": [
    "from statsmodels.stats.proportion import proportions_ztest, proportion_confint\n",
    "\n",
    "# Calculate the number of users in groups C and D\n",
    "n_C = homepage[homepage['landing_page'] == 'C']['user_id'].nunique()\n",
    "n_D = homepage[homepage['landing_page'] == 'D']['user_id'].nunique()\n",
    "print('Group C users:', n_C)\n",
    "print('Group D users:', n_D)\n",
    "\n",
    "# Compute unique signups in each group and assign to lists\n",
    "signup_C = homepage[homepage['landing_page'] == 'C']['signup'].sum()\n",
    "signup_D = homepage[homepage['landing_page'] == 'D']['signup'].sum()\n",
    "\n",
    "signups_abtest = [signup_C, signup_D]\n",
    "n_cdtest = [n_C, n_D]\n"
   ]
  },
  {
   "cell_type": "code",
   "execution_count": null,
   "id": "e6ec6f07-65ed-4fca-8cd9-f595b88a6b9e",
   "metadata": {},
   "outputs": [],
   "source": [
    "from statsmodels.stats.proportion import proportions_ztest, proportion_confint\n",
    "\n",
    "# Calculate the number of users in groups C and D\n",
    "n_C = homepage[homepage['landing_page'] == 'C']['user_id'].nunique()\n",
    "n_D = homepage[homepage['landing_page'] == 'D']['user_id'].nunique()\n",
    "print('Group C users:', n_C)\n",
    "print('Group D users:', n_D)\n",
    "\n",
    "# Compute unique signups in each group and assign to lists\n",
    "signup_C = homepage[homepage['landing_page'] == 'C'].groupby('user_id')['signup'].max().sum()\n",
    "signup_D = homepage[homepage['landing_page'] == 'D'].groupby('user_id')['signup'].max().sum()\n",
    "\n",
    "signups_abtest = [signup_C, signup_D]\n",
    "n_cdtest = [n_C, n_D]\n",
    "\n",
    "# Calculate the z_stat, p-value, and 95% confidence intervals\n",
    "z_stat, pvalue = proportions_ztest(signups_abtest, nobs=n_cdtest)\n",
    "(C_lo95, D_lo95), (C_up95, D_up95) = proportion_confint(signups_abtest, nobs=n_cdtest, alpha=0.05)\n",
    "\n",
    "print(f'p-value: {pvalue:.4f}')\n",
    "print(f'Group C 95% CI : [{C_lo95:.4f}, {C_up95:.4f}]')\n",
    "print(f'Group D 95% CI : [{D_lo95:.4f}, {D_up95:.4f}]')\n"
   ]
  },
  {
   "cell_type": "markdown",
   "id": "12719adc-fe3e-4723-b45f-5c6f599bd312",
   "metadata": {},
   "source": [
    "### Confidence intervals for proportions"
   ]
  },
  {
   "cell_type": "code",
   "execution_count": null,
   "id": "c254d948-d406-47f1-b59f-210fc104cb27",
   "metadata": {},
   "outputs": [],
   "source": [
    "# Calculate the average purchase rate for group A\n",
    "pop_mean = checkout[checkout['checkout_page'] == 'A']['purchased'].mean()\n",
    "print(pop_mean)\n"
   ]
  },
  {
   "cell_type": "code",
   "execution_count": null,
   "id": "76bb9ea7-7ace-4835-8ee2-37ddfe0da15c",
   "metadata": {},
   "outputs": [],
   "source": [
    "# Calculate the average purchase rate for group A\n",
    "pop_mean = checkout[checkout['checkout_page'] == 'A']['purchased'].mean()\n",
    "print(pop_mean)\n",
    "\n",
    "# Calculate 20 90% confidence intervals for 20 random samples of size 100 each\n",
    "for i in range(20):\n",
    "    confidence_interval = proportion_confint(\n",
    "        count=checkout[checkout['checkout_page'] == 'A'].sample(100)['purchased'].sum(), \n",
    "        nobs=100, \n",
    "        alpha=(1 - 0.90))\n",
    "    print(confidence_interval)\n"
   ]
  },
  {
   "cell_type": "code",
   "execution_count": null,
   "id": "8acd6d85-ee32-4c34-882a-c96b5b1a36c3",
   "metadata": {},
   "outputs": [],
   "source": [
    "# Calculate the average purchase rate for group A\n",
    "pop_mean = checkout[checkout['checkout_page'] == 'A']['purchased'].mean()\n",
    "print(pop_mean)\n",
    "\n",
    "# Calculate 20 90% confidence intervals for 20 random samples of size 100 each\n",
    "print(\"90% Confidence Intervals:\")\n",
    "for i in range(20):\n",
    "    confidence_interval = proportion_confint(\n",
    "        count=checkout[checkout['checkout_page'] == 'A'].sample(100)['purchased'].sum(), \n",
    "        nobs=100, \n",
    "        alpha=(1 - 0.90))\n",
    "    print(confidence_interval)\n",
    "\n",
    "# Calculate 20 99% confidence intervals for 20 random samples of size 100 each\n",
    "print(\"\\n99% Confidence Intervals:\")\n",
    "for i in range(20):\n",
    "    confidence_interval = proportion_confint(\n",
    "        count=checkout[checkout['checkout_page'] == 'A'].sample(100)['purchased'].sum(), \n",
    "        nobs=100, \n",
    "        alpha=(1 - 0.99))\n",
    "    print(confidence_interval)\n"
   ]
  },
  {
   "cell_type": "markdown",
   "id": "ccecac5f-8f4b-482e-a6df-d18488ec8b89",
   "metadata": {},
   "source": [
    "### T-test for difference in means"
   ]
  },
  {
   "cell_type": "code",
   "execution_count": null,
   "id": "b604eb3c-0775-4d4a-a595-9312820fee76",
   "metadata": {},
   "outputs": [],
   "source": [
    "# Calculate the mean order values and run a t-test between variants A and B\n",
    "print(checkout.groupby('checkout_page')['order_value'].mean())\n",
    "\n",
    "ttest = pingouin.ttest(x=checkout[checkout['checkout_page']=='A']['order_value'], \n",
    "                       y=checkout[checkout['checkout_page']=='B']['order_value'],\n",
    "                       paired=False,\n",
    "                       alternative=\"two-sided\")\n",
    "print(ttest)"
   ]
  },
  {
   "cell_type": "code",
   "execution_count": null,
   "id": "5917f88b-6fc8-4fed-8b2f-542eb29bf938",
   "metadata": {},
   "outputs": [],
   "source": [
    "# Calculate the mean time on page and run a t-test between variants A and B\n",
    "print(checkout.groupby('checkout_page')['time_on_page'].mean())\n",
    "\n",
    "ttest = pingouin.ttest(x=checkout[checkout['checkout_page']=='A']['time_on_page'], \n",
    "                       y=checkout[checkout['checkout_page']=='B']['time_on_page'],\n",
    "                       paired=False,\n",
    "                       alternative=\"two-sided\")\n",
    "print(ttest)"
   ]
  },
  {
   "cell_type": "code",
   "execution_count": null,
   "id": "ecce2a73-e6f4-4200-a852-d68ce721299d",
   "metadata": {},
   "outputs": [],
   "source": [
    "# Run a t-test for time_on_page between variants A and C\n",
    "ttest = pingouin.ttest(x=checkout[checkout['checkout_page']=='A']['time_on_page'], \n",
    "                       y=checkout[checkout['checkout_page']=='C']['time_on_page'],\n",
    "                       paired=False,\n",
    "                       alternative=\"two-sided\")\n",
    "print(ttest)"
   ]
  },
  {
   "cell_type": "markdown",
   "id": "38e88fa1-a9ba-4d27-b56f-a9d924523c2e",
   "metadata": {},
   "source": [
    "### Pairwise t-tests"
   ]
  },
  {
   "cell_type": "code",
   "execution_count": null,
   "id": "3d043989-7074-42fb-abd7-2e4503bc818f",
   "metadata": {},
   "outputs": [],
   "source": [
    "# Perform a pairwise t-test on signup, grouped by landing-page\n",
    "pairwise = pingouin.pairwise_tests(data=homepage,\n",
    "                             dv=\"time_on_page\",\n",
    "                             between=\"landing_page\",\n",
    "                             padjust=\"none\")\n",
    "print(pairwise)"
   ]
  },
  {
   "cell_type": "code",
   "execution_count": null,
   "id": "68132fd0-c79c-4d6e-b9a6-85527974dd10",
   "metadata": {},
   "outputs": [],
   "source": [
    "# Perform a pairwise t-test on signup, grouped by landing-page\n",
    "pairwise = pingouin.pairwise_tests(data=homepage,\n",
    "                                   dv=\"time_on_page\",\n",
    "                                   between=\"landing_page\",\n",
    "                                   padjust=\"none\")\n",
    "\n",
    "print(pairwise)\n",
    "\n",
    "# Modify the pairwise t-tests to use Bonferroni p-value adjustment\n",
    "bonferroni_pairwise = pingouin.pairwise_tests(data=homepage,\n",
    "                                   dv=\"time_on_page\",\n",
    "                                   between=\"landing_page\",\n",
    "                                   padjust=\"bonf\")\n",
    "\n",
    "print(bonferroni_pairwise)"
   ]
  },
  {
   "cell_type": "markdown",
   "id": "39bc4812-a5f1-4bac-b238-e0b1b047f8b5",
   "metadata": {},
   "source": [
    "### Mann-Whitney U test"
   ]
  },
  {
   "cell_type": "code",
   "execution_count": null,
   "id": "f153d202-4187-442a-9ce0-3afa0fa28287",
   "metadata": {},
   "outputs": [],
   "source": [
    "# Calculate the mean and count of time on page by variant\n",
    "print(checkout.groupby('checkout_page')['time_on_page'].agg({'mean', 'count'}))"
   ]
  },
  {
   "cell_type": "code",
   "execution_count": null,
   "id": "50106313-362c-4770-8b8e-c8ab3f8d29ed",
   "metadata": {},
   "outputs": [],
   "source": [
    "# Calculate the mean and count of time on page by variant\n",
    "print(checkout.groupby('checkout_page')['time_on_page'].agg({'mean', 'count'}))\n",
    "\n",
    "np.random.seed(40)\n",
    "\n",
    "# Take a random sample of size 25 from each variant\n",
    "ToP_samp_B = checkout[checkout['checkout_page'] == 'B'].sample(25)['time_on_page']\n",
    "ToP_samp_C = checkout[checkout['checkout_page'] == 'C'].sample(25)['time_on_page']"
   ]
  },
  {
   "cell_type": "markdown",
   "id": "9741c14b-a4b4-4b57-9078-2d2e0d339413",
   "metadata": {},
   "source": [
    "### Chi-square test for independence"
   ]
  },
  {
   "cell_type": "code",
   "execution_count": null,
   "id": "92ba8a19-aab8-4abb-866a-90f8035b3b8f",
   "metadata": {},
   "outputs": [],
   "source": [
    "from scipy import stats\n",
    "\n",
    "# Calculate the number of users in groups A and B\n",
    "n_A = homepage[homepage['landing_page'] == 'A']['user_id'].nunique()\n",
    "n_B = homepage[homepage['landing_page'] == 'B']['user_id'].nunique()"
   ]
  },
  {
   "cell_type": "code",
   "execution_count": null,
   "id": "d9b9bd77-f0eb-445a-aa42-f6d2d2d9eca8",
   "metadata": {},
   "outputs": [],
   "source": [
    "from scipy import stats\n",
    "\n",
    "# Calculate the number of users in groups A and B\n",
    "n_A = homepage[homepage['landing_page'] == 'A']['user_id'].nunique()\n",
    "n_B = homepage[homepage['landing_page'] == 'B']['user_id'].nunique()\n",
    "\n",
    "# Compute unique signups in each group\n",
    "signup_A = homepage[homepage['landing_page'] == 'A'].groupby('user_id')['signup'].max().sum()\n",
    "no_signup_A = n_A - signup_A\n",
    "signup_B = homepage[homepage['landing_page'] == 'B'].groupby('user_id')['signup'].max().sum()\n",
    "no_signup_B = n_B - signup_B"
   ]
  },
  {
   "cell_type": "code",
   "execution_count": null,
   "id": "470c25bc-fb89-4367-866b-fdb451d40938",
   "metadata": {},
   "outputs": [],
   "source": [
    "from scipy import stats\n",
    "# Calculate the number of users in groups A and B\n",
    "n_A = homepage[homepage['landing_page'] == 'A']['user_id'].nunique()\n",
    "n_B = homepage[homepage['landing_page'] == 'B']['user_id'].nunique()\n",
    "\n",
    "# Compute unique signups in each group\n",
    "signup_A = homepage[homepage['landing_page'] == 'A'].groupby('user_id')['signup'].max().sum()\n",
    "no_signup_A = n_A - signup_A\n",
    "signup_B = homepage[homepage['landing_page'] == 'B'].groupby('user_id')['signup'].max().sum()\n",
    "no_signup_B = n_B - signup_B\n",
    "\n",
    "# Create the signups table\n",
    "table = [[signup_A, no_signup_A], [signup_B, no_signup_B]]\n",
    "print('Group A signup rate:',round(signup_A / n_A,3))\n",
    "print('Group B signup rate:',round(signup_B / n_B,3))"
   ]
  },
  {
   "cell_type": "code",
   "execution_count": null,
   "id": "6d892334-7496-4337-8237-6e4cc55ebe19",
   "metadata": {},
   "outputs": [],
   "source": [
    "from scipy import stats\n",
    "\n",
    "# Calculate the number of users in groups A and B\n",
    "n_A = homepage[homepage['landing_page'] == 'A']['user_id'].nunique()\n",
    "n_B = homepage[homepage['landing_page'] == 'B']['user_id'].nunique()\n",
    "\n",
    "# Compute unique signups in each group\n",
    "signup_A = homepage[homepage['landing_page'] == 'A'].groupby('user_id')['signup'].max().sum()\n",
    "no_signup_A = n_A - signup_A\n",
    "signup_B = homepage[homepage['landing_page'] == 'B'].groupby('user_id')['signup'].max().sum()\n",
    "no_signup_B = n_B - signup_B\n",
    "\n",
    "# Create the signups table\n",
    "table = [[signup_A, no_signup_A], [signup_B, no_signup_B]]\n",
    "print('Group A signup rate:',round(signup_A/n_A,3))\n",
    "print('Group B signup rate:',round(signup_B/n_B,3))\n",
    "\n",
    "# Calculate p-value\n",
    "print('p-value=',stats.chi2_contingency(table,correction=False)[1])"
   ]
  },
  {
   "cell_type": "markdown",
   "id": "0bc96ed1-1eb5-4fec-be44-578242b18d96",
   "metadata": {},
   "source": [
    "### Delta method"
   ]
  },
  {
   "cell_type": "code",
   "execution_count": null,
   "id": "36bdda12-8932-4613-ace6-1611af9f3186",
   "metadata": {},
   "outputs": [],
   "source": [
    "# Create DataFrames for per user metrics for variants A and C\n",
    "A_per_user = pd.DataFrame({'order_value': checkout[checkout['checkout_page'] == 'A'].groupby('user_id')['order_value'].sum(),\n",
    "                           'page_view': checkout[checkout['checkout_page'] == 'A'].groupby('user_id')['user_id'].count()})\n",
    "\n",
    "C_per_user =  pd.DataFrame({'order_value': checkout[checkout['checkout_page'] == 'C'].groupby('user_id')['order_value'].sum(),\n",
    "                           'page_view': checkout[checkout['checkout_page'] == 'C'].groupby('user_id')['user_id'].count()})"
   ]
  },
  {
   "cell_type": "code",
   "execution_count": null,
   "id": "1b2764c0-4c69-4817-b71c-c7f84f0f9328",
   "metadata": {},
   "outputs": [],
   "source": [
    "# Create DataFrames for per user metrics for variants A and C\n",
    "A_per_user = pd.DataFrame({'order_value':checkout[checkout['checkout_page']=='A'].groupby('user_id')['order_value'].sum()\n",
    "                            ,'page_view':checkout[checkout['checkout_page']=='A'].groupby('user_id')['user_id'].count()})\n",
    "\n",
    "C_per_user = pd.DataFrame({'order_value':checkout[checkout['checkout_page']=='C'].groupby('user_id')['order_value'].sum()\n",
    "                           ,'page_view':checkout[checkout['checkout_page']=='C'].groupby('user_id')['user_id'].count()})\n",
    "\n",
    "# Assign the control and treatment ratio columns \n",
    "x_control = A_per_user['order_value']\n",
    "y_control = A_per_user['page_view']\n",
    "x_treatment = C_per_user['order_value']\n",
    "y_treatment = C_per_user['page_view']"
   ]
  },
  {
   "cell_type": "code",
   "execution_count": null,
   "id": "707d50d0-2f47-4d0a-8f6b-0e519a4789af",
   "metadata": {},
   "outputs": [],
   "source": [
    "# Create DataFrames for per user metrics for variants A and C\n",
    "A_per_user = pd.DataFrame({'order_value':checkout[checkout['checkout_page']=='A'].groupby('user_id')['order_value'].sum()\n",
    "                            ,'page_view':checkout[checkout['checkout_page']=='A'].groupby('user_id')['user_id'].count()})\n",
    "\n",
    "C_per_user = pd.DataFrame({'order_value':checkout[checkout['checkout_page']=='C'].groupby('user_id')['order_value'].sum()\n",
    "                           ,'page_view':checkout[checkout['checkout_page']=='C'].groupby('user_id')['user_id'].count()})\n",
    "\n",
    "# Assign the control and treatment ratio columns \n",
    "x_control = A_per_user['order_value']\n",
    "y_control = A_per_user['page_view']\n",
    "x_treatment = C_per_user['order_value']\n",
    "y_treatment = C_per_user['page_view']\n",
    "\n",
    "# Run a z-test for ratio metrics\n",
    "ztest_delta(x_control,y_control,x_treatment,y_treatment)"
   ]
  },
  {
   "cell_type": "markdown",
   "id": "bf57f65d-7e4c-4925-8fa5-93da3a15fec8",
   "metadata": {},
   "source": [
    "### Day-of-the-week effect"
   ]
  },
  {
   "cell_type": "code",
   "execution_count": null,
   "id": "16b33f46-0d5d-4669-bbe2-7ced7974fc47",
   "metadata": {},
   "outputs": [],
   "source": [
    "# Create a line plot\n",
    "novelty.plot('date', 'purchase_rate')\n",
    "plt.title('Purchase Rate Over Test Duration')\n",
    "plt.ylabel('Purchase Rate [%]')\n",
    "plt.ylim([0, 0.04])\n",
    "plt.show()"
   ]
  },
  {
   "cell_type": "code",
   "execution_count": null,
   "id": "322b0f36-c1cf-477b-acf2-e60523707070",
   "metadata": {},
   "outputs": [],
   "source": [
    "novelty.plot('date', 'CTR')\n",
    "plt.title('Click-through Rate Over Test Duration')\n",
    "plt.ylabel('CTR [%]')\n",
    "plt.ylim([0.04, 0.06])\n",
    "plt.show()"
   ]
  },
  {
   "cell_type": "code",
   "execution_count": null,
   "id": "48b16f4d-9937-43bd-9a17-7fea29b64d45",
   "metadata": {},
   "outputs": [],
   "source": []
  },
  {
   "cell_type": "code",
   "execution_count": null,
   "id": "a66f3e03-be6e-4b29-b7e9-3c3989b3e1ae",
   "metadata": {},
   "outputs": [],
   "source": []
  }
 ],
 "metadata": {
  "kernelspec": {
   "display_name": "Python 3 (ipykernel)",
   "language": "python",
   "name": "python3"
  },
  "language_info": {
   "codemirror_mode": {
    "name": "ipython",
    "version": 3
   },
   "file_extension": ".py",
   "mimetype": "text/x-python",
   "name": "python",
   "nbconvert_exporter": "python",
   "pygments_lexer": "ipython3",
   "version": "3.11.7"
  }
 },
 "nbformat": 4,
 "nbformat_minor": 5
}
