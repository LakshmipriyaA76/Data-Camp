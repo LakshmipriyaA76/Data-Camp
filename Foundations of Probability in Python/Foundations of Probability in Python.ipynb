{
 "cells": [
  {
   "cell_type": "markdown",
   "id": "4ddb7180-954f-4a45-a7fe-81e22ffad2cc",
   "metadata": {},
   "source": [
    "# Foundations of Probability in Python"
   ]
  },
  {
   "cell_type": "markdown",
   "id": "bcb236b8-b430-455f-b86a-6eea99bb1035",
   "metadata": {
    "tags": []
   },
   "source": [
    "# Chapter 1. Let's start flipping coins"
   ]
  },
  {
   "cell_type": "code",
   "execution_count": 2,
   "id": "e0a8a98d-5150-4071-8b8f-cbf337d4e86d",
   "metadata": {
    "tags": []
   },
   "outputs": [],
   "source": [
    "import numpy as np"
   ]
  },
  {
   "cell_type": "code",
   "execution_count": 3,
   "id": "7a00ce75-6fcf-4430-baa3-b37a401af9f6",
   "metadata": {},
   "outputs": [
    {
     "name": "stdout",
     "output_type": "stream",
     "text": [
      "[0]\n"
     ]
    }
   ],
   "source": [
    "# Import the bernoulli object from scipy.stats\n",
    "from scipy.stats import bernoulli\n",
    "\n",
    "# Set the random seed to reproduce the results\n",
    "np.random.seed(42)\n",
    "\n",
    "# Simulate one coin flip with 35% chance of getting heads\n",
    "coin_flip = bernoulli.rvs(p=.35, size=1)\n",
    "print(coin_flip)"
   ]
  },
  {
   "cell_type": "code",
   "execution_count": 4,
   "id": "d2049bb4-2f73-4c30-8304-aa2e0a03a3ea",
   "metadata": {
    "tags": []
   },
   "outputs": [
    {
     "name": "stdout",
     "output_type": "stream",
     "text": [
      "4\n"
     ]
    }
   ],
   "source": [
    "# Import the bernoulli object from scipy.stats\n",
    "from scipy.stats import bernoulli\n",
    "\n",
    "# Set the random seed to reproduce the results\n",
    "np.random.seed(42)\n",
    "\n",
    "# Simulate ten coin flips and get the number of heads\n",
    "ten_coin_flips = bernoulli.rvs(p=.35, size=10)\n",
    "coin_flips_sum = sum(ten_coin_flips)\n",
    "print(coin_flips_sum)"
   ]
  },
  {
   "cell_type": "code",
   "execution_count": 5,
   "id": "bb8f884b-2624-4f13-b162-86df00d9748e",
   "metadata": {
    "tags": []
   },
   "outputs": [
    {
     "name": "stdout",
     "output_type": "stream",
     "text": [
      "3\n"
     ]
    }
   ],
   "source": [
    "# Import the bernoulli object from scipy.stats\n",
    "from scipy.stats import bernoulli\n",
    "\n",
    "# Set the random seed to reproduce the results\n",
    "np.random.seed(42)\n",
    "\n",
    "# Simulate ten coin flips and get the number of heads\n",
    "five_coin_flips = bernoulli.rvs(p=0.5, size=5)\n",
    "coin_flips_sum = sum(five_coin_flips)\n",
    "print(coin_flips_sum)"
   ]
  },
  {
   "cell_type": "markdown",
   "id": "66e6c011-6d7d-4e4d-b751-7a0563e539ad",
   "metadata": {},
   "source": [
    "## Using binom to flip even more coins"
   ]
  },
  {
   "cell_type": "code",
   "execution_count": 7,
   "id": "148adbba-f77d-48fe-ad02-7975386a6b4e",
   "metadata": {
    "tags": []
   },
   "outputs": [],
   "source": [
    "# Import the binom object from scipy.stats\n",
    "from scipy.stats import binom\n",
    "import numpy as np"
   ]
  },
  {
   "cell_type": "code",
   "execution_count": 8,
   "id": "e039f06a-1c67-45f8-b731-844ea616a74b",
   "metadata": {
    "tags": []
   },
   "outputs": [
    {
     "name": "stdout",
     "output_type": "stream",
     "text": [
      "[3 6 4 4 2 2 1 5 4 4 1 6 5 2 2 2 3 4 3 3]\n"
     ]
    }
   ],
   "source": [
    "# Set the random seed to reproduce the results\n",
    "np.random.seed(42)\n",
    "\n",
    "# Simulate 20 trials of 10 coin flips \n",
    "draws = binom.rvs(n=10, p=.35, size=20)\n",
    "print(draws)"
   ]
  },
  {
   "cell_type": "markdown",
   "id": "3cee11a7-7e0a-4aa3-a4db-b7a716e9555e",
   "metadata": {},
   "source": [
    "## Predicting the probability of defects"
   ]
  },
  {
   "cell_type": "raw",
   "id": "f218052b-c932-4689-af6a-553cd4329737",
   "metadata": {},
   "source": [
    "Predicting the probability of defects\n",
    "binom.pmf() - calculates the probability of having exactly k heads out of n coin flips.\n",
    "binom.cdf() - calculates the probability of having k heads or less out of n coin flips.\n",
    "binom.sf() - calculates the probability of having more than k heads out of n coin flips."
   ]
  },
  {
   "cell_type": "code",
   "execution_count": 9,
   "id": "c76a7d74-f3d2-4af8-b1e2-28b3eda3eb0a",
   "metadata": {
    "tags": []
   },
   "outputs": [
    {
     "name": "stdout",
     "output_type": "stream",
     "text": [
      "0.37160171437460954\n"
     ]
    }
   ],
   "source": [
    "# Probability of getting exactly 1 defective component\n",
    "prob_one_defect = binom.pmf(k=1, n=50, p=0.02)\n",
    "print(prob_one_defect)"
   ]
  },
  {
   "cell_type": "code",
   "execution_count": 11,
   "id": "3614490f-80b9-4e6c-90ca-2efc595f9998",
   "metadata": {
    "tags": []
   },
   "outputs": [
    {
     "name": "stdout",
     "output_type": "stream",
     "text": [
      "0.36416968008711703\n"
     ]
    }
   ],
   "source": [
    "# Probability of not getting any defective components\n",
    "prob_no_defects = binom.pmf(k=0, n=50, p=0.02)\n",
    "print(prob_no_defects)"
   ]
  },
  {
   "cell_type": "code",
   "execution_count": 12,
   "id": "59e91783-6413-4a14-8dca-0ea49cabd62a",
   "metadata": {
    "tags": []
   },
   "outputs": [
    {
     "name": "stdout",
     "output_type": "stream",
     "text": [
      "0.921572251649031\n"
     ]
    }
   ],
   "source": [
    "# Probability of getting 2 or less defective components\n",
    "prob_two_or_less_defects = binom.cdf(k=2, n=50, p=0.02)\n",
    "print(prob_two_or_less_defects)"
   ]
  },
  {
   "cell_type": "markdown",
   "id": "ea33ac45-7e59-4519-be56-cbe4a208e69b",
   "metadata": {},
   "source": [
    "## Predicting employment status"
   ]
  },
  {
   "cell_type": "code",
   "execution_count": 13,
   "id": "cdd0ab7a-e65a-4814-aa53-625ab2e10345",
   "metadata": {
    "tags": []
   },
   "outputs": [
    {
     "name": "stdout",
     "output_type": "stream",
     "text": [
      "0.2785857790624999\n"
     ]
    }
   ],
   "source": [
    "# Calculate the probability of getting exactly 5 yes responses\n",
    "prob_five_yes = binom.pmf(k=5, n=8, p=0.65)\n",
    "print(prob_five_yes)"
   ]
  },
  {
   "cell_type": "code",
   "execution_count": 14,
   "id": "e0981c29-4ce4-4de3-9cd1-2feefd81fd9a",
   "metadata": {
    "tags": []
   },
   "outputs": [
    {
     "name": "stdout",
     "output_type": "stream",
     "text": [
      "0.8939090951171875\n"
     ]
    }
   ],
   "source": [
    "# Calculate the probability of getting 3 or less no responses\n",
    "prob_three_or_less_no = 1-binom.cdf(k=3, n=8, p=0.65)\n",
    "print(prob_three_or_less_no)"
   ]
  },
  {
   "cell_type": "code",
   "execution_count": 15,
   "id": "191ebef7-02e2-41e9-b0cc-bc895280f7f2",
   "metadata": {
    "tags": []
   },
   "outputs": [
    {
     "name": "stdout",
     "output_type": "stream",
     "text": [
      "0.8939090951171875\n"
     ]
    }
   ],
   "source": [
    "# Calculate the probability of getting more than 3 yes responses\n",
    "prob_more_than_three_yes = binom.sf(k=3, n=8, p=0.65)\n",
    "print(prob_more_than_three_yes)"
   ]
  },
  {
   "cell_type": "markdown",
   "id": "6c0dbe12-201a-45be-8d8a-45dd06943c47",
   "metadata": {},
   "source": [
    "## Predicting burglary conviction rate"
   ]
  },
  {
   "cell_type": "code",
   "execution_count": 16,
   "id": "eca6c042-dcde-42b9-be2a-b91378b7130c",
   "metadata": {
    "tags": []
   },
   "outputs": [
    {
     "name": "stdout",
     "output_type": "stream",
     "text": [
      "0.066060288\n"
     ]
    }
   ],
   "source": [
    "# What is the probability of solving 4 burglaries?\n",
    "four_solved = binom.pmf(k=4, n=9, p=0.20)\n",
    "print(four_solved)"
   ]
  },
  {
   "cell_type": "code",
   "execution_count": 17,
   "id": "15e7bcba-1c7b-436c-b278-750b36992fca",
   "metadata": {
    "tags": []
   },
   "outputs": [
    {
     "name": "stdout",
     "output_type": "stream",
     "text": [
      "0.08564172800000008\n"
     ]
    }
   ],
   "source": [
    "# What is the probability of solving more than 3 burglaries?\n",
    "more_than_three_solved = binom.sf(k=3, n=9, p=0.2)\n",
    "print(more_than_three_solved)"
   ]
  },
  {
   "cell_type": "code",
   "execution_count": 18,
   "id": "6146e83f-bd64-44e2-8221-5b1fda771945",
   "metadata": {
    "tags": []
   },
   "outputs": [
    {
     "name": "stdout",
     "output_type": "stream",
     "text": [
      "0.4781506560000003\n"
     ]
    }
   ],
   "source": [
    "# What is the probability of solving 2 or 3 burglaries?\n",
    "two_or_three_solved = binom.pmf(k=2, n=9, p=0.2) + binom.pmf(k=3, n=9, p=0.2)\n",
    "print(two_or_three_solved)"
   ]
  },
  {
   "cell_type": "code",
   "execution_count": 19,
   "id": "68f3a379-de4e-4b58-8850-00aa66f4bef9",
   "metadata": {
    "tags": []
   },
   "outputs": [
    {
     "name": "stdout",
     "output_type": "stream",
     "text": [
      "0.4362265599999995\n"
     ]
    }
   ],
   "source": [
    "# What is the probability of solving 1 or fewer or more than 7 burglaries?\n",
    "tail_probabilities = binom.cdf(k=1, n=9, p=0.2) + binom.sf(k=7, n=9, p=0.2)\n",
    "print(tail_probabilities)"
   ]
  },
  {
   "cell_type": "markdown",
   "id": "e503c4fc-c737-4438-be4e-010a78e5d73e",
   "metadata": {
    "tags": []
   },
   "source": [
    "## Calculating the sample mean"
   ]
  },
  {
   "cell_type": "code",
   "execution_count": 21,
   "id": "b837d755-9ab8-44a7-a48d-f3a2b5adbc0f",
   "metadata": {
    "tags": []
   },
   "outputs": [],
   "source": [
    "from scipy.stats import describe"
   ]
  },
  {
   "cell_type": "code",
   "execution_count": 22,
   "id": "0279ccda-37d3-4480-8e24-4ac0ef5d2f11",
   "metadata": {
    "tags": []
   },
   "outputs": [
    {
     "name": "stdout",
     "output_type": "stream",
     "text": [
      "0.49\n"
     ]
    }
   ],
   "source": [
    "# Sample mean from a generated sample of 100 fair coin flips\n",
    "sample_of_100_flips = binom.rvs(n=1, p=0.5, size=100)\n",
    "sample_mean_100_flips = describe(sample_of_100_flips).mean\n",
    "print(sample_mean_100_flips)"
   ]
  },
  {
   "cell_type": "code",
   "execution_count": 23,
   "id": "879da290-8fa1-4ba5-a6ad-2b7cf9b5dca8",
   "metadata": {
    "tags": []
   },
   "outputs": [
    {
     "name": "stdout",
     "output_type": "stream",
     "text": [
      "0.503\n"
     ]
    }
   ],
   "source": [
    "# Sample mean from a generated sample of 1,000 fair coin flips\n",
    "sample_mean_1000_flips = describe(binom.rvs(n=1, p=0.5, size=1000)).mean\n",
    "print(sample_mean_1000_flips)"
   ]
  },
  {
   "cell_type": "markdown",
   "id": "9064c6ad-6b84-4727-8f10-32848db3df47",
   "metadata": {},
   "source": [
    "## Checking the result"
   ]
  },
  {
   "cell_type": "code",
   "execution_count": 24,
   "id": "a1cc4bb6-7a2a-498d-a145-d50210fe690d",
   "metadata": {
    "tags": []
   },
   "outputs": [
    {
     "name": "stdout",
     "output_type": "stream",
     "text": [
      "3.0065 2.1475315157578794 3.0 2.0999999999999996 (3.0, 2.0999999999999996)\n"
     ]
    }
   ],
   "source": [
    "sample = binom.rvs(n=10, p=0.3, size=2000)\n",
    "\n",
    "# Calculate the sample mean and variance from the sample variable\n",
    "sample_describe = describe(sample)\n",
    "\n",
    "# Calculate the sample mean using the values of n and p\n",
    "mean = 10*0.3\n",
    "\n",
    "# Calculate the sample variance using the value of 1-p\n",
    "variance = mean*(1-0.3)\n",
    "\n",
    "# Calculate the sample mean and variance for 10 coin flips with p=0.3\n",
    "binom_stats = binom.stats(n=10, p=0.3)\n",
    "\n",
    "print(sample_describe.mean, sample_describe.variance, mean, variance, binom_stats)"
   ]
  },
  {
   "cell_type": "markdown",
   "id": "e38fba52-98d6-4074-abe5-c3519576badc",
   "metadata": {},
   "source": [
    "## Calculating the mean and variance of a sample"
   ]
  },
  {
   "cell_type": "code",
   "execution_count": 25,
   "id": "cfd90452-567c-4a70-a665-48b9fbf67008",
   "metadata": {
    "tags": []
   },
   "outputs": [],
   "source": [
    "averages = []\n",
    "variances = []"
   ]
  },
  {
   "cell_type": "code",
   "execution_count": 29,
   "id": "0328e7a7-cbf8-4ce7-a36e-83113985cd6d",
   "metadata": {
    "tags": []
   },
   "outputs": [],
   "source": [
    "for i in range(0, 1500):\n",
    "    # 10 trials of 10 coin flips with 25% probability of heads\n",
    "    sample = binom.rvs(n=10, p=0.25, size=10)\n",
    "    # Mean and variance of the values in the sample variable\n",
    "    averages.append(describe(sample).mean)\n",
    "    variances.append(describe(sample).variance)"
   ]
  },
  {
   "cell_type": "code",
   "execution_count": 28,
   "id": "b2ce1b54-b39e-4dcc-abc5-711800083e47",
   "metadata": {
    "tags": []
   },
   "outputs": [
    {
     "name": "stdout",
     "output_type": "stream",
     "text": [
      "Mean 2.4974222222222227\n",
      "Variance 1.870503703703704\n"
     ]
    }
   ],
   "source": [
    "for i in range(0, 1500):\n",
    "\t# 10 draws of 10 coin flips with 25% probability of heads\n",
    "    sample = binom.rvs(n=10, p=0.25, size=10)\n",
    "\t# Mean and variance of the values in the sample variable\n",
    "    averages.append(describe(sample).mean)\n",
    "    variances.append(describe(sample).variance)\n",
    "  \n",
    "# Calculate the mean of the averages variable\n",
    "print(\"Mean {}\".format(describe(averages).mean))\n",
    "\n",
    "# Calculate the mean of the variances variable\n",
    "print(\"Variance {}\".format(describe(variances).mean))"
   ]
  },
  {
   "cell_type": "code",
   "execution_count": 30,
   "id": "f5f5564c-2f6d-4fab-a893-9d21bfd52084",
   "metadata": {
    "tags": []
   },
   "outputs": [
    {
     "name": "stdout",
     "output_type": "stream",
     "text": [
      "Mean 2.4976800000000003\n",
      "Variance 1.8599348148148147\n",
      "(2.5, 1.875)\n"
     ]
    }
   ],
   "source": [
    "for i in range(0, 1500):\n",
    "\t# 10 draws of 10 coin flips with 25% probability of heads\n",
    "    sample = binom.rvs(n=10, p=0.25, size=10)\n",
    "\t# Mean and variance of the values in the sample variable\n",
    "    averages.append(describe(sample).mean)\n",
    "    variances.append(describe(sample).variance)\n",
    "  \n",
    "# Calculate the mean of the averages variable\n",
    "print(\"Mean {}\".format(describe(averages).mean))\n",
    "\n",
    "# Calculate the mean of the variances variable\n",
    "print(\"Variance {}\".format(describe(variances).mean))\n",
    "\n",
    "# Calculate the mean and variance\n",
    "print(binom.stats(n=10, p=0.25))"
   ]
  },
  {
   "cell_type": "markdown",
   "id": "812ebc02-c71d-4484-8dea-c5ecf7a8e24f",
   "metadata": {},
   "source": [
    "# Calculate some probabilities"
   ]
  },
  {
   "cell_type": "code",
   "execution_count": 32,
   "id": "58046965-1f30-405a-8f51-8b0920d1dec7",
   "metadata": {
    "tags": []
   },
   "outputs": [],
   "source": [
    "#Measuring a sample"
   ]
  },
  {
   "cell_type": "code",
   "execution_count": 33,
   "id": "92b0fe19-69d8-428e-a97b-b6d33e04db8e",
   "metadata": {
    "tags": []
   },
   "outputs": [],
   "source": [
    "import numpy as np"
   ]
  },
  {
   "cell_type": "code",
   "execution_count": 34,
   "id": "472c2bee-37db-4953-b980-9c66b9558db6",
   "metadata": {
    "tags": []
   },
   "outputs": [],
   "source": [
    "sample_of_two_coin_flips = np.array(\n",
    "    [1, 2, 1, 1, 0, 0, 0, 2, 1, 1, 0, 2, 2, 0, 0, 0, 1, 1, 1, 1, 1, 0,\n",
    "       1, 1, 1, 2, 0, 1, 1, 0, 1, 0, 0, 2, 2, 2, 1, 0, 1, 1, 0, 1, 0, 2,\n",
    "       1, 1, 1, 1, 1, 0, 2, 2, 2, 2, 1, 2, 0, 0, 0, 1, 1, 1, 2, 1, 1, 1,\n",
    "       0, 2, 0, 2, 2, 0, 0, 2, 1, 1, 2, 0, 1, 0, 2, 1, 1, 0, 1, 1, 1, 1,\n",
    "       2, 1, 0, 1, 2, 1, 2, 1, 1, 1, 0, 0, 0, 1, 1, 1, 2, 0, 1, 2, 0, 0,\n",
    "       1, 0, 2, 2, 1, 2, 2, 0, 2, 1, 2, 2, 1, 0, 0, 1, 2, 2, 0, 1, 1, 0,\n",
    "       0, 1, 2, 1, 1, 1, 1, 2, 2, 1, 1, 1, 1, 0, 1, 1, 0, 1, 2, 0, 0, 1,\n",
    "       2, 0, 1, 2, 0, 1, 1, 1, 1, 1, 0, 2, 1, 0, 0, 1, 1, 0, 1, 0, 1, 0,\n",
    "       1, 1, 2, 0, 1, 0, 2, 2, 1, 1, 2, 1, 1, 0, 0, 2, 2, 1, 1, 1, 1, 2,\n",
    "       2, 2, 1, 0, 0, 2, 1, 0, 0, 1, 0, 0, 1, 1, 1, 0, 1, 0, 1, 1, 1, 2,\n",
    "       1, 1, 0, 1, 1, 0, 2, 1, 2, 1, 2, 1, 1, 1, 0, 1, 1, 0, 1, 0, 2, 2,\n",
    "       2, 1, 0, 2, 1, 2, 2, 2, 1, 1, 2, 1, 0, 1, 2, 1, 1, 0, 1, 2, 0, 1,\n",
    "       2, 1, 1, 1, 1, 1, 2, 2, 2, 2, 1, 1, 2, 1, 1, 2, 2, 1, 1, 0, 1, 0,\n",
    "       1, 1, 1, 1, 0, 0, 2, 1, 0, 1, 2, 0, 1, 0, 0, 1, 1, 1, 1, 2, 1, 1,\n",
    "       2, 1, 1, 0, 0, 2, 2, 1, 1, 0, 0, 1, 1, 1, 1, 1, 2, 1, 1, 1, 1, 0,\n",
    "       1, 2, 0, 0, 0, 0, 2, 1, 1, 0, 1, 1, 0, 1, 1, 1, 1, 0, 1, 1, 1, 2,\n",
    "       1, 0, 0, 1, 0, 1, 2, 1, 1, 1, 1, 1, 2, 1, 2, 2, 0, 0, 0, 0, 0, 1,\n",
    "       0, 1, 2, 0, 2, 1, 0, 1, 1, 2, 1, 2, 1, 0, 2, 2, 2, 1, 1, 2, 1, 2,\n",
    "       2, 1, 2, 2, 0, 2, 1, 2, 1, 2, 1, 0, 2, 0, 1, 2, 2, 1, 1, 1, 1, 1,\n",
    "       1, 2, 2, 2, 0, 1, 0, 1, 1, 2, 1, 0, 0, 2, 1, 0, 0, 1, 0, 2, 1, 0,\n",
    "       0, 2, 1, 1, 2, 2, 2, 2, 1, 0, 2, 1, 1, 2, 0, 1, 0, 1, 0, 0, 0, 1,\n",
    "       1, 1, 2, 1, 1, 2, 0, 2, 0, 2, 0, 2, 1, 2, 0, 1, 2, 1, 1, 1, 1, 1,\n",
    "       1, 2, 0, 1, 2, 2, 1, 1, 1, 0, 1, 1, 1, 0, 2, 2, 1, 1, 1, 2, 1, 0,\n",
    "       2, 2, 2, 1, 1, 1, 2, 2, 0, 0, 1, 2, 2, 0, 1, 1, 2, 2, 2, 1, 1, 1,\n",
    "       0, 2, 2, 2, 2, 1, 2, 2, 2, 0, 1, 0, 2, 1, 0, 1, 1, 1, 0, 1, 1, 2,\n",
    "       1, 2, 1, 1, 2, 1, 0, 0, 2, 1, 1, 0, 0, 0, 1, 1, 1, 1, 2, 1, 1, 2,\n",
    "       1, 1, 2, 2, 0, 2, 1, 1, 1, 2, 1, 1, 1, 0, 0, 0, 0, 0, 0, 1, 0, 1,\n",
    "       2, 1, 1, 0, 0, 0, 0, 1, 0, 0, 0, 1, 0, 1, 1, 1, 0, 2, 1, 0, 2, 2,\n",
    "       0, 1, 2, 1, 0, 0, 1, 1, 1, 1, 1, 1, 0, 1, 1, 2, 1, 1, 0, 1, 1, 0,\n",
    "       1, 1, 0, 1, 0, 1, 0, 2, 1, 1, 2, 1, 0, 1, 1, 1, 1, 0, 1, 1, 1, 1,\n",
    "       1, 2, 1, 0, 0, 0, 0, 0, 0, 1, 0, 2, 0, 1, 1, 2, 0, 1, 2, 2, 2, 1,\n",
    "       0, 1, 2, 1, 1, 1, 2, 0, 1, 1, 1, 0, 0, 1, 1, 1, 0, 1, 1, 0, 1, 0,\n",
    "       0, 2, 1, 2, 1, 1, 2, 1, 1, 1, 1, 2, 2, 2, 0, 1, 2, 0, 0, 1, 1, 2,\n",
    "       0, 2, 0, 0, 0, 2, 1, 1, 1, 2, 1, 2, 1, 1, 1, 1, 1, 1, 0, 2, 1, 1,\n",
    "       2, 1, 0, 2, 1, 1, 0, 2, 1, 1, 2, 2, 0, 1, 0, 1, 0, 1, 2, 2, 1, 2,\n",
    "       0, 2, 0, 1, 2, 0, 0, 1, 1, 1, 1, 1, 1, 1, 0, 2, 1, 1, 1, 2, 0, 1,\n",
    "       1, 1, 0, 2, 2, 1, 1, 2, 1, 0, 1, 1, 1, 1, 2, 2, 1, 0, 2, 2, 0, 2,\n",
    "       2, 1, 1, 1, 0, 1, 2, 0, 1, 1, 1, 2, 1, 1, 1, 1, 0, 1, 0, 0, 1, 1,\n",
    "       2, 1, 1, 1, 0, 1, 0, 2, 0, 1, 0, 2, 1, 1, 0, 1, 0, 2, 0, 0, 0, 1,\n",
    "       1, 0, 2, 1, 1, 1, 1, 1, 0, 0, 2, 2, 1, 1, 1, 1, 0, 0, 1, 1, 0, 0,\n",
    "       0, 1, 0, 0, 2, 0, 1, 0, 0, 0, 1, 2, 2, 1, 1, 0, 1, 2, 0, 0, 0, 0,\n",
    "       0, 1, 1, 2, 2, 1, 1, 1, 1, 1, 1, 1, 1, 1, 1, 2, 2, 0, 2, 1, 2, 2,\n",
    "       1, 0, 1, 1, 1, 1, 0, 2, 2, 1, 0, 1, 0, 2, 0, 1, 1, 1, 1, 2, 0, 0,\n",
    "       0, 2, 2, 1, 1, 1, 0, 2, 1, 1, 1, 0, 0, 1, 0, 1, 0, 1, 1, 1, 1, 1,\n",
    "       1, 1, 1, 2, 1, 0, 0, 1, 1, 0, 1, 1, 1, 2, 0, 0, 1, 1, 1, 1, 0, 2,\n",
    "       2, 1, 1, 1, 1, 0, 2, 0, 2, 1]\n",
    ")"
   ]
  },
  {
   "cell_type": "code",
   "execution_count": 36,
   "id": "ba130b06-0838-48d9-b38d-f91238d8229f",
   "metadata": {
    "tags": []
   },
   "outputs": [],
   "source": [
    "from scipy.stats import find_repeats, relfreq\n",
    "from scipy.stats import binom"
   ]
  },
  {
   "cell_type": "code",
   "execution_count": 37,
   "id": "e8cdfd4b-7b96-405a-88b9-ac4d7b2607a2",
   "metadata": {
    "tags": []
   },
   "outputs": [
    {
     "data": {
      "text/plain": [
       "RepeatedResults(values=array([0., 1., 2.]), counts=array([269, 488, 243], dtype=int64))"
      ]
     },
     "execution_count": 37,
     "metadata": {},
     "output_type": "execute_result"
    }
   ],
   "source": [
    "find_repeats(sample_of_two_coin_flips)"
   ]
  },
  {
   "cell_type": "code",
   "execution_count": 35,
   "id": "1ba8e3d7-7f03-42c1-bc37-25080b09d750",
   "metadata": {
    "tags": []
   },
   "outputs": [
    {
     "name": "stdout",
     "output_type": "stream",
     "text": [
      "0.243\n"
     ]
    }
   ],
   "source": [
    "import numpy as np\n",
    "\n",
    "# Assuming sample_of_two_coin_flips is a NumPy array\n",
    "count_2_heads = np.sum(sample_of_two_coin_flips == 2)\n",
    "total_draws = len(sample_of_two_coin_flips)\n",
    "\n",
    "# Divide the number of heads by the total number of draws\n",
    "prob_2_heads = count_2_heads / total_draws\n",
    "\n",
    "# Display the result\n",
    "print(prob_2_heads)\n"
   ]
  },
  {
   "cell_type": "code",
   "execution_count": 39,
   "id": "0b7e0ea8-cec6-40d3-84da-ff495b94dc17",
   "metadata": {
    "tags": []
   },
   "outputs": [
    {
     "name": "stdout",
     "output_type": "stream",
     "text": [
      "0.243\n"
     ]
    }
   ],
   "source": [
    "# Count how many times you got 2 heads from the sample data\n",
    "count_2_heads = find_repeats(sample_of_two_coin_flips).counts[2]\n",
    "\n",
    "# Divide the number of heads by the total number of draws\n",
    "prob_2_heads = count_2_heads / len(sample_of_two_coin_flips)\n",
    "\n",
    "# Display the result\n",
    "print(prob_2_heads)"
   ]
  },
  {
   "cell_type": "code",
   "execution_count": 40,
   "id": "1247abd1-51d8-4cb3-8b7e-ef0e66ca3948",
   "metadata": {
    "tags": []
   },
   "outputs": [
    {
     "name": "stdout",
     "output_type": "stream",
     "text": [
      "[0.269 0.488 0.243]\n"
     ]
    }
   ],
   "source": [
    "# Get the relative frequency from sample_of_two_coin_flips\n",
    "# Set numbins as 3\n",
    "# Extract frequency\n",
    "rel_freq = relfreq(sample_of_two_coin_flips, numbins=3).frequency\n",
    "print(rel_freq)"
   ]
  },
  {
   "cell_type": "code",
   "execution_count": 41,
   "id": "d0806a5c-0ee6-4ee1-8ad2-a3242508e202",
   "metadata": {
    "tags": []
   },
   "outputs": [
    {
     "name": "stdout",
     "output_type": "stream",
     "text": [
      "[0.25 0.5  0.25]\n"
     ]
    }
   ],
   "source": [
    "# Probability of getting 0, 1, or 2 from the distribution\n",
    "probabilities = binom.pmf([0, 1, 2], n=2, p=0.5)\n",
    "print(probabilities)"
   ]
  },
  {
   "cell_type": "raw",
   "id": "396e4ef9-2970-4613-b40a-a5a1ea073bfd",
   "metadata": {},
   "source": [
    "Calculate the probability that the engine and gear box both work."
   ]
  },
  {
   "cell_type": "code",
   "execution_count": 42,
   "id": "bd5425bf-7c10-4aa9-9e0e-a223192278af",
   "metadata": {
    "tags": []
   },
   "outputs": [
    {
     "name": "stdout",
     "output_type": "stream",
     "text": [
      "0.98505\n"
     ]
    }
   ],
   "source": [
    "# Individual probabilities\n",
    "P_Eng_works = 0.99\n",
    "P_GearB_works = 0.995\n",
    "\n",
    "# Joint probability calculation\n",
    "P_both_works = P_Eng_works * P_GearB_works\n",
    "\n",
    "print(P_both_works)"
   ]
  },
  {
   "cell_type": "raw",
   "id": "30f41dc0-1991-4695-b3da-3c30e4ad8da6",
   "metadata": {},
   "source": [
    "Calculate the probability that one fails -- either engine or gear box -- but not both."
   ]
  },
  {
   "cell_type": "code",
   "execution_count": 43,
   "id": "5a4b7c93-c8ff-44fc-a4e1-5db62ca3545d",
   "metadata": {
    "tags": []
   },
   "outputs": [
    {
     "name": "stdout",
     "output_type": "stream",
     "text": [
      "0.0149\n"
     ]
    }
   ],
   "source": [
    "# Individual probabilities\n",
    "P_Eng_fails = 0.01\n",
    "P_Eng_works = 0.99\n",
    "P_GearB_fails = 0.005\n",
    "P_GearB_works = 0.995\n",
    "\n",
    "# Joint probability calculation\n",
    "P_only_GearB_fails = P_GearB_fails * P_Eng_works\n",
    "P_only_Eng_fails = P_Eng_fails * P_GearB_works\n",
    "\n",
    "# Calculate result\n",
    "P_one_fails = P_only_GearB_fails + P_only_Eng_fails\n",
    "\n",
    "print(P_one_fails)"
   ]
  },
  {
   "cell_type": "raw",
   "id": "c28961c1-1c3c-4ca7-a770-8357e3549538",
   "metadata": {},
   "source": [
    "What is the probability that either both work or both fail?"
   ]
  },
  {
   "cell_type": "code",
   "execution_count": 44,
   "id": "fcc480b0-090a-43d8-98a7-2dd26ea3e005",
   "metadata": {
    "tags": []
   },
   "outputs": [
    {
     "name": "stdout",
     "output_type": "stream",
     "text": [
      "0.9851\n"
     ]
    }
   ],
   "source": [
    "# Individual probabilities\n",
    "P_Eng_fails = 0.01\n",
    "P_Eng_works = 0.99\n",
    "P_GearB_fails = 0.005\n",
    "P_GearB_works = 0.995\n",
    "\n",
    "# Joint probability calculation\n",
    "P_EngW_GearBW = P_Eng_works * P_GearB_works\n",
    "P_EngF_GearBF = P_Eng_fails * P_GearB_fails\n",
    "\n",
    "# Calculate result\n",
    "P_fails_or_works = P_EngW_GearBW + P_EngF_GearBF\n",
    "\n",
    "print(P_fails_or_works)"
   ]
  },
  {
   "cell_type": "raw",
   "id": "7a8ce724-9008-43ee-a8df-69e4a735f6b5",
   "metadata": {},
   "source": [
    "Calculate the probability of not getting an Ace"
   ]
  },
  {
   "cell_type": "code",
   "execution_count": 46,
   "id": "ae258316-84f3-4db6-9069-cf3dc9bb705f",
   "metadata": {
    "tags": []
   },
   "outputs": [
    {
     "name": "stdout",
     "output_type": "stream",
     "text": [
      "0.9230769230769231\n"
     ]
    }
   ],
   "source": [
    "P_Ace = 4/52\n",
    "\n",
    "\n",
    "P_not_Ace = 1 - P_Ace\n",
    "\n",
    "print(P_not_Ace)"
   ]
  },
  {
   "cell_type": "raw",
   "id": "cf118271-6d1e-4e8f-8fc3-8b39db1e31ed",
   "metadata": {},
   "source": [
    "Calculate the probability of getting a red card."
   ]
  },
  {
   "cell_type": "code",
   "execution_count": 45,
   "id": "49c12d37-9aea-4630-8c54-d08d6046539d",
   "metadata": {
    "tags": []
   },
   "outputs": [
    {
     "name": "stdout",
     "output_type": "stream",
     "text": [
      "0.5\n"
     ]
    }
   ],
   "source": [
    "# Figure probabilities\n",
    "P_Hearts = 13/52\n",
    "P_Diamonds = 13/52\n",
    "\n",
    "# Probability of red calculation\n",
    "P_Red = P_Hearts + P_Diamonds\n",
    "\n",
    "print(P_Red)"
   ]
  },
  {
   "cell_type": "raw",
   "id": "ca452458-31be-4300-8b65-8472208234d8",
   "metadata": {},
   "source": [
    "Calculate the probability of getting a Jack or a spade."
   ]
  },
  {
   "cell_type": "code",
   "execution_count": 47,
   "id": "367438a2-c55a-4192-b098-c234a9b9fac4",
   "metadata": {
    "tags": []
   },
   "outputs": [
    {
     "name": "stdout",
     "output_type": "stream",
     "text": [
      "0.3076923076923077\n"
     ]
    }
   ],
   "source": [
    "# Figure probabilities\n",
    "P_Jack = 4/52\n",
    "P_Spade = 13/52\n",
    "\n",
    "# Joint probability\n",
    "P_Jack_n_Spade = 1/52\n",
    "\n",
    "# Probability of Jack or spade\n",
    "P_Jack_or_Spade = P_Jack + P_Spade - P_Jack_n_Spade\n",
    "\n",
    "print(P_Jack_or_Spade)"
   ]
  },
  {
   "cell_type": "raw",
   "id": "4becc414-e304-4327-aec1-edcc3c88f920",
   "metadata": {},
   "source": [
    "Calculate the probability of getting a King or a Queen."
   ]
  },
  {
   "cell_type": "code",
   "execution_count": 48,
   "id": "b4e2a40f-1889-4d77-81c9-685bc1376a68",
   "metadata": {
    "tags": []
   },
   "outputs": [
    {
     "name": "stdout",
     "output_type": "stream",
     "text": [
      "0.15384615384615385\n"
     ]
    }
   ],
   "source": [
    "# Figure probabilities\n",
    "P_King = 4/52\n",
    "P_Queen = 4/52\n",
    "\n",
    "# Joint probability\n",
    "P_King_n_Queen = 0\n",
    "\n",
    "# Probability of King or Queen\n",
    "P_King_or_Queen = P_King + P_Queen - P_King_n_Queen\n",
    "\n",
    "print(P_King_or_Queen)"
   ]
  },
  {
   "cell_type": "raw",
   "id": "2cf3a8a2-6684-4787-8dd8-82158b2fe0b3",
   "metadata": {},
   "source": [
    "What is the probability of a flight being on time?"
   ]
  },
  {
   "cell_type": "code",
   "execution_count": 49,
   "id": "15eddbb9-8b82-49d4-a43f-1c10270b5722",
   "metadata": {
    "tags": []
   },
   "outputs": [
    {
     "name": "stdout",
     "output_type": "stream",
     "text": [
      "0.8731884057971014\n"
     ]
    }
   ],
   "source": [
    "# Needed quantities\n",
    "On_time = 241\n",
    "Total_departures = 276\n",
    "\n",
    "# Probability calculation\n",
    "P_On_time = On_time / Total_departures\n",
    "\n",
    "print(P_On_time)"
   ]
  },
  {
   "cell_type": "raw",
   "id": "e3f3bbb7-d061-4b43-aa11-a77690a1fbf5",
   "metadata": {},
   "source": [
    "Every departure is on time with probability P_On_time. What is the probability of a flight being delayed?"
   ]
  },
  {
   "cell_type": "code",
   "execution_count": 50,
   "id": "df3b8fc8-63bf-4361-b09b-aec02f1b400c",
   "metadata": {
    "tags": []
   },
   "outputs": [
    {
     "name": "stdout",
     "output_type": "stream",
     "text": [
      "0.12681159420289856\n"
     ]
    }
   ],
   "source": [
    "# Needed quantities\n",
    "P_On_time = 241 / 276\n",
    "\n",
    "# Probability calculation\n",
    "P_Delayed = 1 - P_On_time\n",
    "\n",
    "print(P_Delayed)"
   ]
  },
  {
   "cell_type": "raw",
   "id": "03af86cd-6322-4390-9e20-55462250fd4e",
   "metadata": {},
   "source": [
    "Given that it's Friday, what is the probability of a flight being delayed (P(Delayed|Friday))?"
   ]
  },
  {
   "cell_type": "code",
   "execution_count": 51,
   "id": "09d58d5e-3bdf-4b47-bccb-e3b7fd6bd0f7",
   "metadata": {
    "tags": []
   },
   "outputs": [
    {
     "name": "stdout",
     "output_type": "stream",
     "text": [
      "0.07971014492753623\n"
     ]
    }
   ],
   "source": [
    "# Needed quantities\n",
    "Delayed_on_Friday = 11\n",
    "On_Friday = 138\n",
    "\n",
    "# Probability calculation\n",
    "P_Delayed_g_Friday = Delayed_on_Friday / On_Friday\n",
    "\n",
    "print(P_Delayed_g_Friday)"
   ]
  },
  {
   "cell_type": "raw",
   "id": "9291eb35-f8b8-4eec-8685-3de3a5f5f514",
   "metadata": {},
   "source": [
    "Calculate P(Ace|Red)."
   ]
  },
  {
   "cell_type": "code",
   "execution_count": 52,
   "id": "58f8d88a-0232-4885-a694-e9377297b7ae",
   "metadata": {
    "tags": []
   },
   "outputs": [
    {
     "name": "stdout",
     "output_type": "stream",
     "text": [
      "0.07692307692307693\n"
     ]
    }
   ],
   "source": [
    "# Individual probabilities\n",
    "P_Red = 26/52\n",
    "P_Red_n_Ace = 2/52\n",
    "\n",
    "# Conditional probability calculation\n",
    "P_Ace_given_Red = P_Red_n_Ace / P_Red\n",
    "\n",
    "print(P_Ace_given_Red)"
   ]
  },
  {
   "cell_type": "raw",
   "id": "cd056501-d1ee-4c06-8999-ebae33baddfd",
   "metadata": {},
   "source": [
    "Calculate P(Black|Ace)."
   ]
  },
  {
   "cell_type": "code",
   "execution_count": 53,
   "id": "de178b19-fbbc-44de-8c71-554eed07f459",
   "metadata": {
    "tags": []
   },
   "outputs": [
    {
     "name": "stdout",
     "output_type": "stream",
     "text": [
      "0.5\n"
     ]
    }
   ],
   "source": [
    "# Individual probabilities\n",
    "P_Ace = 4/52\n",
    "P_Ace_n_Black = 2/52\n",
    "\n",
    "# Conditional probability calculation\n",
    "P_Black_given_Ace = P_Ace_n_Black / P_Ace\n",
    "\n",
    "print(P_Black_given_Ace)"
   ]
  },
  {
   "cell_type": "raw",
   "id": "a8a43040-3cf4-4d99-86b5-9395b6017313",
   "metadata": {},
   "source": [
    "Calculate P(Non Ace|Black)."
   ]
  },
  {
   "cell_type": "code",
   "execution_count": 54,
   "id": "91d285a7-8158-42d4-b8b2-2c7d737d75db",
   "metadata": {
    "tags": []
   },
   "outputs": [
    {
     "name": "stdout",
     "output_type": "stream",
     "text": [
      "0.9230769230769231\n"
     ]
    }
   ],
   "source": [
    "# Individual probabilities\n",
    "P_Black = 26/52\n",
    "P_Black_n_Non_ace = 24/52\n",
    "\n",
    "# Conditional probability calculation\n",
    "P_Non_ace_given_Black = P_Black_n_Non_ace / P_Black\n",
    "\n",
    "print(P_Non_ace_given_Black)"
   ]
  },
  {
   "cell_type": "raw",
   "id": "f55b9750-a40d-4fee-b4de-7b98952070e4",
   "metadata": {
    "tags": []
   },
   "source": [
    "Calculate P(Red|Non Ace)."
   ]
  },
  {
   "cell_type": "code",
   "execution_count": 56,
   "id": "c8b0cf00-46c4-42e4-8f62-f1ed757d0451",
   "metadata": {
    "tags": []
   },
   "outputs": [
    {
     "name": "stdout",
     "output_type": "stream",
     "text": [
      "0.5\n"
     ]
    }
   ],
   "source": [
    "# Individual probabilities\n",
    "P_Non_ace = 48/52\n",
    "P_Non_ace_n_Red = 24/52\n",
    "\n",
    "# Conditional probability calculation\n",
    "P_Red_given_Non_ace = P_Non_ace_n_Red / P_Non_ace\n",
    "\n",
    "print(P_Red_given_Non_ace)"
   ]
  },
  {
   "cell_type": "raw",
   "id": "fb55f60f-0302-4dbd-b20a-adca708dabcc",
   "metadata": {},
   "source": [
    "Calculate the probability of getting two Jacks (P(Jack and Jack))."
   ]
  },
  {
   "cell_type": "code",
   "execution_count": 58,
   "id": "040b4162-fa0e-4bf8-8d5b-a7b9721f20e2",
   "metadata": {
    "tags": []
   },
   "outputs": [
    {
     "name": "stdout",
     "output_type": "stream",
     "text": [
      "0.004524886877828055\n"
     ]
    }
   ],
   "source": [
    "# Needed probabilities\n",
    "P_first_Jack = 4/52\n",
    "P_Jack_given_Jack = 3/51\n",
    "\n",
    "# Joint probability calculation\n",
    "P_two_Jacks = P_first_Jack * P_Jack_given_Jack\n",
    "\n",
    "print(P_two_Jacks)"
   ]
  },
  {
   "cell_type": "raw",
   "id": "99073016-fc83-4ab5-a96a-2c073b45cea9",
   "metadata": {},
   "source": [
    "Calculate P(Ace|Spade)."
   ]
  },
  {
   "cell_type": "code",
   "execution_count": 59,
   "id": "b7d9379c-0715-4018-aff2-4e95a0f36fe5",
   "metadata": {
    "tags": []
   },
   "outputs": [
    {
     "name": "stdout",
     "output_type": "stream",
     "text": [
      "0.07692307692307693\n"
     ]
    }
   ],
   "source": [
    "# Needed probabilities\n",
    "P_Spade = 13/52\n",
    "P_Spade_n_Ace = 1/52\n",
    "\n",
    "# Conditional probability calculation\n",
    "P_Ace_given_Spade = P_Spade_n_Ace / P_Spade\n",
    "\n",
    "print(P_Ace_given_Spade)"
   ]
  },
  {
   "cell_type": "raw",
   "id": "a4926239-37ce-4b76-b4b2-5121f24c8ac9",
   "metadata": {},
   "source": [
    "Calculate P(Queen|Face card)."
   ]
  },
  {
   "cell_type": "code",
   "execution_count": 60,
   "id": "49451abf-b5c7-4469-8ad8-935001fbb121",
   "metadata": {
    "tags": []
   },
   "outputs": [
    {
     "name": "stdout",
     "output_type": "stream",
     "text": [
      "0.3333333333333333\n"
     ]
    }
   ],
   "source": [
    "# Needed probabilities\n",
    "P_Face_card = 12/52\n",
    "P_Face_card_n_Queen = 4/52\n",
    "\n",
    "# Conditional probability calculation\n",
    "P_Queen_given_Face_card = P_Face_card_n_Queen / P_Face_card\n",
    "\n",
    "print(P_Queen_given_Face_card)"
   ]
  },
  {
   "cell_type": "markdown",
   "id": "1be881c9-e357-40f7-9087-e1dd226d266a",
   "metadata": {},
   "source": [
    "## Formula 1 engines"
   ]
  },
  {
   "cell_type": "raw",
   "id": "cc7c394f-ccfd-4848-8f66-b1c9863c462e",
   "metadata": {},
   "source": [
    "Calculate the following probabilities:\n",
    "\n",
    "The manufacturer is A (P_A).\n",
    "The engine lasts more than 5,000 km given that manufacturer is A (P_last5000_g_A).\n",
    "The manufacturer is B (P_B).\n",
    "The engine lasts more than 5,000 km given that manufacturer is B (P_last5000_g_B).\n"
   ]
  },
  {
   "cell_type": "raw",
   "id": "1ccb1c73-4b65-4053-9247-8e7b29108da3",
   "metadata": {},
   "source": [
    "Use the total probability law to calculate the probability that the engine will last more than 5,000 km and store the result into P_last_5000."
   ]
  },
  {
   "cell_type": "code",
   "execution_count": 61,
   "id": "8a62c926-ac1d-4a76-adf8-26d0a53186f6",
   "metadata": {
    "tags": []
   },
   "outputs": [
    {
     "name": "stdout",
     "output_type": "stream",
     "text": [
      "0.978\n"
     ]
    }
   ],
   "source": [
    "# Needed probabilities\n",
    "P_A = 0.7\n",
    "P_last5000_g_A = .99\n",
    "P_B = 0.3\n",
    "P_last5000_g_B = .95\n",
    "\n",
    "# Total probability calculation\n",
    "P_last_5000 = P_A * P_last5000_g_A + P_B * P_last5000_g_B\n",
    "\n",
    "print(P_last_5000)"
   ]
  },
  {
   "cell_type": "raw",
   "id": "f27e6ddb-8310-45a8-9cc8-07d51a84d91d",
   "metadata": {
    "tags": []
   },
   "source": [
    "Voters\n",
    "Of the total population of three states X, Y, and Z, 43% are from state X, 25% are from state Y, and 32% are from state Z. A poll is taken and the result is the following:\n",
    "\n",
    "53% of the voters support John Doe in state X.\n",
    "67% of the voters support John Doe in state Y.\n",
    "32% of the voters support John Doe in state Z."
   ]
  },
  {
   "cell_type": "raw",
   "id": "09321b34-4ec9-45d7-8259-518bb404321c",
   "metadata": {},
   "source": [
    "What is the probability that the voter lives in state X and supports John Doe?"
   ]
  },
  {
   "cell_type": "code",
   "execution_count": 63,
   "id": "8e68acdc-7500-42f5-a22f-7a70b2b09200",
   "metadata": {
    "tags": []
   },
   "outputs": [
    {
     "name": "stdout",
     "output_type": "stream",
     "text": [
      "0.22790000000000002\n"
     ]
    }
   ],
   "source": [
    "# Individual probabilities\n",
    "P_X = .43\n",
    "\n",
    "# Conditional probabilities\n",
    "P_Support_g_X = .53\n",
    "\n",
    "# Total probability calculation\n",
    "P_X_n_Support = P_Support_g_X * P_X\n",
    "print(P_X_n_Support)"
   ]
  },
  {
   "cell_type": "raw",
   "id": "94e89559-8a40-4fb6-88d4-dd6269fa346c",
   "metadata": {},
   "source": [
    "What is the probability that the voter lives in state Z and does not support John Doe?"
   ]
  },
  {
   "cell_type": "code",
   "execution_count": 64,
   "id": "e8c81b0d-3175-4e14-b231-10d14dfdeb28",
   "metadata": {
    "tags": []
   },
   "outputs": [
    {
     "name": "stdout",
     "output_type": "stream",
     "text": [
      "0.2176\n"
     ]
    }
   ],
   "source": [
    "# Individual probabilities\n",
    "P_Z = .32\n",
    "\n",
    "# Conditional probabilities\n",
    "P_Support_g_Z = 0.32\n",
    "P_NoSupport_g_Z = 1 - P_Support_g_Z\n",
    "\n",
    "# Total probability calculation\n",
    "P_Z_n_NoSupport = P_Z * P_NoSupport_g_Z\n",
    "print(P_Z_n_NoSupport)"
   ]
  },
  {
   "cell_type": "code",
   "execution_count": null,
   "id": "97525f07-0594-4550-8bbf-de0353c0778f",
   "metadata": {},
   "outputs": [],
   "source": [
    "What is the total percentage of voters that support John Doe?"
   ]
  },
  {
   "cell_type": "code",
   "execution_count": 65,
   "id": "3172aebc-9eae-4635-9865-8ca22019cd64",
   "metadata": {
    "tags": []
   },
   "outputs": [
    {
     "name": "stdout",
     "output_type": "stream",
     "text": [
      "0.4978\n"
     ]
    }
   ],
   "source": [
    "# Individual probabilities\n",
    "P_X = .43\n",
    "P_Y = .25\n",
    "P_Z = .32\n",
    "\n",
    "# Conditional probabilities\n",
    "P_Support_g_X = .53\n",
    "P_Support_g_Y = .67\n",
    "P_Support_g_Z = .32\n",
    "\n",
    "\n",
    "# Total probability calculation\n",
    "P_Support = P_X * P_Support_g_X + P_Y * P_Support_g_Y + P_Z * P_Support_g_Z\n",
    "print(P_Support)"
   ]
  },
  {
   "cell_type": "markdown",
   "id": "1d9b0630-50a8-48e2-99be-ec9bd80d87d1",
   "metadata": {},
   "source": [
    "# Factories and parts"
   ]
  },
  {
   "cell_type": "raw",
   "id": "cfbad886-a281-4c2a-b22b-6a8f1e66afcf",
   "metadata": {},
   "source": [
    "\n",
    "A certain electronic part is manufactured by three different vendors named V1, V2, and V3.\n",
    "\n",
    "Half of the parts are produced by V1, 25% by V2, and the rest by V3. The probability of a part being damaged given that it was produced by V1 is 1%, while it's 2% for V2 and 3% for V3.\n",
    "\n",
    "If a part taken at random is damaged, answer the following questions."
   ]
  },
  {
   "cell_type": "raw",
   "id": "871a31a2-0108-4c7f-ab14-33841eca25ff",
   "metadata": {},
   "source": [
    "What is the probability that the part was manufactured by V1?"
   ]
  },
  {
   "cell_type": "code",
   "execution_count": 66,
   "id": "843959cb-df02-4e13-873b-03fc81a8c2b5",
   "metadata": {
    "tags": []
   },
   "outputs": [
    {
     "name": "stdout",
     "output_type": "stream",
     "text": [
      "0.2857142857142857\n"
     ]
    }
   ],
   "source": [
    "# Individual probabilities & conditional probabilities\n",
    "P_V1 = .50\n",
    "P_V2 = .25\n",
    "P_V3 = .25\n",
    "P_D_g_V1 = .01\n",
    "P_D_g_V2 = .02\n",
    "P_D_g_V3 = .03\n",
    "\n",
    "# Probability of Damaged\n",
    "P_Damaged = (P_V1 * P_D_g_V1) + (P_V2 * P_D_g_V2) + (P_V3 * P_D_g_V3)\n",
    "\n",
    "# Bayes' rule for P(V1|D)\n",
    "P_V1_g_D = (P_V1 * P_D_g_V1) / P_Damaged\n",
    "\n",
    "print(P_V1_g_D)"
   ]
  },
  {
   "cell_type": "raw",
   "id": "cdcd0e43-8ec2-4c89-b7c6-c93906f71b89",
   "metadata": {},
   "source": [
    "What is the probability that it was manufactured by V2?"
   ]
  },
  {
   "cell_type": "code",
   "execution_count": 67,
   "id": "73afbd97-6596-4063-b386-01276c84f03a",
   "metadata": {
    "tags": []
   },
   "outputs": [
    {
     "name": "stdout",
     "output_type": "stream",
     "text": [
      "0.2857142857142857\n"
     ]
    }
   ],
   "source": [
    "# Individual probabilities & conditional probabilities\n",
    "P_V1 = 0.5\n",
    "P_V2 = 0.25\n",
    "P_V3 = 0.25\n",
    "P_D_g_V1 = 0.01\n",
    "P_D_g_V2 = 0.02\n",
    "P_D_g_V3 = 0.03\n",
    "\n",
    "# Probability of Damaged\n",
    "P_Damaged = (P_V1 * P_D_g_V1) + (P_V2 * P_D_g_V2) + (P_V3 * P_D_g_V3)\n",
    "\n",
    "# Bayes' rule for P(V2|D)\n",
    "P_V2_g_D = (P_V2 * P_D_g_V2) / P_Damaged\n",
    "\n",
    "print(P_V2_g_D)"
   ]
  },
  {
   "cell_type": "raw",
   "id": "7436da31-dbd3-4b56-9d51-073973b46714",
   "metadata": {},
   "source": [
    "What is the probability that the part was manufactured by V3?"
   ]
  },
  {
   "cell_type": "code",
   "execution_count": 68,
   "id": "bc86d276-8820-4b01-9e19-b838c5b17368",
   "metadata": {
    "tags": []
   },
   "outputs": [
    {
     "name": "stdout",
     "output_type": "stream",
     "text": [
      "0.4285714285714285\n"
     ]
    }
   ],
   "source": [
    "# Individual probabilities & conditional probabilities\n",
    "P_V1 = 0.5\n",
    "P_V2 = 0.25\n",
    "P_V3 = 0.25\n",
    "P_D_g_V1 = 0.01\n",
    "P_D_g_V2 = 0.02\n",
    "P_D_g_V3 = 0.03\n",
    "\n",
    "# Probability of Damaged\n",
    "P_Damaged = (P_V1 * P_D_g_V1) + (P_V2 * P_D_g_V2) + (P_V3 * P_D_g_V3)\n",
    "\n",
    "# Bayes' rule for P(V3|D)\n",
    "P_V3_g_D = (P_V3 * P_D_g_V3) / P_Damaged\n",
    "\n",
    "print(P_V3_g_D)"
   ]
  },
  {
   "cell_type": "markdown",
   "id": "21d90990-bccf-454d-be35-02c9998ebb4a",
   "metadata": {},
   "source": [
    "## Swine flu blood test"
   ]
  },
  {
   "cell_type": "markdown",
   "id": "ab6341d0-4bc0-4515-93f9-01b5f0af0fed",
   "metadata": {},
   "source": [
    "What is the probability that you have swine flu given that your test outcome is positive?"
   ]
  },
  {
   "cell_type": "code",
   "execution_count": 69,
   "id": "e677bcf0-dd1b-4707-b433-71b362ffff75",
   "metadata": {
    "tags": []
   },
   "outputs": [
    {
     "name": "stdout",
     "output_type": "stream",
     "text": [
      "0.010990218705352238\n"
     ]
    }
   ],
   "source": [
    "# Probability of having Swine_flu\n",
    "P_Swine_flu = 1./9000\n",
    "# Probability of not having Swine_flu\n",
    "P_no_Swine_flu = 1 - P_Swine_flu\n",
    "# Probability of being positive given that you have Swine_flu\n",
    "P_Positive_g_Swine_flu = 1\n",
    "# Probability of being positive given that you do not have Swine_flu\n",
    "P_Positive_g_no_Swine_flu = 0.01\n",
    "\n",
    "# Probability of Positive\n",
    "P_Positive = (P_Swine_flu * P_Positive_g_Swine_flu) + (P_no_Swine_flu * P_Positive_g_no_Swine_flu)\n",
    "\n",
    "# Bayes' rule for P(Swine_flu|Positive)\n",
    "P_Swine_flu_g_Positive = (P_Swine_flu * P_Positive_g_Swine_flu) / P_Positive\n",
    "\n",
    "print(P_Swine_flu_g_Positive)"
   ]
  },
  {
   "cell_type": "raw",
   "id": "533bb9c6-6542-45d2-a80d-6d0db4a690ae",
   "metadata": {},
   "source": [
    "You went to Miami and 1 in 350 people came back with swine flu. Calculate the new probability that you'll test positive."
   ]
  },
  {
   "cell_type": "code",
   "execution_count": 70,
   "id": "43d7e17e-6afa-4267-a92c-8fc1455f9d39",
   "metadata": {
    "tags": []
   },
   "outputs": [
    {
     "name": "stdout",
     "output_type": "stream",
     "text": [
      "0.22271714922048996\n"
     ]
    }
   ],
   "source": [
    "# Individual probabilities & conditional probabilities\n",
    "P_Swine_flu = 1./350\n",
    "P_no_Swine_flu = 1 - P_Swine_flu\n",
    "P_Positive_g_Swine_flu = 1\n",
    "P_Positive_g_no_Swine_flu = 0.01\n",
    "\n",
    "# Probability of Positive\n",
    "P_Positive = (P_Swine_flu * P_Positive_g_Swine_flu) + (P_no_Swine_flu * P_Positive_g_no_Swine_flu)\n",
    "\n",
    "# Bayes' rule for P(Swine_flu|Positive)\n",
    "P_Swine_flu_g_Positive = (P_Positive_g_Swine_flu * P_Swine_flu) / P_Positive\n",
    "\n",
    "print(P_Swine_flu_g_Positive)"
   ]
  },
  {
   "cell_type": "raw",
   "id": "c74aa567-331d-43a1-a9ad-e48689f6c527",
   "metadata": {},
   "source": [
    "If the probability of a false positive is 2%, what is the new probability that you have swine flu after your vacation?"
   ]
  },
  {
   "cell_type": "code",
   "execution_count": 71,
   "id": "c8a1c89b-ee13-4252-882a-f6efd9676480",
   "metadata": {
    "tags": []
   },
   "outputs": [
    {
     "name": "stdout",
     "output_type": "stream",
     "text": [
      "0.12531328320802004\n"
     ]
    }
   ],
   "source": [
    "# Individual probabilities & conditional probabilities\n",
    "P_Swine_flu = 1./350\n",
    "P_no_Swine_flu = 1 - P_Swine_flu\n",
    "P_Positive_g_Swine_flu = 1\n",
    "P_Positive_g_no_Swine_flu = 0.02\n",
    "\n",
    "# Probability of Positive\n",
    "P_Positive = P_Swine_flu * P_Positive_g_Swine_flu + P_no_Swine_flu * P_Positive_g_no_Swine_flu\n",
    "\n",
    "# Bayes' rule for P(Swine_flu|Positive)\n",
    "P_Swine_flu_g_Positive = (P_Swine_flu * P_Positive_g_Swine_flu) / P_Positive\n",
    "\n",
    "print(P_Swine_flu_g_Positive)"
   ]
  },
  {
   "cell_type": "markdown",
   "id": "1ea648c7-4530-4a1e-92a3-8107c586a3f1",
   "metadata": {},
   "source": [
    "# Important probability distributions"
   ]
  },
  {
   "cell_type": "markdown",
   "id": "881f8a72-da20-4b88-b735-6f0b97dd7e9f",
   "metadata": {},
   "source": [
    "## Plotting normal distributions"
   ]
  },
  {
   "cell_type": "raw",
   "id": "73d11b46-9073-4836-a43a-f359ee9d968e",
   "metadata": {},
   "source": [
    "Import norm from scipy.stats, matplotlib.pyplot as plt, and seaborn as sns.\n",
    "Generate a normal distribution sample with mean 3.15 and standard deviation 1.5.\n",
    "Plot the sample generated."
   ]
  },
  {
   "cell_type": "code",
   "execution_count": 72,
   "id": "d6aa9796-b8ea-445f-8017-2a72e6c0abd0",
   "metadata": {
    "tags": []
   },
   "outputs": [
    {
     "name": "stderr",
     "output_type": "stream",
     "text": [
      "C:\\Users\\laksh\\AppData\\Local\\Temp\\ipykernel_3408\\2964802407.py:10: UserWarning: \n",
      "\n",
      "`distplot` is a deprecated function and will be removed in seaborn v0.14.0.\n",
      "\n",
      "Please adapt your code to use either `displot` (a figure-level function with\n",
      "similar flexibility) or `histplot` (an axes-level function for histograms).\n",
      "\n",
      "For a guide to updating your code to use the new functions, please see\n",
      "https://gist.github.com/mwaskom/de44147ed2974457ad6372750bbe5751\n",
      "\n",
      "  sns.distplot(sample)\n"
     ]
    },
    {
     "data": {
      "image/png": "[encoded data removed]",
      "text/plain": [
       "<Figure size 640x480 with 1 Axes>"
      ]
     },
     "metadata": {},
     "output_type": "display_data"
    }
   ],
   "source": [
    "# Import norm, matplotlib.pyplot, and seaborn\n",
    "from scipy.stats import norm\n",
    "import matplotlib.pyplot as plt \n",
    "import seaborn as sns\n",
    "\n",
    "# Create the sample using norm.rvs()\n",
    "sample = norm.rvs(loc=3.15, scale=1.5, size=10000, random_state=13)\n",
    "\n",
    "# Plot the sample\n",
    "sns.distplot(sample)\n",
    "plt.show()"
   ]
  },
  {
   "cell_type": "markdown",
   "id": "6b835f74-855e-4a39-a888-23bb10fb690a",
   "metadata": {},
   "source": [
    "## Restaurant spending example"
   ]
  },
  {
   "cell_type": "raw",
   "id": "d53642aa-44f5-46af-81a1-5b486058c57e",
   "metadata": {},
   "source": [
    "What is the probability that a customer will spend $3 or less?"
   ]
  },
  {
   "cell_type": "code",
   "execution_count": 73,
   "id": "89fb85ab-311b-415b-bd38-0f9fa48080e9",
   "metadata": {
    "tags": []
   },
   "outputs": [
    {
     "name": "stdout",
     "output_type": "stream",
     "text": [
      "0.46017216272297107\n"
     ]
    }
   ],
   "source": [
    "# Probability of spending $3 or less\n",
    "spending = norm.cdf(3, loc=3.15, scale=1.5)\n",
    "print(spending)"
   ]
  },
  {
   "cell_type": "markdown",
   "id": "b5b0881c-9624-4655-b5a4-daed2be01176",
   "metadata": {},
   "source": [
    "What is the probability that a customer will spend more than $5?"
   ]
  },
  {
   "cell_type": "code",
   "execution_count": 74,
   "id": "7c14db15-29b9-4af4-9a91-9fb9db649023",
   "metadata": {
    "tags": []
   },
   "outputs": [
    {
     "name": "stdout",
     "output_type": "stream",
     "text": [
      "0.10872571321259111\n"
     ]
    }
   ],
   "source": [
    "# Probability of spending more than $5\n",
    "spending = norm.sf(5, loc=3.15, scale=1.5)\n",
    "print(spending)"
   ]
  },
  {
   "cell_type": "raw",
   "id": "5b0f6c58-4ae2-4943-8c3e-68bc96a98008",
   "metadata": {},
   "source": [
    "What is the probability that a customer will spend more than $2.15 and $4.15 or less?"
   ]
  },
  {
   "cell_type": "code",
   "execution_count": 75,
   "id": "6ff9a6dc-2dc9-4b6f-b140-648bada71121",
   "metadata": {
    "tags": []
   },
   "outputs": [
    {
     "name": "stdout",
     "output_type": "stream",
     "text": [
      "0.4950149249061543\n"
     ]
    }
   ],
   "source": [
    "# Probability of spending more than $2.15 and $4.15 or less\n",
    "spending_4 = norm.cdf(4.15, loc=3.15, scale=1.5)\n",
    "spending_2 = norm.cdf(2.15, loc=3.15, scale=1.5)\n",
    "print(spending_4 - spending_2)"
   ]
  },
  {
   "cell_type": "raw",
   "id": "04c27942-1ac4-4732-b117-33f50138f787",
   "metadata": {},
   "source": [
    "What is the probability that a customer will spend $2.15 or less or more than $4.15?"
   ]
  },
  {
   "cell_type": "code",
   "execution_count": 76,
   "id": "a0be012d-388d-42e1-ac2a-205afc2e49b0",
   "metadata": {
    "tags": []
   },
   "outputs": [
    {
     "name": "stdout",
     "output_type": "stream",
     "text": [
      "0.5049850750938457\n"
     ]
    }
   ],
   "source": [
    "# Probability of spending $2.15 or less or more than $4.15\n",
    "spending_2 = norm.cdf(2.15, loc=3.15, scale=1.5)\n",
    "spending_over_4 = norm.sf(4.15, loc=3.15, scale=1.5) \n",
    "print(spending_2 + spending_over_4)"
   ]
  },
  {
   "cell_type": "markdown",
   "id": "66f09601-4c1a-4078-b45c-c3e21906e997",
   "metadata": {},
   "source": [
    "## Smartphone battery example"
   ]
  },
  {
   "cell_type": "raw",
   "id": "0e7fcd5d-787d-4e2c-80db-44837bf2532d",
   "metadata": {},
   "source": [
    "What is the probability that the battery will last less than 3 hours?"
   ]
  },
  {
   "cell_type": "code",
   "execution_count": 77,
   "id": "cabca0a8-ce91-45a7-b77f-5fe0b312de2d",
   "metadata": {
    "tags": []
   },
   "outputs": [
    {
     "name": "stdout",
     "output_type": "stream",
     "text": [
      "0.09121121972586788\n"
     ]
    }
   ],
   "source": [
    "# Probability that battery will last less than 3 hours\n",
    "less_than_3h = norm.cdf(3, loc=5, scale=1.5)\n",
    "print(less_than_3h)"
   ]
  },
  {
   "cell_type": "raw",
   "id": "b46844c5-dfe8-4b89-b8d0-f57797094c69",
   "metadata": {},
   "source": [
    "What is the probability that the battery will last more than 3 hours?"
   ]
  },
  {
   "cell_type": "code",
   "execution_count": 78,
   "id": "e06fb211-2671-4fa6-8d5a-58c648f53a13",
   "metadata": {
    "tags": []
   },
   "outputs": [
    {
     "name": "stdout",
     "output_type": "stream",
     "text": [
      "0.9087887802741321\n"
     ]
    }
   ],
   "source": [
    "# Probability that battery will last more than 3 hours\n",
    "more_than_3h = norm.sf(3, loc=5, scale=1.5)\n",
    "print(more_than_3h)"
   ]
  },
  {
   "cell_type": "raw",
   "id": "fb855dff-598a-4389-9861-1852fdb80428",
   "metadata": {},
   "source": [
    "What is the probability that the battery will last between 5 and 7 hours?"
   ]
  },
  {
   "cell_type": "code",
   "execution_count": 79,
   "id": "1310abb5-6775-4b35-a9c3-eb3189bc53da",
   "metadata": {
    "tags": []
   },
   "outputs": [
    {
     "name": "stdout",
     "output_type": "stream",
     "text": [
      "0.4087887802741321\n"
     ]
    }
   ],
   "source": [
    "# Probability that battery will last between 5 and 7 hours\n",
    "P_less_than_7h = norm.cdf(7, loc=5, scale=1.5)\n",
    "P_less_than_5h = norm.sf(5, loc=5, scale=1.5)\n",
    "print(P_less_than_7h - P_less_than_5h)"
   ]
  },
  {
   "cell_type": "markdown",
   "id": "e7e271b7-8070-4274-aa6f-5e75d7533851",
   "metadata": {},
   "source": [
    "# Adults' heights example\n",
    "The heights of adults aged between 18 and 35 years are normally distributed. For males, the mean height is 70 inches with a standard deviation of 4. Adult females have a mean height of 65 inches with a standard deviation of 3.5. You can see how the heights are distributed in this plot:"
   ]
  },
  {
   "cell_type": "raw",
   "id": "f59e8c52-e457-4c3b-a0cc-8c7ebc46f636",
   "metadata": {},
   "source": [
    "Print the range of female heights one standard deviation from the mean."
   ]
  },
  {
   "cell_type": "code",
   "execution_count": 80,
   "id": "0b9a1cc6-a8eb-4884-867c-3c2d73ce8f0a",
   "metadata": {
    "tags": []
   },
   "outputs": [
    {
     "name": "stdout",
     "output_type": "stream",
     "text": [
      "(61.51939740876586, 68.48060259123413)\n"
     ]
    }
   ],
   "source": [
    "# Values one standard deviation from mean height for females\n",
    "interval = norm.interval(0.68, loc=65, scale=3.5)\n",
    "print(interval)"
   ]
  },
  {
   "cell_type": "code",
   "execution_count": null,
   "id": "39ff7c35-5d6d-494d-a292-3bbd3bb6a9fc",
   "metadata": {},
   "outputs": [],
   "source": [
    "Print the value where the tallest males fall with 0.01 probability."
   ]
  },
  {
   "cell_type": "code",
   "execution_count": 81,
   "id": "b9f48213-4ff1-4d8e-b4de-cd3f78c847b2",
   "metadata": {
    "tags": []
   },
   "outputs": [
    {
     "name": "stdout",
     "output_type": "stream",
     "text": [
      "79.30539149616337\n"
     ]
    }
   ],
   "source": [
    "# Value where the tallest males fall with 0.01 probability\n",
    "tallest = norm.ppf(0.99, loc=70, scale=4)\n",
    "print(tallest)"
   ]
  },
  {
   "cell_type": "raw",
   "id": "db7ad852-bc9a-4f8e-840e-1b516c1a893f",
   "metadata": {},
   "source": [
    "Print the probability of being taller than 73 inches for a male and for a female."
   ]
  },
  {
   "cell_type": "code",
   "execution_count": 82,
   "id": "6e7eb685-ffd1-4928-affc-f21401ab6891",
   "metadata": {
    "tags": []
   },
   "outputs": [
    {
     "name": "stdout",
     "output_type": "stream",
     "text": [
      "0.2266273523768682 0.011135489479616392\n"
     ]
    }
   ],
   "source": [
    "# Probability of being taller than 73 inches for males and females\n",
    "P_taller_male = norm.sf(73, loc=70, scale=4)\n",
    "P_taller_female = norm.sf(73, loc=65, scale=3.5)\n",
    "print(P_taller_male, P_taller_female)"
   ]
  },
  {
   "cell_type": "raw",
   "id": "8d5f00e0-3dac-4af3-bfcb-cc326b155dcf",
   "metadata": {},
   "source": [
    "Print the probability of being shorter than 61 inches for a male and for a female."
   ]
  },
  {
   "cell_type": "code",
   "execution_count": 83,
   "id": "2e8e6f20-0f45-4267-90b5-034496e5dd84",
   "metadata": {
    "tags": []
   },
   "outputs": [
    {
     "name": "stdout",
     "output_type": "stream",
     "text": [
      "0.012224472655044696 0.12654895447355774\n"
     ]
    }
   ],
   "source": [
    "# Probability of being shorter than 61 inches for males and females\n",
    "P_shorter_male = norm.cdf(61, loc=70, scale=4)\n",
    "P_shorter_female = norm.cdf(61, loc=65, scale=3.5)\n",
    "print(P_shorter_male, P_shorter_female)"
   ]
  },
  {
   "cell_type": "markdown",
   "id": "6042292d-972e-4092-ae6b-d297aa29e778",
   "metadata": {},
   "source": [
    "## ATM example"
   ]
  },
  {
   "cell_type": "raw",
   "id": "1fc6870c-5997-4454-b0a1-61cddb2cbfd7",
   "metadata": {},
   "source": [
    "If you know how many specific events occurred per unit of measure, you can assume that the distribution of the random variable follows a Poisson distribution to study the phenomenon.\n",
    "\n",
    "Consider an ATM (automatic teller machine) at a very busy shopping mall. The bank wants to avoid making customers wait in line to use the ATM. It has been observed that the average number of customers making withdrawals between 10:00 a.m. and 10:05 a.m. on any given day is 1.\n",
    "\n",
    "As a data analyst at the bank, you are asked what the probability is that the bank will need to install another ATM to handle the load.\n",
    "\n",
    "To answer the question, you need to calculate the probability of getting more than one customer during that time period."
   ]
  },
  {
   "cell_type": "raw",
   "id": "7cc1fbe7-ca1b-4da4-b4db-1d9beb151eb0",
   "metadata": {},
   "source": [
    "Import poisson from scipy.stats.\n",
    "Calculate the probability of having more than one customer visiting the ATM in this 5-minute period."
   ]
  },
  {
   "cell_type": "code",
   "execution_count": 84,
   "id": "0636b3e0-87df-48ac-97b8-cd5561409992",
   "metadata": {
    "tags": []
   },
   "outputs": [
    {
     "name": "stdout",
     "output_type": "stream",
     "text": [
      "0.2642411176571153\n"
     ]
    }
   ],
   "source": [
    "# Import poisson from scipy.stats\n",
    "from scipy.stats import poisson\n",
    "\n",
    "# Probability of more than 1 customer\n",
    "probability = poisson.sf(k=1, mu=1)\n",
    "\n",
    "# Print the result\n",
    "print(probability)"
   ]
  },
  {
   "cell_type": "markdown",
   "id": "8362a14d-9c50-46d3-8f74-7c7abee70806",
   "metadata": {},
   "source": [
    "## Highway accidents example"
   ]
  },
  {
   "cell_type": "raw",
   "id": "57fc9af7-70ce-4ae4-ab0f-322439f0542c",
   "metadata": {},
   "source": [
    "Determine and print the probability of there being 5 accidents on any day."
   ]
  },
  {
   "cell_type": "code",
   "execution_count": 85,
   "id": "366a693b-4116-447b-9e71-f80faa9872b5",
   "metadata": {
    "tags": []
   },
   "outputs": [
    {
     "name": "stdout",
     "output_type": "stream",
     "text": [
      "0.03608940886309672\n"
     ]
    }
   ],
   "source": [
    "# Import the poisson object\n",
    "from scipy.stats import poisson\n",
    "\n",
    "# Probability of 5 accidents any day\n",
    "P_five_accidents = poisson.pmf(k=5, mu=2)\n",
    "\n",
    "# Print the result\n",
    "print(P_five_accidents)"
   ]
  },
  {
   "cell_type": "raw",
   "id": "61855f4f-b8e5-4f4c-8f1d-f8ec7a93e917",
   "metadata": {},
   "source": [
    "Determine and print the probability of having 4 or 5 accidents on any day."
   ]
  },
  {
   "cell_type": "code",
   "execution_count": 86,
   "id": "765d8029-d2b0-4186-8fa3-9a6fc8196c44",
   "metadata": {
    "tags": []
   },
   "outputs": [
    {
     "name": "stdout",
     "output_type": "stream",
     "text": [
      "0.12631293102083851\n"
     ]
    }
   ],
   "source": [
    "# Import the poisson object\n",
    "from scipy.stats import poisson\n",
    "\n",
    "# Probability of having 4 or 5 accidents on any day\n",
    "P_less_than_6 = poisson.cdf(k=5, mu=2)\n",
    "P_less_than_4 = poisson.cdf(k=3, mu=2)\n",
    "\n",
    "# Print the result\n",
    "print(P_less_than_6 - P_less_than_4)"
   ]
  },
  {
   "cell_type": "raw",
   "id": "81a17c8a-249c-4cec-b64f-b78e025f51ca",
   "metadata": {},
   "source": [
    "Determine and print the probability of having more than 3 accidents on any day."
   ]
  },
  {
   "cell_type": "code",
   "execution_count": 87,
   "id": "756114ae-bbce-4dc9-a992-a374fa2a0e5b",
   "metadata": {
    "tags": []
   },
   "outputs": [
    {
     "name": "stdout",
     "output_type": "stream",
     "text": [
      "0.14287653950145296\n"
     ]
    }
   ],
   "source": [
    "# Import the poisson object\n",
    "from scipy.stats import poisson\n",
    "\n",
    "# Probability of more than 3 accidents any day\n",
    "P_more_than_3 = poisson.sf(k=3, mu=2)\n",
    "\n",
    "# Print the result\n",
    "print(P_more_than_3)"
   ]
  },
  {
   "cell_type": "raw",
   "id": "002e2800-fb78-40f1-a2f3-eee01020460b",
   "metadata": {},
   "source": [
    "Determine and print the number of accidents that is likely to happen with 0.75 probability."
   ]
  },
  {
   "cell_type": "code",
   "execution_count": 88,
   "id": "c48190b6-e265-437f-9255-cd8052f67617",
   "metadata": {
    "tags": []
   },
   "outputs": [
    {
     "name": "stdout",
     "output_type": "stream",
     "text": [
      "3.0\n"
     ]
    }
   ],
   "source": [
    "# Import the poisson object\n",
    "from scipy.stats import poisson\n",
    "\n",
    "# Number of accidents with 0.75 probability\n",
    "accidents = poisson.ppf(q=0.75, mu=2)\n",
    "\n",
    "# Print the result\n",
    "print(accidents)"
   ]
  },
  {
   "cell_type": "markdown",
   "id": "7e628f5e-230d-4bb0-a31c-a98dd1adc551",
   "metadata": {},
   "source": [
    "## Generating and plotting Poisson distributions"
   ]
  },
  {
   "cell_type": "raw",
   "id": "09aa66c8-c7f8-480f-8fac-7e4cb3197879",
   "metadata": {},
   "source": [
    "Import poisson from scipy.stats, matplotlib.pyplot as plt, and seaborn as sns.\n",
    "Generate a Poisson distribution sample with size=10000 and mu=2.\n",
    "Plot the sample generated."
   ]
  },
  {
   "cell_type": "code",
   "execution_count": 90,
   "id": "091e42fb-1a78-47df-b645-858a24745458",
   "metadata": {
    "tags": []
   },
   "outputs": [
    {
     "name": "stderr",
     "output_type": "stream",
     "text": [
      "C:\\Users\\laksh\\AppData\\Local\\Temp\\ipykernel_3408\\4048184188.py:10: UserWarning: \n",
      "\n",
      "`distplot` is a deprecated function and will be removed in seaborn v0.14.0.\n",
      "\n",
      "Please adapt your code to use either `displot` (a figure-level function with\n",
      "similar flexibility) or `histplot` (an axes-level function for histograms).\n",
      "\n",
      "For a guide to updating your code to use the new functions, please see\n",
      "https://gist.github.com/mwaskom/de44147ed2974457ad6372750bbe5751\n",
      "\n",
      "  sns.distplot(sample, kde=False)\n"
     ]
    },
    {
     "data": {
      "image/png": "[encoded data removed]",
      "text/plain": [
       "<Figure size 640x480 with 1 Axes>"
      ]
     },
     "metadata": {},
     "output_type": "display_data"
    }
   ],
   "source": [
    "# Import poisson, matplotlib.pyplot, and seaborn\n",
    "from scipy.stats import poisson\n",
    "import matplotlib.pyplot as plt \n",
    "import seaborn as sns\n",
    "\n",
    "# Create the sample\n",
    "sample = poisson.rvs(mu=2, size=10000, random_state=13)\n",
    "\n",
    "# Plot the sample\n",
    "sns.distplot(sample, kde=False)\n",
    "plt.show()"
   ]
  },
  {
   "cell_type": "markdown",
   "id": "899e1fe8-72e9-47d2-8f3f-da773947118d",
   "metadata": {},
   "source": [
    "## Catching salmon example"
   ]
  },
  {
   "cell_type": "markdown",
   "id": "0446ff83-8f00-459c-aa6e-acdd72899eaa",
   "metadata": {},
   "source": [
    "Calculate and print the probability that the bear will catch a salmon on its third attempt, after failing two times."
   ]
  },
  {
   "cell_type": "code",
   "execution_count": 91,
   "id": "95939229-b6f9-42f4-b1aa-a4dcb3931cfc",
   "metadata": {
    "tags": []
   },
   "outputs": [],
   "source": [
    "from scipy.stats import geom\n",
    "import numpy as np"
   ]
  },
  {
   "cell_type": "code",
   "execution_count": 92,
   "id": "fa3ba108-527c-41a8-8bea-fdd7ba308bf9",
   "metadata": {
    "tags": []
   },
   "outputs": [
    {
     "name": "stdout",
     "output_type": "stream",
     "text": [
      "0.031119146037000004\n"
     ]
    }
   ],
   "source": [
    "# Getting a salmon on the third attempt\n",
    "probability = geom.pmf(k=3, p=0.0333)\n",
    "\n",
    "# Print the result\n",
    "print(probability)"
   ]
  },
  {
   "cell_type": "raw",
   "id": "71aa7ced-4f8d-40c3-8a2b-8784ba938ba6",
   "metadata": {},
   "source": [
    "Calculate and print the probability that the bear will get a salmon in less than 5 attempts."
   ]
  },
  {
   "cell_type": "code",
   "execution_count": 93,
   "id": "109653d2-bafc-4e31-852c-9a84f3be0e11",
   "metadata": {
    "tags": []
   },
   "outputs": [
    {
     "name": "stdout",
     "output_type": "stream",
     "text": [
      "0.1266931345109679\n"
     ]
    }
   ],
   "source": [
    "# Probability of getting a salmon in less than 5 attempts\n",
    "probability = geom.cdf(k=4, p=0.0333)\n",
    "\n",
    "# Print the result\n",
    "print(probability)"
   ]
  },
  {
   "cell_type": "raw",
   "id": "81994040-34a6-432f-be5f-551eb171601a",
   "metadata": {},
   "source": [
    "Calculate and print the probability that the bear will get a salmon in less than 21 attempts."
   ]
  },
  {
   "cell_type": "code",
   "execution_count": 94,
   "id": "0b6a49ec-6330-4e1e-8daa-664a8a96a04d",
   "metadata": {
    "tags": []
   },
   "outputs": [
    {
     "name": "stdout",
     "output_type": "stream",
     "text": [
      "0.4920343187252892\n"
     ]
    }
   ],
   "source": [
    "# Probability of getting a salmon in less than 21 attempts\n",
    "probability = geom.cdf(k=20, p=0.0333)\n",
    "\n",
    "# Print the result\n",
    "print(probability)"
   ]
  },
  {
   "cell_type": "raw",
   "id": "04ebfc1b-1587-4c90-9433-6946d298253f",
   "metadata": {},
   "source": [
    "Calculate and print how many attempts the bear has to make to have a 0.9 probability of catching a salmon."
   ]
  },
  {
   "cell_type": "code",
   "execution_count": 95,
   "id": "c44366e1-6f71-4808-888f-e46aeb1f0ed2",
   "metadata": {
    "tags": []
   },
   "outputs": [
    {
     "name": "stdout",
     "output_type": "stream",
     "text": [
      "68.0\n"
     ]
    }
   ],
   "source": [
    "# Attempts for 0.9 probability of catching a salmon\n",
    "attempts = geom.ppf(q=0.9, p=0.0333)\n",
    "\n",
    "# Print the result\n",
    "print(attempts)"
   ]
  },
  {
   "cell_type": "markdown",
   "id": "ba00c8a6-554c-46bb-acfc-c2183254b3e3",
   "metadata": {},
   "source": [
    "## Free throws example"
   ]
  },
  {
   "cell_type": "raw",
   "id": "812327da-a1dd-403e-a748-94a0fc51d87c",
   "metadata": {},
   "source": [
    "Import geom from scipy.stats.\n",
    "Use the probability mass function (pmf()) with p=0.3 and specify the appropriate k value."
   ]
  },
  {
   "cell_type": "code",
   "execution_count": 96,
   "id": "64a7a8df-444d-4ed7-9164-a3976bff9c29",
   "metadata": {
    "tags": []
   },
   "outputs": [
    {
     "name": "stdout",
     "output_type": "stream",
     "text": [
      "0.21\n"
     ]
    }
   ],
   "source": [
    "# Import geom from scipy.stats\n",
    "from scipy.stats import geom\n",
    "\n",
    "# Probability of missing first and scoring on second throw\n",
    "probability = geom.pmf(k=2, p=0.3)\n",
    "\n",
    "# Print the result\n",
    "print(probability)"
   ]
  },
  {
   "cell_type": "markdown",
   "id": "a634c8c2-2bf1-479c-b1dc-e9132872ef93",
   "metadata": {},
   "source": [
    "## Generating and plotting geometric distributions"
   ]
  },
  {
   "cell_type": "raw",
   "id": "91da14bd-095d-4475-b55e-25faad18850b",
   "metadata": {},
   "source": [
    "Import geom from scipy.stats, matplotlib.pyplot as plt, and seaborn as sns.\n",
    "Generate a sample with size=10000 from a geometric distribution with a probability of success of 0.3.\n",
    "Plot the sample generated."
   ]
  },
  {
   "cell_type": "code",
   "execution_count": 98,
   "id": "3595cd1b-a6d6-490a-b997-490740154de8",
   "metadata": {
    "tags": []
   },
   "outputs": [
    {
     "name": "stderr",
     "output_type": "stream",
     "text": [
      "C:\\Users\\laksh\\AppData\\Local\\Temp\\ipykernel_3408\\2237162845.py:10: UserWarning: \n",
      "\n",
      "`distplot` is a deprecated function and will be removed in seaborn v0.14.0.\n",
      "\n",
      "Please adapt your code to use either `displot` (a figure-level function with\n",
      "similar flexibility) or `histplot` (an axes-level function for histograms).\n",
      "\n",
      "For a guide to updating your code to use the new functions, please see\n",
      "https://gist.github.com/mwaskom/de44147ed2974457ad6372750bbe5751\n",
      "\n",
      "  sns.distplot(sample, bins = np.linspace(0,20,21), kde=False)\n"
     ]
    },
    {
     "data": {
      "image/png": "[encoded data removed]",
      "text/plain": [
       "<Figure size 640x480 with 1 Axes>"
      ]
     },
     "metadata": {},
     "output_type": "display_data"
    }
   ],
   "source": [
    "# Import geom, matplotlib.pyplot, and seaborn\n",
    "from scipy.stats import geom\n",
    "import matplotlib.pyplot as plt\n",
    "import seaborn as sns\n",
    "\n",
    "# Create the sample\n",
    "sample = geom.rvs(p=0.3, size=10000, random_state=13)\n",
    "\n",
    "# Plot the sample\n",
    "sns.distplot(sample, bins = np.linspace(0,20,21), kde=False)\n",
    "plt.show()"
   ]
  },
  {
   "cell_type": "markdown",
   "id": "9837ff77-d307-46f2-90d5-34c76cff5b6f",
   "metadata": {},
   "source": [
    "## Generating a sample"
   ]
  },
  {
   "cell_type": "raw",
   "id": "8ec705f3-1aa3-49d5-afb1-98826854efdd",
   "metadata": {},
   "source": [
    "Import the binom object from scipy.stats.\n",
    "Generate a sample of 250 newborns with 50.50% probability of being male.\n",
    "Print the sample."
   ]
  },
  {
   "cell_type": "code",
   "execution_count": 100,
   "id": "61a6b7d8-87b3-4f32-8dfb-e16d6ea45543",
   "metadata": {
    "tags": []
   },
   "outputs": [
    {
     "name": "stdout",
     "output_type": "stream",
     "text": [
      "[1 0 0 0 1 1 1 0 0 0 1 0 0 1 1 1 1 0 1 1 0 1 1 1 1 0 1 0 0 1 0 1 1 0 0 0 1\n",
      " 1 0 1 1 1 1 0 1 0 1 0 0 1 0 0 0 0 0 0 1 1 1 1 1 1 0 1 1 0 1 0 1 0 0 1 1 0\n",
      " 0 0 0 1 1 1 0 0 1 1 1 1 0 0 0 1 1 0 0 0 0 1 0 1 1 1 1 0 1 0 0 1 1 0 1 1 1\n",
      " 1 0 0 0 0 0 1 0 0 0 0 1 1 1 1 0 0 1 0 1 1 1 1 0 1 0 0 1 0 0 1 1 1 1 1 0 1\n",
      " 1 1 0 1 1 1 0 1 0 0 1 0 1 0 0 0 1 0 1 1 1 0 0 1 0 1 0 1 0 1 0 1 1 1 0 0 1\n",
      " 0 0 0 0 1 1 0 0 0 1 1 0 0 0 0 0 1 1 0 0 1 1 0 1 1 0 0 0 1 0 1 1 0 0 0 0 0\n",
      " 1 1 1 1 0 1 0 0 0 1 0 1 1 0 1 1 0 1 0 0 0 1 1 0 1 0 0 0]\n"
     ]
    }
   ],
   "source": [
    "# Import the binom object\n",
    "from scipy.stats import binom\n",
    "\n",
    "# Generate a sample of 250 newborn children\n",
    "sample = binom.rvs(n=1, p=0.505, size=250, random_state=42)\n",
    "\n",
    "# Show the sample values\n",
    "print(sample)"
   ]
  },
  {
   "cell_type": "markdown",
   "id": "2ed05c8b-ddaf-4816-9fb3-1ec4a8dc108a",
   "metadata": {},
   "source": [
    "## Calculating the sample mean"
   ]
  },
  {
   "cell_type": "raw",
   "id": "8b971f38-85d7-452c-bc3b-704de0a43e4d",
   "metadata": {},
   "source": [
    "Now you can calculate the sample mean for this generated sample by taking some elements from the sample.\n",
    "\n",
    "Using the sample variable you just created, you'll calculate the sample means of the first 10, 50, and 250 samples.\n",
    "\n",
    "The binom object and describe() method from scipy.stats have been imported for your convenience."
   ]
  },
  {
   "cell_type": "code",
   "execution_count": 101,
   "id": "6c16bfbb-aa71-43da-ade2-7f961cf423b0",
   "metadata": {
    "tags": []
   },
   "outputs": [],
   "source": [
    "import numpy as np"
   ]
  },
  {
   "cell_type": "code",
   "execution_count": 102,
   "id": "7e10b00c-74ff-4a2f-bc12-4cb0ede02c77",
   "metadata": {
    "tags": []
   },
   "outputs": [],
   "source": [
    "import scipy"
   ]
  },
  {
   "cell_type": "code",
   "execution_count": 103,
   "id": "e99feaf1-7a36-49c8-be40-51a4dfb64eb5",
   "metadata": {
    "tags": []
   },
   "outputs": [],
   "source": [
    "sample = np.array([1, 0, 0, 0, 1, 1, 1, 0, 0, 0, 1, 0, 0, 1, 1, 1, 1, 0, 1, 1, 0, 1,\n",
    "       1, 1, 1, 0, 1, 0, 0, 1, 0, 1, 1, 0, 0, 0, 1, 1, 0, 1, 1, 1, 1, 0,\n",
    "       1, 0, 1, 0, 0, 1, 0, 0, 0, 0, 0, 0, 1, 1, 1, 1, 1, 1, 0, 1, 1, 0,\n",
    "       1, 0, 1, 0, 0, 1, 1, 0, 0, 0, 0, 1, 1, 1, 0, 0, 1, 1, 1, 1, 0, 0,\n",
    "       0, 1, 1, 0, 0, 0, 0, 1, 0, 1, 1, 1, 1, 0, 1, 0, 0, 1, 1, 0, 1, 1,\n",
    "       1, 1, 0, 0, 0, 0, 0, 1, 0, 0, 0, 0, 1, 1, 1, 1, 0, 0, 1, 0, 1, 1,\n",
    "       1, 1, 0, 1, 0, 0, 1, 0, 0, 1, 1, 1, 1, 1, 0, 1, 1, 1, 0, 1, 1, 1,\n",
    "       0, 1, 0, 0, 1, 0, 1, 0, 0, 0, 1, 0, 1, 1, 1, 0, 0, 1, 0, 1, 0, 1,\n",
    "       0, 1, 0, 1, 1, 1, 0, 0, 1, 0, 0, 0, 0, 1, 1, 0, 0, 0, 1, 1, 0, 0,\n",
    "       0, 0, 0, 1, 1, 0, 0, 1, 1, 0, 1, 1, 0, 0, 0, 1, 0, 1, 1, 0, 0, 0,\n",
    "       0, 0, 1, 1, 1, 1, 0, 1, 0, 0, 0, 1, 0, 1, 1, 0, 1, 1, 0, 1, 0, 0,\n",
    "       0, 1, 1, 0, 1, 0, 0, 0])"
   ]
  },
  {
   "cell_type": "code",
   "execution_count": 104,
   "id": "eff58316-d473-4dd2-8514-7e5e1cdc2ed9",
   "metadata": {
    "tags": []
   },
   "outputs": [
    {
     "data": {
      "text/plain": [
       "0.504"
      ]
     },
     "execution_count": 104,
     "metadata": {},
     "output_type": "execute_result"
    }
   ],
   "source": [
    "sample.mean()"
   ]
  },
  {
   "cell_type": "raw",
   "id": "cfaa9145-1c68-4d9f-804d-c4d53b4b3101",
   "metadata": {},
   "source": [
    "1.Print the sample mean of the first 10 samples."
   ]
  },
  {
   "cell_type": "code",
   "execution_count": 105,
   "id": "a010b028-a06b-49ce-bf4c-aec750a56270",
   "metadata": {
    "tags": []
   },
   "outputs": [
    {
     "name": "stdout",
     "output_type": "stream",
     "text": [
      "0.4\n"
     ]
    }
   ],
   "source": [
    "# Print the sample mean of the first 10 samples\n",
    "print(describe(sample[0:10]).mean)"
   ]
  },
  {
   "cell_type": "raw",
   "id": "a5babf3d-87cd-4820-927f-399e21c152e9",
   "metadata": {},
   "source": [
    "2.Print the sample mean of the first 50 samples."
   ]
  },
  {
   "cell_type": "code",
   "execution_count": 106,
   "id": "cb32518e-84c8-4f86-aed7-550a0290ee55",
   "metadata": {
    "tags": []
   },
   "outputs": [
    {
     "name": "stdout",
     "output_type": "stream",
     "text": [
      "0.56\n"
     ]
    }
   ],
   "source": [
    "# Print the sample mean of the first 50 samples\n",
    "print(describe(sample[0:50]).mean)"
   ]
  },
  {
   "cell_type": "markdown",
   "id": "83a139d3-e080-44c8-a6ef-cfcdd61a7d30",
   "metadata": {},
   "source": [
    "3.Print the sample mean of the first 250 samples."
   ]
  },
  {
   "cell_type": "code",
   "execution_count": 107,
   "id": "ca458e9f-8da1-4191-a7d5-246b14866431",
   "metadata": {
    "tags": []
   },
   "outputs": [
    {
     "name": "stdout",
     "output_type": "stream",
     "text": [
      "0.56\n"
     ]
    }
   ],
   "source": [
    "print(describe(sample[0:50]).mean)"
   ]
  },
  {
   "cell_type": "markdown",
   "id": "4348d332-c926-4a3c-98b6-0d72e2227ac0",
   "metadata": {},
   "source": [
    "## Plotting the sample mean"
   ]
  },
  {
   "cell_type": "raw",
   "id": "9315522f-ec77-425a-a929-c548aec6dc96",
   "metadata": {},
   "source": [
    "In a for statement for i in a range that goes from 2 to 251, do the following:\n",
    "\n",
    "Calculate the sample mean for the first i values.\n",
    "Use append to add the value to the averages array."
   ]
  },
  {
   "cell_type": "code",
   "execution_count": 109,
   "id": "e184dd96-e8f8-4d4c-816a-595e25303386",
   "metadata": {
    "tags": []
   },
   "outputs": [],
   "source": [
    "import matplotlib.pyplot as plt"
   ]
  },
  {
   "cell_type": "code",
   "execution_count": 110,
   "id": "16e9785c-6e8d-499a-8585-a11ce5d7cbbf",
   "metadata": {
    "tags": []
   },
   "outputs": [],
   "source": [
    "# Calculate sample mean and store it on averages array\n",
    "averages = []\n",
    "for i in range(2, 251):\n",
    "    averages.append(describe(sample[0:i]).mean)"
   ]
  },
  {
   "cell_type": "code",
   "execution_count": 111,
   "id": "ef758404-9ed0-416d-a2d7-2d387836e3e4",
   "metadata": {
    "tags": []
   },
   "outputs": [
    {
     "data": {
      "text/plain": [
       "[<matplotlib.lines.Line2D at 0x206e490b810>]"
      ]
     },
     "execution_count": 111,
     "metadata": {},
     "output_type": "execute_result"
    },
    {
     "data": {
      "image/png": "[encoded data removed]",
      "text/plain": [
       "<Figure size 640x480 with 1 Axes>"
      ]
     },
     "metadata": {},
     "output_type": "display_data"
    }
   ],
   "source": [
    "# Calculate sample mean and store it on averages array\n",
    "averages = []\n",
    "for i in range(2, 251):\n",
    "    averages.append(describe(sample[0:i]).mean)\n",
    "\n",
    "# Add population mean line and sample mean plot\n",
    "plt.axhline(binom.mean(n=1, p=0.505), color='red')\n",
    "plt.plot(averages, '-')"
   ]
  },
  {
   "cell_type": "code",
   "execution_count": 112,
   "id": "bdcdfbcd-8047-40f7-ac6f-3f4d1a473867",
   "metadata": {
    "tags": []
   },
   "outputs": [
    {
     "data": {
      "image/png": "[encoded data removed]",
      "text/plain": [
       "<Figure size 640x480 with 1 Axes>"
      ]
     },
     "metadata": {},
     "output_type": "display_data"
    }
   ],
   "source": [
    "# Calculate sample mean and store it on averages array\n",
    "averages = []\n",
    "for i in range(2, 251):\n",
    "    averages.append(describe(sample[0:i]).mean)\n",
    "\n",
    "# Add population mean line and sample mean plot\n",
    "plt.axhline(binom.mean(n=1, p=0.505), color='red')\n",
    "plt.plot(averages, '-')\n",
    "\n",
    "# Add legend\n",
    "plt.legend((\"Population mean\",\"Sample mean\"), loc='upper right')\n",
    "plt.show()"
   ]
  },
  {
   "cell_type": "markdown",
   "id": "e07d7284-94ce-42ed-86c0-7e64a2f8455f",
   "metadata": {},
   "source": [
    "## Sample means"
   ]
  },
  {
   "cell_type": "code",
   "execution_count": 113,
   "id": "9a4f1ba8-193e-4518-8c80-88976f389b85",
   "metadata": {
    "tags": []
   },
   "outputs": [],
   "source": [
    "population = np.array([ 4,  8,  6,  5,  3,  3,  3,  7,  5,  6,  2,  8,  7,  4,  4,  4,  4,\n",
    "        5,  5,  4,  5,  3,  4,  4,  5,  6,  4,  5,  5,  2,  5,  3,  3,  8,\n",
    "        8,  6,  4,  3,  6,  5,  3,  5,  2,  7,  4,  6,  4,  5,  5,  4,  8,\n",
    "        6,  7,  7,  5,  7,  3,  4,  2,  4,  5,  4,  7,  4,  4,  5,  3,  6,\n",
    "        3,  8,  6,  4,  1,  6,  6,  6,  6,  3,  4,  3,  7,  6,  4,  3,  4,\n",
    "        4,  6,  6,  7,  5,  3,  6,  6,  5,  6,  5,  5,  5,  2,  3,  2,  6,\n",
    "        4,  5,  7,  4,  5,  6,  4,  3,  4,  3,  7,  6,  6,  7,  6,  4,  7,\n",
    "        5,  6,  7,  4,  3,  4,  5,  6,  7,  1,  5,  5,  4,  3,  4,  7,  4,\n",
    "        5,  6,  4,  8,  8,  4,  5,  4,  4,  2,  5,  5,  2,  4,  7,  4,  3,\n",
    "        5,  8,  4,  6,  6,  4,  6,  4,  6,  6,  5,  3,  7,  4,  4,  2,  5,\n",
    "        6,  2,  5,  4,  6,  4,  6,  5,  7,  3,  4,  3,  7,  7,  4,  6,  6,\n",
    "        5,  5,  4,  3,  7,  7,  6,  4,  4,  6,  7,  7,  6,  6,  3,  3,  7,\n",
    "        5,  1,  3,  6,  1,  3,  5,  6,  6,  4,  6,  4,  4,  6,  6,  7,  6,\n",
    "        5,  3,  4,  4,  4,  8,  5,  7,  6,  6,  5,  5,  5,  4,  6,  4,  2,\n",
    "        6,  4,  7,  8,  7,  4,  2,  7,  5,  8,  8,  7,  4,  5,  7,  4,  3,\n",
    "        5,  7,  6,  5,  3,  5,  9,  3,  5,  7,  6,  6,  6,  4,  4,  6,  6,\n",
    "        7,  7,  5,  5,  6,  6,  6,  6,  7,  4,  4,  3,  5,  2,  5,  5,  4,\n",
    "        5,  2,  2,  6,  4,  3,  5,  6,  4,  5,  3,  2,  5,  5,  6,  6,  8,\n",
    "        5,  4,  6,  4,  5,  3,  2,  8,  7,  6,  5,  4,  3,  4,  5,  6,  6,\n",
    "        4,  8,  6,  5,  5,  5,  4,  4,  6,  2,  3,  2,  2,  7,  6,  5,  3,\n",
    "        5,  5,  4,  5,  5,  5,  6,  2,  4,  6,  5,  7,  6,  3,  3,  6,  2,\n",
    "        5,  7,  5,  5,  6,  5,  5,  7,  5,  8,  7,  4,  3,  3,  2,  3,  6,\n",
    "        3,  4,  7,  2,  6,  4,  3,  6,  6,  7,  6,  6,  4,  4,  6,  6,  9,\n",
    "        5,  4,  6,  4,  7,  7,  5,  6,  6,  3,  7,  5,  6,  4,  7,  5,  2,\n",
    "        7,  3,  4,  8,  8,  5,  6,  5,  4,  4,  6,  6,  6,  6,  3,  5,  3,\n",
    "        5,  5,  7,  4,  3,  3,  6,  5,  3,  3,  6,  3,  6,  6,  3,  3,  8,\n",
    "        4,  4,  6,  8,  8,  6,  4,  3,  6,  5,  5,  7,  3,  5,  2,  5,  3,\n",
    "        3,  3,  6,  6,  5,  8,  4,  4,  7,  4,  8,  2,  8,  2,  7,  5,  9,\n",
    "        3,  5,  8,  5,  6,  6,  5,  6,  5,  7,  2,  4,  8,  7,  5,  5,  4,\n",
    "        4,  5,  4,  5,  3,  8,  8,  6,  5,  4,  6,  6,  3,  7,  6,  8,  6,\n",
    "        5,  5,  7,  7,  2,  2,  4,  6,  8,  3,  5,  5,  8,  7,  7,  5,  5,\n",
    "        4,  3,  7,  6, 10,  9,  5,  6,  7,  7,  4,  5,  3,  8,  5,  4,  6,\n",
    "        5,  4,  3,  6,  5,  6,  5,  7,  5,  5,  7,  5,  3,  2,  6,  5,  6,\n",
    "        4,  3,  2,  4,  5,  5,  5,  7,  4,  5,  6,  5,  5,  7,  8,  3,  7,\n",
    "        5,  4,  5,  8,  5,  4,  6,  4,  3,  3,  3,  3,  3,  6,  4,  4,  7,\n",
    "        5,  6,  4,  4,  2,  3,  4,  4,  3,  3,  5,  4,  4,  5,  6,  2,  6,\n",
    "        6,  3,  7,  7,  3,  4,  6,  6,  4,  4,  4,  5,  5,  4,  5,  6,  2,\n",
    "        4,  6,  7,  5,  5,  3,  5,  5,  4,  4,  5,  2,  4,  4,  4,  3,  7,\n",
    "        5,  6,  6,  5,  3,  5,  5,  6,  5,  3,  4,  4,  6,  5,  4,  8,  5,\n",
    "        4,  3,  3,  4,  3,  4,  4,  4,  7,  3,  5,  5,  8,  3,  5,  8,  7,\n",
    "        6,  4,  3,  6,  7,  5,  5,  4,  6,  4,  4,  5,  5,  4,  3,  5,  4,\n",
    "        5,  3,  5,  5,  2,  4,  3,  3,  9,  4,  6,  4,  6,  6,  5,  5,  5,\n",
    "        4,  7,  7,  8,  3,  6,  7,  4,  3,  6,  5,  7,  3,  6,  4,  3,  3,\n",
    "        6,  6,  5,  4,  7,  5,  6,  5,  4,  5,  4,  6,  5,  4,  7,  5,  5,\n",
    "        7,  6,  3,  7,  6,  4,  3,  6,  5,  5,  7,  6,  3,  4,  4,  6,  2,\n",
    "        5,  6,  7,  4,  6,  3,  7,  3,  5,  6,  3,  4,  6,  6,  6,  6,  5,\n",
    "        4,  4,  4,  7,  5,  5,  5,  8,  3,  5,  5,  5,  2,  7,  7,  5,  6,\n",
    "        7,  6,  3,  5,  5,  5,  6,  7,  7,  5,  3,  8,  7,  3,  7,  7,  5,\n",
    "        5,  5,  3,  4,  6,  1,  4,  5,  5,  7,  4,  4,  6,  5,  4,  5,  3,\n",
    "        4,  5,  5,  7,  4,  5,  6,  2,  6,  4,  8,  3,  5,  3,  9,  5,  5,\n",
    "        3,  6,  4,  7,  4,  4,  2,  5,  5,  3,  6,  5,  5,  5,  5,  5,  3,\n",
    "        4,  7,  8,  4,  4,  6,  5,  2,  3,  6,  6,  2,  4,  4,  6,  2,  3,\n",
    "        6,  4,  6,  4,  3,  4,  6,  7,  7,  5,  6,  4,  4,  7,  2,  3,  4,\n",
    "        2,  4,  5,  5,  7,  6,  4,  4,  5,  5,  4,  6,  5,  5,  5,  4,  8,\n",
    "        6,  3,  7,  5,  7,  6,  5,  2,  4,  5,  6,  4,  3,  7,  8,  5,  3,\n",
    "        4,  2,  7,  3,  5,  4,  5,  6,  7,  4,  2,  3,  7,  7,  5,  5,  6,\n",
    "        4,  7,  5,  5,  5,  2,  3,  6,  3,  5,  4,  5,  4,  4,  6,  4,  5,\n",
    "        5,  6,  7,  6,  4,  2,  4,  5,  2,  5,  5,  4,  6,  3,  3,  6,  5,\n",
    "        6,  5,  4,  6,  6,  6,  4,  5,  4,  3,  7,  3,  8,  5])"
   ]
  },
  {
   "cell_type": "raw",
   "id": "13416e65-7b8c-4185-9dfb-087d0abb8631",
   "metadata": {},
   "source": [
    "Select 20 random values from the population using np.random.choice()."
   ]
  },
  {
   "cell_type": "code",
   "execution_count": 114,
   "id": "e113cbf4-6cf5-4d53-af8c-ff2821345ae6",
   "metadata": {
    "tags": []
   },
   "outputs": [],
   "source": [
    "# Create list for sample means\n",
    "sample_means = []\n",
    "for _ in range(1500):\n",
    "\t# Take 20 values from the population\n",
    "    sample = np.random.choice(population, 20)"
   ]
  },
  {
   "cell_type": "raw",
   "id": "47554535-c237-4461-a8bf-d95e9e231d59",
   "metadata": {},
   "source": [
    "Calculate the sample mean of sample and add the calculated sample mean to the sample_means list."
   ]
  },
  {
   "cell_type": "code",
   "execution_count": 116,
   "id": "adfd6927-1bd8-4e55-a85e-45b9375f42b3",
   "metadata": {
    "tags": []
   },
   "outputs": [],
   "source": [
    "# Create list for sample means\n",
    "sample_means = []\n",
    "for _ in range(1500):\n",
    "\t# Take 20 values from the population\n",
    "    sample = np.random.choice(population, 20)\n",
    "    # Calculate the sample mean\n",
    "    sample_means.append(describe(sample).mean)"
   ]
  },
  {
   "cell_type": "raw",
   "id": "c5e1c475-5c7a-4e40-8536-af50b2a00747",
   "metadata": {},
   "source": [
    "Plot a histogram of the sample_means list."
   ]
  },
  {
   "cell_type": "code",
   "execution_count": 117,
   "id": "edf4bd46-a0cd-485a-90e1-0ba00c0d4e19",
   "metadata": {
    "tags": []
   },
   "outputs": [
    {
     "data": {
      "image/png": "[encoded data removed]",
      "text/plain": [
       "<Figure size 640x480 with 1 Axes>"
      ]
     },
     "metadata": {},
     "output_type": "display_data"
    }
   ],
   "source": [
    "# Create list for sample means\n",
    "sample_means = []\n",
    "for _ in range(1500):\n",
    "\t# Take 20 values from the population\n",
    "    sample = np.random.choice(population, 20)\n",
    "    # Calculate the sample mean\n",
    "    sample_means.append(describe(sample).mean)\n",
    "\n",
    "# Plot the histogram\n",
    "plt.hist(sample_means)\n",
    "plt.xlabel(\"Sample mean values\")\n",
    "plt.ylabel(\"Frequency\")\n",
    "plt.show()"
   ]
  },
  {
   "cell_type": "markdown",
   "id": "98cfe92a-b0d8-4fef-90e2-5341a9f7c03a",
   "metadata": {},
   "source": [
    "## Sample means follow a normal distribution"
   ]
  },
  {
   "cell_type": "raw",
   "id": "96faa3f1-a3ba-4f98-a807-c321fb1d055e",
   "metadata": {},
   "source": [
    "1.Select 20 values from the population, add the sample mean to the sample_means list, and plot a histogram."
   ]
  },
  {
   "cell_type": "code",
   "execution_count": 118,
   "id": "9fc73008-4719-4de7-91f6-a3f4af54f53f",
   "metadata": {
    "tags": []
   },
   "outputs": [
    {
     "data": {
      "image/png": "[encoded data removed]",
      "text/plain": [
       "<Figure size 640x480 with 1 Axes>"
      ]
     },
     "metadata": {},
     "output_type": "display_data"
    }
   ],
   "source": [
    "# Generate the population\n",
    "population = geom.rvs(p=0.5, size=1000)\n",
    "\n",
    "# Create list for sample means\n",
    "sample_means = []\n",
    "for _ in range(3000):\n",
    "\t# Take 20 values from the population\n",
    "    sample = np.random.choice(population, 20)\n",
    "    # Calculate the sample mean\n",
    "    sample_means.append(describe(sample).mean)\n",
    "\n",
    "# Plot the histogram\n",
    "plt.hist(sample_means)\n",
    "plt.show()"
   ]
  },
  {
   "cell_type": "raw",
   "id": "79b73fd2-9d1b-45e8-b5fb-43297f935e51",
   "metadata": {},
   "source": [
    "2.Select 20 values from the population, populate the sample_means list, and plot a histogram."
   ]
  },
  {
   "cell_type": "code",
   "execution_count": 119,
   "id": "0f339706-9693-4b47-8dba-bcfceb0c8917",
   "metadata": {
    "tags": []
   },
   "outputs": [
    {
     "data": {
      "image/png": "[encoded data removed]",
      "text/plain": [
       "<Figure size 640x480 with 1 Axes>"
      ]
     },
     "metadata": {},
     "output_type": "display_data"
    }
   ],
   "source": [
    "# Generate the population\n",
    "population = poisson.rvs(mu=2, size=1000)\n",
    "\n",
    "# Create list for sample means\n",
    "sample_means = []\n",
    "for _ in range(1500):\n",
    "\t# Take 20 values from the population\n",
    "     sample = np.random.choice(population, 20)\n",
    "    # Calculate the sample mean\n",
    "     sample_means.append(describe(sample).mean)\n",
    "\n",
    "# Plot the histogram\n",
    "plt.hist(sample_means)\n",
    "plt.show()"
   ]
  },
  {
   "cell_type": "markdown",
   "id": "c3c6d182-f75f-47a5-9f8d-40b3461ff81e",
   "metadata": {},
   "source": [
    "## Adding dice rolls"
   ]
  },
  {
   "cell_type": "raw",
   "id": "7bf9bfc0-abb0-40a9-93e7-078b98170486",
   "metadata": {},
   "source": [
    "Generate a sample of 2000 dice rolls using roll_dice() and plot a histogram of the sample."
   ]
  },
  {
   "cell_type": "code",
   "execution_count": 120,
   "id": "7fdcb26d-7582-49bd-ae47-7475fa5dcea1",
   "metadata": {
    "tags": []
   },
   "outputs": [],
   "source": [
    "from numpy import random"
   ]
  },
  {
   "cell_type": "code",
   "execution_count": 121,
   "id": "68c3c3b7-3677-4e3a-affa-da5f27f4d6ba",
   "metadata": {
    "tags": []
   },
   "outputs": [],
   "source": [
    "def roll_dice(num_rolls):\n",
    "    \"\"\"Generate dice roll simulations\n",
    "\n",
    "    Parameters\n",
    "    ----------\n",
    "    num_rolls : int\n",
    "        The number of dice rolls to simulate\n",
    "\n",
    "    Returns\n",
    "    -------\n",
    "    list\n",
    "        a list with num_rolls simulations of dice rolls\n",
    "    \"\"\"\n",
    "    \n",
    "    sample = []\n",
    "    for i in range(num_rolls):\n",
    "        sample.append(random.randint(1,6))\n",
    "    return(sample)"
   ]
  },
  {
   "cell_type": "code",
   "execution_count": 122,
   "id": "42e5a16f-2a9f-41c0-bb3d-68be293a7f7d",
   "metadata": {
    "tags": []
   },
   "outputs": [
    {
     "data": {
      "image/png": "[encoded data removed]",
      "text/plain": [
       "<Figure size 640x480 with 1 Axes>"
      ]
     },
     "metadata": {},
     "output_type": "display_data"
    }
   ],
   "source": [
    "# Configure random generator\n",
    "np.random.seed(42)\n",
    "\n",
    "# Generate the sample\n",
    "sample1 = roll_dice(num_rolls=2000)\n",
    "\n",
    "# Plot the sample\n",
    "plt.hist(sample1, bins=range(1, 8), width=0.9)\n",
    "plt.show()   "
   ]
  },
  {
   "cell_type": "raw",
   "id": "825cf772-2c16-41a3-9617-22bca6afb3f7",
   "metadata": {},
   "source": [
    "Add sample1 and sample2 using np.add(), store the result in the variable sum_of_1_and_2, then plot sum_of_1_and_2."
   ]
  },
  {
   "cell_type": "code",
   "execution_count": 123,
   "id": "dd5aa12b-427a-495a-9299-052aecba199d",
   "metadata": {
    "tags": []
   },
   "outputs": [
    {
     "data": {
      "image/png": "[encoded data removed]",
      "text/plain": [
       "<Figure size 640x480 with 1 Axes>"
      ]
     },
     "metadata": {},
     "output_type": "display_data"
    }
   ],
   "source": [
    "# Configure random generator\n",
    "np.random.seed(42)\n",
    "\n",
    "# Generate two samples of 2000 dice rolls\n",
    "sample1 = roll_dice(2000)\n",
    "sample2 = roll_dice(2000)\n",
    "\n",
    "# Add the first two samples\n",
    "sum_of_1_and_2 = np.add(sample1, sample2)\n",
    "\n",
    "# Plot the sum\n",
    "plt.hist(sum_of_1_and_2, bins=range(2, 14), width=0.9)\n",
    "plt.show()"
   ]
  },
  {
   "cell_type": "raw",
   "id": "02ce15c0-b58d-42ec-ac11-2291ef5257d6",
   "metadata": {},
   "source": [
    "Add sum_of_1_and_2 and sample3 using np.add() and store the result in sum_of_3_samples. Then plot sum_of_3_samples."
   ]
  },
  {
   "cell_type": "code",
   "execution_count": 124,
   "id": "e0c087ed-66f2-40bf-96dc-4641070aac0c",
   "metadata": {
    "tags": []
   },
   "outputs": [
    {
     "data": {
      "image/png": "[encoded data removed]",
      "text/plain": [
       "<Figure size 640x480 with 1 Axes>"
      ]
     },
     "metadata": {},
     "output_type": "display_data"
    }
   ],
   "source": [
    "# Configure random generator\n",
    "np.random.seed(42)\n",
    "\n",
    "# Generate the samples\n",
    "sample1 = roll_dice(2000)\n",
    "sample2 = roll_dice(2000)\n",
    "sample3 = roll_dice(2000)\n",
    "\n",
    "# Add the first two samples\n",
    "sum_of_1_and_2 = np.add(sample1, sample2)\n",
    "\n",
    "# Add the first two with the third sample\n",
    "sum_of_3_samples = np.add(sum_of_1_and_2, sample3)\n",
    "\n",
    "# Plot the result\n",
    "plt.hist(sum_of_3_samples, bins=range(3, 20), width=0.9)\n",
    "plt.show()"
   ]
  },
  {
   "cell_type": "raw",
   "id": "2de22a0c-dcbb-43ee-8114-42fa3884fdfd",
   "metadata": {},
   "source": [
    "Add sum_of_1_and_2 and sample3 using np.add() and store the result in sum_of_3_samples. Then plot sum_of_3_samples."
   ]
  },
  {
   "cell_type": "code",
   "execution_count": 125,
   "id": "ff507275-7006-4ce5-8bc2-425aa2153e60",
   "metadata": {
    "tags": []
   },
   "outputs": [
    {
     "data": {
      "image/png": "[encoded data removed]",
      "text/plain": [
       "<Figure size 640x480 with 1 Axes>"
      ]
     },
     "metadata": {},
     "output_type": "display_data"
    }
   ],
   "source": [
    "# Configure random generator\n",
    "np.random.seed(42)\n",
    "\n",
    "# Generate the samples\n",
    "sample1 = roll_dice(2000)\n",
    "sample2 = roll_dice(2000)\n",
    "sample3 = roll_dice(2000)\n",
    "\n",
    "# Add the first two samples\n",
    "sum_of_1_and_2 = np.add(sample1, sample2)\n",
    "\n",
    "# Add the first two with the third sample\n",
    "sum_of_3_samples = np.add(sum_of_1_and_2, sample3)\n",
    "\n",
    "# Plot the result\n",
    "plt.hist(sum_of_3_samples, bins=range(3, 20), width=0.9)\n",
    "plt.show()"
   ]
  },
  {
   "cell_type": "markdown",
   "id": "721021fa-412c-426f-8901-bda20a2df99d",
   "metadata": {},
   "source": [
    "## Fitting a model"
   ]
  },
  {
   "cell_type": "raw",
   "id": "68b7651e-eeb6-458c-b903-8fe7673bbe59",
   "metadata": {},
   "source": [
    "Import the linregress() function from scipy.stats.\n",
    "Fit a linear model using the provided data in the hours_of_study and scores variables.\n",
    "Print the parameters."
   ]
  },
  {
   "cell_type": "code",
   "execution_count": 126,
   "id": "7069b021-d512-46b5-8ec6-010f514e38de",
   "metadata": {
    "tags": []
   },
   "outputs": [],
   "source": [
    "hours_of_study = [4, 8, 8, 12, 8, 9, 6, 11, 13, 13, 19, 16, 17, 17, 21, 21, 23, 27, 30, 24]"
   ]
  },
  {
   "cell_type": "code",
   "execution_count": 127,
   "id": "c89be5f0-e593-499c-9a0d-12e4f7c16e65",
   "metadata": {
    "tags": []
   },
   "outputs": [],
   "source": [
    "scores= [52,\n",
    " 54,\n",
    " 61,\n",
    " 63,\n",
    " 63,\n",
    " 60,\n",
    " 61,\n",
    " 70,\n",
    " 75,\n",
    " 77,\n",
    " 76,\n",
    " 79,\n",
    " 81,\n",
    " 83,\n",
    " 85,\n",
    " 86,\n",
    " 88,\n",
    " 90,\n",
    " 95,\n",
    " 93]"
   ]
  },
  {
   "cell_type": "code",
   "execution_count": 128,
   "id": "4f417254-200d-4bae-97d5-04acae075fe3",
   "metadata": {
    "tags": []
   },
   "outputs": [
    {
     "name": "stdout",
     "output_type": "stream",
     "text": [
      "slope: 1.7152598509570895\n",
      "intercept: 48.27076128780867\n"
     ]
    }
   ],
   "source": [
    "# Import the linregress() function\n",
    "from scipy.stats import linregress\n",
    "\n",
    "# Get the model parameters\n",
    "slope, intercept, r_value, p_value, std_err = linregress(hours_of_study, scores)\n",
    "\n",
    "\n",
    "# Print the linear model parameters\n",
    "print('slope:', slope)\n",
    "print('intercept:', intercept)"
   ]
  },
  {
   "cell_type": "markdown",
   "id": "21ab440b-7fde-4044-8e85-46152da32857",
   "metadata": {},
   "source": [
    "## Predicting test scores"
   ]
  },
  {
   "cell_type": "code",
   "execution_count": 129,
   "id": "e0f612d2-990c-4aee-8d80-6dfb80d2af18",
   "metadata": {
    "tags": []
   },
   "outputs": [],
   "source": [
    "intercept=48.27076128780868"
   ]
  },
  {
   "cell_type": "code",
   "execution_count": 130,
   "id": "19846024-a797-49ae-bd1a-dc8809fa1233",
   "metadata": {
    "tags": []
   },
   "outputs": [],
   "source": [
    "slope=1.715259850957089"
   ]
  },
  {
   "cell_type": "raw",
   "id": "1ee736dd-f639-427b-980a-21ddb9ef0a1f",
   "metadata": {},
   "source": [
    "Predict the test score for 10 hours of study using the provided parameters in slope and intercept, then print the score."
   ]
  },
  {
   "cell_type": "code",
   "execution_count": 131,
   "id": "dd02db4b-4cdb-4bd0-8fab-a59e1a634aeb",
   "metadata": {
    "tags": []
   },
   "outputs": [
    {
     "name": "stdout",
     "output_type": "stream",
     "text": [
      "score: 65.42335979737958\n"
     ]
    }
   ],
   "source": [
    "# Get the predicted test score for given hours of study\n",
    "score = slope*10 + intercept\n",
    "print('score:', score)"
   ]
  },
  {
   "cell_type": "raw",
   "id": "80e81500-37f0-4999-ad3c-082088f7fc66",
   "metadata": {},
   "source": [
    "Now predict the score for 9 hours of study using the parameters in slope and intercept, then print the score."
   ]
  },
  {
   "cell_type": "code",
   "execution_count": 132,
   "id": "607ce059-e670-419c-9e9b-644bfd8b4837",
   "metadata": {
    "tags": []
   },
   "outputs": [
    {
     "name": "stdout",
     "output_type": "stream",
     "text": [
      "score: 63.708099946422486\n"
     ]
    }
   ],
   "source": [
    "# Get the predicted test score for given hours of study\n",
    "score = slope*9 + intercept\n",
    "print('score:', score)"
   ]
  },
  {
   "cell_type": "raw",
   "id": "3eb5a7ae-e4ff-4208-a122-59252a44d0d2",
   "metadata": {},
   "source": [
    "Lastly, predict the score for 12 hours of study using the same parameters, and print the score."
   ]
  },
  {
   "cell_type": "code",
   "execution_count": 133,
   "id": "6c2260ef-7920-42c2-b226-6a14f24725ae",
   "metadata": {
    "tags": []
   },
   "outputs": [
    {
     "name": "stdout",
     "output_type": "stream",
     "text": [
      "score: 68.85387949929375\n"
     ]
    }
   ],
   "source": [
    "# Get the predicted test score for given hours of study\n",
    "score = slope*12 + intercept\n",
    "print('score:', score)"
   ]
  },
  {
   "cell_type": "markdown",
   "id": "4f045ab4-e89c-4f4f-a390-7abc64126e52",
   "metadata": {},
   "source": [
    "## Studying residuals"
   ]
  },
  {
   "cell_type": "code",
   "execution_count": 136,
   "id": "e9b72b60-c2e0-481d-be42-e0a2d9dfbf88",
   "metadata": {
    "tags": []
   },
   "outputs": [],
   "source": [
    "hours_of_study_A = np.array([[ 4],\n",
    "       [ 9],\n",
    "       [ 7],\n",
    "       [12],\n",
    "       [ 3],\n",
    "       [ 9],\n",
    "       [ 6],\n",
    "       [11],\n",
    "       [13],\n",
    "       [13],\n",
    "       [19],\n",
    "       [16],\n",
    "       [17],\n",
    "       [17],\n",
    "       [13],\n",
    "       [21],\n",
    "       [23],\n",
    "       [27],\n",
    "       [30],\n",
    "       [24]])"
   ]
  },
  {
   "cell_type": "code",
   "execution_count": 137,
   "id": "fc8e233c-cb8c-4423-8c9d-33ffe727b5f3",
   "metadata": {
    "tags": []
   },
   "outputs": [],
   "source": [
    "test_scores_A = [52,\n",
    " 56,\n",
    " 59,\n",
    " 60,\n",
    " 61,\n",
    " 62,\n",
    " 63,\n",
    " 73,\n",
    " 75,\n",
    " 77,\n",
    " 76,\n",
    " 79,\n",
    " 81,\n",
    " 83,\n",
    " 85,\n",
    " 87,\n",
    " 89,\n",
    " 89,\n",
    " 89,\n",
    " 93]"
   ]
  },
  {
   "cell_type": "code",
   "execution_count": 138,
   "id": "9c02791d-9603-4e25-9982-e6957122986b",
   "metadata": {
    "tags": []
   },
   "outputs": [],
   "source": [
    "hours_of_study_values_A = np.array([[ 1. ],\n",
    "       [ 1.5],\n",
    "       [ 2. ],\n",
    "       [ 2.5],\n",
    "       [ 3. ],\n",
    "       [ 3.5],\n",
    "       [ 4. ],\n",
    "       [ 4.5],\n",
    "       [ 5. ],\n",
    "       [ 5.5],\n",
    "       [ 6. ],\n",
    "       [ 6.5],\n",
    "       [ 7. ],\n",
    "       [ 7.5],\n",
    "       [ 8. ],\n",
    "       [ 8.5],\n",
    "       [ 9. ],\n",
    "       [ 9.5],\n",
    "       [10. ],\n",
    "       [10.5],\n",
    "       [11. ],\n",
    "       [11.5],\n",
    "       [12. ],\n",
    "       [12.5],\n",
    "       [13. ],\n",
    "       [13.5],\n",
    "       [14. ],\n",
    "       [14.5],\n",
    "       [15. ],\n",
    "       [15.5],\n",
    "       [16. ],\n",
    "       [16.5],\n",
    "       [17. ],\n",
    "       [17.5],\n",
    "       [18. ],\n",
    "       [18.5],\n",
    "       [19. ],\n",
    "       [19.5],\n",
    "       [20. ],\n",
    "       [20.5],\n",
    "       [21. ],\n",
    "       [21.5],\n",
    "       [22. ],\n",
    "       [22.5],\n",
    "       [23. ],\n",
    "       [23.5],\n",
    "       [24. ],\n",
    "       [24.5],\n",
    "       [25. ],\n",
    "       [25.5],\n",
    "       [26. ],\n",
    "       [26.5],\n",
    "       [27. ],\n",
    "       [27.5],\n",
    "       [28. ],\n",
    "       [28.5],\n",
    "       [29. ],\n",
    "       [29.5],\n",
    "       [30. ],\n",
    "       [30.5]])"
   ]
  },
  {
   "cell_type": "code",
   "execution_count": 139,
   "id": "95365fa5-c1d5-4bba-837d-b3be1aa10df3",
   "metadata": {
    "tags": []
   },
   "outputs": [],
   "source": [
    "from sklearn.linear_model import LinearRegression"
   ]
  },
  {
   "cell_type": "code",
   "execution_count": 140,
   "id": "c295b369-ab71-4ed3-85de-5e6106cff062",
   "metadata": {
    "tags": []
   },
   "outputs": [],
   "source": [
    "model_A = LinearRegression()"
   ]
  },
  {
   "cell_type": "code",
   "execution_count": 141,
   "id": "7c9b9fb1-d4f4-4ced-ad68-20204bde6e62",
   "metadata": {
    "tags": []
   },
   "outputs": [
    {
     "data": {
      "text/html": [
       "<style>#sk-container-id-1 {color: black;}#sk-container-id-1 pre{padding: 0;}#sk-container-id-1 div.sk-toggleable {background-color: white;}#sk-container-id-1 label.sk-toggleable__label {cursor: pointer;display: block;width: 100%;margin-bottom: 0;padding: 0.3em;box-sizing: border-box;text-align: center;}#sk-container-id-1 label.sk-toggleable__label-arrow:before {content: \"▸\";float: left;margin-right: 0.25em;color: #696969;}#sk-container-id-1 label.sk-toggleable__label-arrow:hover:before {color: black;}#sk-container-id-1 div.sk-estimator:hover label.sk-toggleable__label-arrow:before {color: black;}#sk-container-id-1 div.sk-toggleable__content {max-height: 0;max-width: 0;overflow: hidden;text-align: left;background-color: #f0f8ff;}#sk-container-id-1 div.sk-toggleable__content pre {margin: 0.2em;color: black;border-radius: 0.25em;background-color: #f0f8ff;}#sk-container-id-1 input.sk-toggleable__control:checked~div.sk-toggleable__content {max-height: 200px;max-width: 100%;overflow: auto;}#sk-container-id-1 input.sk-toggleable__control:checked~label.sk-toggleable__label-arrow:before {content: \"▾\";}#sk-container-id-1 div.sk-estimator input.sk-toggleable__control:checked~label.sk-toggleable__label {background-color: #d4ebff;}#sk-container-id-1 div.sk-label input.sk-toggleable__control:checked~label.sk-toggleable__label {background-color: #d4ebff;}#sk-container-id-1 input.sk-hidden--visually {border: 0;clip: rect(1px 1px 1px 1px);clip: rect(1px, 1px, 1px, 1px);height: 1px;margin: -1px;overflow: hidden;padding: 0;position: absolute;width: 1px;}#sk-container-id-1 div.sk-estimator {font-family: monospace;background-color: #f0f8ff;border: 1px dotted black;border-radius: 0.25em;box-sizing: border-box;margin-bottom: 0.5em;}#sk-container-id-1 div.sk-estimator:hover {background-color: #d4ebff;}#sk-container-id-1 div.sk-parallel-item::after {content: \"\";width: 100%;border-bottom: 1px solid gray;flex-grow: 1;}#sk-container-id-1 div.sk-label:hover label.sk-toggleable__label {background-color: #d4ebff;}#sk-container-id-1 div.sk-serial::before {content: \"\";position: absolute;border-left: 1px solid gray;box-sizing: border-box;top: 0;bottom: 0;left: 50%;z-index: 0;}#sk-container-id-1 div.sk-serial {display: flex;flex-direction: column;align-items: center;background-color: white;padding-right: 0.2em;padding-left: 0.2em;position: relative;}#sk-container-id-1 div.sk-item {position: relative;z-index: 1;}#sk-container-id-1 div.sk-parallel {display: flex;align-items: stretch;justify-content: center;background-color: white;position: relative;}#sk-container-id-1 div.sk-item::before, #sk-container-id-1 div.sk-parallel-item::before {content: \"\";position: absolute;border-left: 1px solid gray;box-sizing: border-box;top: 0;bottom: 0;left: 50%;z-index: -1;}#sk-container-id-1 div.sk-parallel-item {display: flex;flex-direction: column;z-index: 1;position: relative;background-color: white;}#sk-container-id-1 div.sk-parallel-item:first-child::after {align-self: flex-end;width: 50%;}#sk-container-id-1 div.sk-parallel-item:last-child::after {align-self: flex-start;width: 50%;}#sk-container-id-1 div.sk-parallel-item:only-child::after {width: 0;}#sk-container-id-1 div.sk-dashed-wrapped {border: 1px dashed gray;margin: 0 0.4em 0.5em 0.4em;box-sizing: border-box;padding-bottom: 0.4em;background-color: white;}#sk-container-id-1 div.sk-label label {font-family: monospace;font-weight: bold;display: inline-block;line-height: 1.2em;}#sk-container-id-1 div.sk-label-container {text-align: center;}#sk-container-id-1 div.sk-container {/* jupyter's `normalize.less` sets `[hidden] { display: none; }` but bootstrap.min.css set `[hidden] { display: none !important; }` so we also need the `!important` here to be able to override the default hidden behavior on the sphinx rendered scikit-learn.org. See: https://github.com/scikit-learn/scikit-learn/issues/21755 */display: inline-block !important;position: relative;}#sk-container-id-1 div.sk-text-repr-fallback {display: none;}</style><div id=\"sk-container-id-1\" class=\"sk-top-container\"><div class=\"sk-text-repr-fallback\"><pre>LinearRegression()</pre><b>In a Jupyter environment, please rerun this cell to show the HTML representation or trust the notebook. <br />On GitHub, the HTML representation is unable to render, please try loading this page with nbviewer.org.</b></div><div class=\"sk-container\" hidden><div class=\"sk-item\"><div class=\"sk-estimator sk-toggleable\"><input class=\"sk-toggleable__control sk-hidden--visually\" id=\"sk-estimator-id-1\" type=\"checkbox\" checked><label for=\"sk-estimator-id-1\" class=\"sk-toggleable__label sk-toggleable__label-arrow\">LinearRegression</label><div class=\"sk-toggleable__content\"><pre>LinearRegression()</pre></div></div></div></div></div>"
      ],
      "text/plain": [
       "LinearRegression()"
      ]
     },
     "execution_count": 141,
     "metadata": {},
     "output_type": "execute_result"
    }
   ],
   "source": [
    "model_A.fit(hours_of_study_A, test_scores_A)"
   ]
  },
  {
   "cell_type": "raw",
   "id": "46c324a7-1d4f-4a59-bf80-8c2ae24b4a43",
   "metadata": {},
   "source": [
    "1\n",
    "Make a scatter of hours_of_study_A and test_scores_A and plot hours_of_study_values_A and the outcomes from model_A."
   ]
  },
  {
   "cell_type": "code",
   "execution_count": 142,
   "id": "8427358e-a3ab-4ef1-8294-451a03d5cc85",
   "metadata": {
    "tags": []
   },
   "outputs": [
    {
     "data": {
      "image/png": "[encoded data removed]",
      "text/plain": [
       "<Figure size 640x480 with 1 Axes>"
      ]
     },
     "metadata": {},
     "output_type": "display_data"
    }
   ],
   "source": [
    "# Scatterplot of hours of study and test scores\n",
    "plt.scatter(hours_of_study_A, test_scores_A)\n",
    "\n",
    "# Plot of hours_of_study_values_A and predicted values\n",
    "plt.plot(hours_of_study_values_A, model_A.predict(hours_of_study_values_A))\n",
    "plt.title(\"Model A\", fontsize=25)\n",
    "plt.show()"
   ]
  },
  {
   "cell_type": "raw",
   "id": "aa4e03b6-625b-4e23-9fa4-4dc51f592b6b",
   "metadata": {},
   "source": [
    "Subtract the predicted values and test_scores_A, then make a scatterplot with hours_of_study_A and residuals_A."
   ]
  },
  {
   "cell_type": "code",
   "execution_count": 143,
   "id": "404f089c-83b5-4d95-a2a5-866fafa999c7",
   "metadata": {
    "tags": []
   },
   "outputs": [
    {
     "data": {
      "image/png": "[encoded data removed]",
      "text/plain": [
       "<Figure size 640x480 with 1 Axes>"
      ]
     },
     "metadata": {},
     "output_type": "display_data"
    }
   ],
   "source": [
    "# Calculate the residuals\n",
    "residuals_A = model_A.predict(hours_of_study_A) - test_scores_A\n",
    "\n",
    "# Make a scatterplot of residuals of model_A\n",
    "plt.scatter(hours_of_study_A, residuals_A)\n",
    "\n",
    "\n",
    "# Add reference line and title and show plot\n",
    "plt.hlines(0, 0, 30, colors='r', linestyles='--')\n",
    "plt.title(\"Residuals plot of Model A\", fontsize=25)\n",
    "plt.show()"
   ]
  },
  {
   "cell_type": "raw",
   "id": "226f3fe9-c38d-4282-8829-9bce44b38742",
   "metadata": {
    "tags": []
   },
   "source": [
    "\n",
    "Make a scatter of hours_of_study_B and test_scores_B and plot hours_of_study_values_B and the outcomes from model_B."
   ]
  },
  {
   "cell_type": "code",
   "execution_count": 145,
   "id": "2e1b3047-b901-4582-ae1a-a4bb9a447da8",
   "metadata": {
    "tags": []
   },
   "outputs": [],
   "source": [
    "hours_of_study_B = np.array([[ 4],\n",
    "       [ 9],\n",
    "       [ 7],\n",
    "       [12],\n",
    "       [ 3],\n",
    "       [ 9],\n",
    "       [ 6],\n",
    "       [11],\n",
    "       [13],\n",
    "       [13],\n",
    "       [19],\n",
    "       [16],\n",
    "       [17],\n",
    "       [17],\n",
    "       [13],\n",
    "       [21],\n",
    "       [23],\n",
    "       [27],\n",
    "       [30],\n",
    "       [24],\n",
    "       [17],\n",
    "       [17],\n",
    "       [19],\n",
    "       [19],\n",
    "       [19],\n",
    "       [19]])"
   ]
  },
  {
   "cell_type": "code",
   "execution_count": 146,
   "id": "02f5a76b-4541-425e-928b-e669aae4ba75",
   "metadata": {
    "tags": []
   },
   "outputs": [],
   "source": [
    "test_scores_B = [58,\n",
    " 70,\n",
    " 60,\n",
    " 65,\n",
    " 57,\n",
    " 63,\n",
    " 63,\n",
    " 73,\n",
    " 65,\n",
    " 77,\n",
    " 58,\n",
    " 62,\n",
    " 62,\n",
    " 90,\n",
    " 85,\n",
    " 95,\n",
    " 97,\n",
    " 95,\n",
    " 65,\n",
    " 65,\n",
    " 70,\n",
    " 75,\n",
    " 65,\n",
    " 75,\n",
    " 85,\n",
    " 93]"
   ]
  },
  {
   "cell_type": "code",
   "execution_count": 147,
   "id": "f25dfb66-0303-4463-bd1a-79a6606ad5ed",
   "metadata": {
    "tags": []
   },
   "outputs": [],
   "source": [
    "hours_of_study_values_B = np.array([[ 1. ],\n",
    "       [ 1.5],\n",
    "       [ 2. ],\n",
    "       [ 2.5],\n",
    "       [ 3. ],\n",
    "       [ 3.5],\n",
    "       [ 4. ],\n",
    "       [ 4.5],\n",
    "       [ 5. ],\n",
    "       [ 5.5],\n",
    "       [ 6. ],\n",
    "       [ 6.5],\n",
    "       [ 7. ],\n",
    "       [ 7.5],\n",
    "       [ 8. ],\n",
    "       [ 8.5],\n",
    "       [ 9. ],\n",
    "       [ 9.5],\n",
    "       [10. ],\n",
    "       [10.5],\n",
    "       [11. ],\n",
    "       [11.5],\n",
    "       [12. ],\n",
    "       [12.5],\n",
    "       [13. ],\n",
    "       [13.5],\n",
    "       [14. ],\n",
    "       [14.5],\n",
    "       [15. ],\n",
    "       [15.5],\n",
    "       [16. ],\n",
    "       [16.5],\n",
    "       [17. ],\n",
    "       [17.5],\n",
    "       [18. ],\n",
    "       [18.5],\n",
    "       [19. ],\n",
    "       [19.5],\n",
    "       [20. ],\n",
    "       [20.5],\n",
    "       [21. ],\n",
    "       [21.5],\n",
    "       [22. ],\n",
    "       [22.5],\n",
    "       [23. ],\n",
    "       [23.5],\n",
    "       [24. ],\n",
    "       [24.5],\n",
    "       [25. ],\n",
    "       [25.5],\n",
    "       [26. ],\n",
    "       [26.5],\n",
    "       [27. ],\n",
    "       [27.5],\n",
    "       [28. ],\n",
    "       [28.5],\n",
    "       [29. ],\n",
    "       [29.5],\n",
    "       [30. ],\n",
    "       [30.5]])"
   ]
  },
  {
   "cell_type": "code",
   "execution_count": 148,
   "id": "97add3bd-c59a-4121-a892-2879ed8f3ba6",
   "metadata": {
    "tags": []
   },
   "outputs": [],
   "source": [
    "model_B = LinearRegression()"
   ]
  },
  {
   "cell_type": "code",
   "execution_count": 149,
   "id": "01bfbebc-5960-4181-807d-8f6c69a864c7",
   "metadata": {
    "tags": []
   },
   "outputs": [
    {
     "data": {
      "text/html": [
       "<style>#sk-container-id-2 {color: black;}#sk-container-id-2 pre{padding: 0;}#sk-container-id-2 div.sk-toggleable {background-color: white;}#sk-container-id-2 label.sk-toggleable__label {cursor: pointer;display: block;width: 100%;margin-bottom: 0;padding: 0.3em;box-sizing: border-box;text-align: center;}#sk-container-id-2 label.sk-toggleable__label-arrow:before {content: \"▸\";float: left;margin-right: 0.25em;color: #696969;}#sk-container-id-2 label.sk-toggleable__label-arrow:hover:before {color: black;}#sk-container-id-2 div.sk-estimator:hover label.sk-toggleable__label-arrow:before {color: black;}#sk-container-id-2 div.sk-toggleable__content {max-height: 0;max-width: 0;overflow: hidden;text-align: left;background-color: #f0f8ff;}#sk-container-id-2 div.sk-toggleable__content pre {margin: 0.2em;color: black;border-radius: 0.25em;background-color: #f0f8ff;}#sk-container-id-2 input.sk-toggleable__control:checked~div.sk-toggleable__content {max-height: 200px;max-width: 100%;overflow: auto;}#sk-container-id-2 input.sk-toggleable__control:checked~label.sk-toggleable__label-arrow:before {content: \"▾\";}#sk-container-id-2 div.sk-estimator input.sk-toggleable__control:checked~label.sk-toggleable__label {background-color: #d4ebff;}#sk-container-id-2 div.sk-label input.sk-toggleable__control:checked~label.sk-toggleable__label {background-color: #d4ebff;}#sk-container-id-2 input.sk-hidden--visually {border: 0;clip: rect(1px 1px 1px 1px);clip: rect(1px, 1px, 1px, 1px);height: 1px;margin: -1px;overflow: hidden;padding: 0;position: absolute;width: 1px;}#sk-container-id-2 div.sk-estimator {font-family: monospace;background-color: #f0f8ff;border: 1px dotted black;border-radius: 0.25em;box-sizing: border-box;margin-bottom: 0.5em;}#sk-container-id-2 div.sk-estimator:hover {background-color: #d4ebff;}#sk-container-id-2 div.sk-parallel-item::after {content: \"\";width: 100%;border-bottom: 1px solid gray;flex-grow: 1;}#sk-container-id-2 div.sk-label:hover label.sk-toggleable__label {background-color: #d4ebff;}#sk-container-id-2 div.sk-serial::before {content: \"\";position: absolute;border-left: 1px solid gray;box-sizing: border-box;top: 0;bottom: 0;left: 50%;z-index: 0;}#sk-container-id-2 div.sk-serial {display: flex;flex-direction: column;align-items: center;background-color: white;padding-right: 0.2em;padding-left: 0.2em;position: relative;}#sk-container-id-2 div.sk-item {position: relative;z-index: 1;}#sk-container-id-2 div.sk-parallel {display: flex;align-items: stretch;justify-content: center;background-color: white;position: relative;}#sk-container-id-2 div.sk-item::before, #sk-container-id-2 div.sk-parallel-item::before {content: \"\";position: absolute;border-left: 1px solid gray;box-sizing: border-box;top: 0;bottom: 0;left: 50%;z-index: -1;}#sk-container-id-2 div.sk-parallel-item {display: flex;flex-direction: column;z-index: 1;position: relative;background-color: white;}#sk-container-id-2 div.sk-parallel-item:first-child::after {align-self: flex-end;width: 50%;}#sk-container-id-2 div.sk-parallel-item:last-child::after {align-self: flex-start;width: 50%;}#sk-container-id-2 div.sk-parallel-item:only-child::after {width: 0;}#sk-container-id-2 div.sk-dashed-wrapped {border: 1px dashed gray;margin: 0 0.4em 0.5em 0.4em;box-sizing: border-box;padding-bottom: 0.4em;background-color: white;}#sk-container-id-2 div.sk-label label {font-family: monospace;font-weight: bold;display: inline-block;line-height: 1.2em;}#sk-container-id-2 div.sk-label-container {text-align: center;}#sk-container-id-2 div.sk-container {/* jupyter's `normalize.less` sets `[hidden] { display: none; }` but bootstrap.min.css set `[hidden] { display: none !important; }` so we also need the `!important` here to be able to override the default hidden behavior on the sphinx rendered scikit-learn.org. See: https://github.com/scikit-learn/scikit-learn/issues/21755 */display: inline-block !important;position: relative;}#sk-container-id-2 div.sk-text-repr-fallback {display: none;}</style><div id=\"sk-container-id-2\" class=\"sk-top-container\"><div class=\"sk-text-repr-fallback\"><pre>LinearRegression()</pre><b>In a Jupyter environment, please rerun this cell to show the HTML representation or trust the notebook. <br />On GitHub, the HTML representation is unable to render, please try loading this page with nbviewer.org.</b></div><div class=\"sk-container\" hidden><div class=\"sk-item\"><div class=\"sk-estimator sk-toggleable\"><input class=\"sk-toggleable__control sk-hidden--visually\" id=\"sk-estimator-id-2\" type=\"checkbox\" checked><label for=\"sk-estimator-id-2\" class=\"sk-toggleable__label sk-toggleable__label-arrow\">LinearRegression</label><div class=\"sk-toggleable__content\"><pre>LinearRegression()</pre></div></div></div></div></div>"
      ],
      "text/plain": [
       "LinearRegression()"
      ]
     },
     "execution_count": 149,
     "metadata": {},
     "output_type": "execute_result"
    }
   ],
   "source": [
    "model_B.fit(hours_of_study_B, test_scores_B)"
   ]
  },
  {
   "cell_type": "code",
   "execution_count": 150,
   "id": "4024d3d7-89b9-4f0e-81f7-f2c35ae1d73f",
   "metadata": {
    "tags": []
   },
   "outputs": [
    {
     "data": {
      "image/png": "[encoded data removed]",
      "text/plain": [
       "<Figure size 640x480 with 1 Axes>"
      ]
     },
     "metadata": {},
     "output_type": "display_data"
    }
   ],
   "source": [
    "# Scatterplot of hours of study and test scores\n",
    "plt.scatter(hours_of_study_B, test_scores_B)\n",
    "\n",
    "# Plot of hours_of_study_values_B and predicted values\n",
    "plt.plot(hours_of_study_values_B, model_B.predict(hours_of_study_values_B))\n",
    "plt.title(\"Model B\", fontsize=25)\n",
    "plt.show()"
   ]
  },
  {
   "cell_type": "raw",
   "id": "b0075efc-f385-4739-a018-cb48a50b4965",
   "metadata": {},
   "source": [
    "\n",
    "Subtract the predicted values and test_scores_B, then make a scatterplot with hours_of_study_B and residuals_B."
   ]
  },
  {
   "cell_type": "code",
   "execution_count": 151,
   "id": "d7a74156-8a03-4aa2-bd0c-deb2fb177503",
   "metadata": {
    "tags": []
   },
   "outputs": [
    {
     "data": {
      "image/png": "[encoded data removed]",
      "text/plain": [
       "<Figure size 640x480 with 1 Axes>"
      ]
     },
     "metadata": {},
     "output_type": "display_data"
    }
   ],
   "source": [
    "# Calculate the residuals\n",
    "residuals_B = model_B.predict(hours_of_study_B) - test_scores_B\n",
    "\n",
    "# Make a scatterplot of residuals of model_B\n",
    "plt.scatter(hours_of_study_B, residuals_B)\n",
    "\n",
    "# Add reference line and title and show plot\n",
    "plt.hlines(0, 0, 30, colors='r', linestyles='--')\n",
    "plt.title(\"Residuals plot of Model B\", fontsize=25)\n",
    "plt.show()"
   ]
  },
  {
   "cell_type": "markdown",
   "id": "855c3239-e46e-4983-a3bd-1914d179eeb1",
   "metadata": {},
   "source": [
    "## Fitting a logistic model"
   ]
  },
  {
   "cell_type": "raw",
   "id": "eee0f130-ceda-4695-9404-32ba96593efa",
   "metadata": {},
   "source": [
    "Import LogisticRegression from sklearn.linear_model.\n",
    "Create the model using LogisticRegression(C=1e9).\n",
    "Pass the data to the model.fit() method.\n",
    "Create variables for each parameter, assign the values from the model, and print the parameters beta1 and beta0."
   ]
  },
  {
   "cell_type": "code",
   "execution_count": 152,
   "id": "a4064c3a-08cc-46b3-8c2f-a6d0a5bbec6a",
   "metadata": {
    "tags": []
   },
   "outputs": [],
   "source": [
    "hours_of_study = np.array([[ 4],\n",
    "       [ 8],\n",
    "       [ 8],\n",
    "       [12],\n",
    "       [ 8],\n",
    "       [ 9],\n",
    "       [ 6],\n",
    "       [11],\n",
    "       [13],\n",
    "       [13],\n",
    "       [19],\n",
    "       [16],\n",
    "       [17],\n",
    "       [17],\n",
    "       [21],\n",
    "       [21],\n",
    "       [23],\n",
    "       [27],\n",
    "       [30],\n",
    "       [24]])"
   ]
  },
  {
   "cell_type": "code",
   "execution_count": 153,
   "id": "b9907ee3-1bc3-49ad-a37f-73a6fc4e4501",
   "metadata": {
    "tags": []
   },
   "outputs": [],
   "source": [
    "outcomes = [False,\n",
    " False,\n",
    " False,\n",
    " False,\n",
    " False,\n",
    " False,\n",
    " False,\n",
    " True,\n",
    " True,\n",
    " True,\n",
    " True,\n",
    " True,\n",
    " True,\n",
    " True,\n",
    " True,\n",
    " True,\n",
    " True,\n",
    " True,\n",
    " True,\n",
    " True]"
   ]
  },
  {
   "cell_type": "code",
   "execution_count": 154,
   "id": "35248b68-d4ef-4f7a-8cce-40f75e56987c",
   "metadata": {
    "tags": []
   },
   "outputs": [
    {
     "ename": "NameError",
     "evalue": "name 'LogisticRegression' is not defined",
     "output_type": "error",
     "traceback": [
      "\u001b[1;31m---------------------------------------------------------------------------\u001b[0m",
      "\u001b[1;31mNameError\u001b[0m                                 Traceback (most recent call last)",
      "Cell \u001b[1;32mIn[154], line 2\u001b[0m\n\u001b[0;32m      1\u001b[0m \u001b[38;5;66;03m# sklearn logistic model\u001b[39;00m\n\u001b[1;32m----> 2\u001b[0m model \u001b[38;5;241m=\u001b[39m LogisticRegression(C\u001b[38;5;241m=\u001b[39m\u001b[38;5;241m1e9\u001b[39m)\n\u001b[0;32m      3\u001b[0m model\u001b[38;5;241m.\u001b[39mfit(hours_of_study, outcomes)\n\u001b[0;32m      6\u001b[0m \u001b[38;5;66;03m# Get parameters\u001b[39;00m\n",
      "\u001b[1;31mNameError\u001b[0m: name 'LogisticRegression' is not defined"
     ]
    }
   ],
   "source": [
    "# sklearn logistic model\n",
    "model = LogisticRegression(C=1e9)\n",
    "model.fit(hours_of_study, outcomes)\n",
    "\n",
    "\n",
    "# Get parameters\n",
    "beta1 = model.coef_[0][0]\n",
    "beta0 = model.intercept_[0]\n",
    "\n",
    "# Print parameters\n",
    "print(beta1, beta0)"
   ]
  },
  {
   "cell_type": "markdown",
   "id": "01aff434-9842-42a8-8749-92ac1fbfd786",
   "metadata": {},
   "source": [
    "## Predicting if students will pass"
   ]
  },
  {
   "cell_type": "raw",
   "id": "73b38d58-0540-45e9-bdb3-ee8c56daa3a9",
   "metadata": {},
   "source": [
    "Create an array with the values 10, 11, 12, 13, and 14 to predict the outcomes for a test based on those numbers of hours of study.\n",
    "Use model.predict() to get the outcomes from the model, and print the outcomes.\n",
    "Use model.predict_proba() to get the probability of passing the test with 11 hours of study."
   ]
  },
  {
   "cell_type": "code",
   "execution_count": 155,
   "id": "573eefd9-0032-4ff9-8777-a044bdd5a38f",
   "metadata": {
    "tags": []
   },
   "outputs": [
    {
     "ename": "NameError",
     "evalue": "name 'model' is not defined",
     "output_type": "error",
     "traceback": [
      "\u001b[1;31m---------------------------------------------------------------------------\u001b[0m",
      "\u001b[1;31mNameError\u001b[0m                                 Traceback (most recent call last)",
      "Cell \u001b[1;32mIn[155], line 5\u001b[0m\n\u001b[0;32m      2\u001b[0m hours_of_study_test \u001b[38;5;241m=\u001b[39m [[\u001b[38;5;241m10\u001b[39m], [\u001b[38;5;241m11\u001b[39m], [\u001b[38;5;241m12\u001b[39m], [\u001b[38;5;241m13\u001b[39m], [\u001b[38;5;241m14\u001b[39m]]\n\u001b[0;32m      4\u001b[0m \u001b[38;5;66;03m# Pass values to predict\u001b[39;00m\n\u001b[1;32m----> 5\u001b[0m predicted_outcomes \u001b[38;5;241m=\u001b[39m model\u001b[38;5;241m.\u001b[39mpredict(hours_of_study_test)\n\u001b[0;32m      6\u001b[0m \u001b[38;5;28mprint\u001b[39m(predicted_outcomes)\n\u001b[0;32m      8\u001b[0m \u001b[38;5;66;03m# Set value in array\u001b[39;00m\n",
      "\u001b[1;31mNameError\u001b[0m: name 'model' is not defined"
     ]
    }
   ],
   "source": [
    "# Specify values to predict\n",
    "hours_of_study_test = [[10], [11], [12], [13], [14]]\n",
    "\n",
    "# Pass values to predict\n",
    "predicted_outcomes = model.predict(hours_of_study_test)\n",
    "print(predicted_outcomes)\n",
    "\n",
    "# Set value in array\n",
    "value = np.asarray(11).reshape(-1,1)\n",
    "# Probability of passing the test with 11 hours of study\n",
    "print(\"Probability of passing test \", model.predict_proba(value)[:,1])"
   ]
  },
  {
   "cell_type": "markdown",
   "id": "90e926a6-1fdd-4c06-91bb-3a1cecf89a7e",
   "metadata": {},
   "source": [
    "## Passing two tests"
   ]
  },
  {
   "cell_type": "raw",
   "id": "70025395-b61a-489e-9807-69b6e8d6d292",
   "metadata": {},
   "source": [
    "Use model_A to predict if you'll pass the test with 6, 7, 8, 9, or 10 hours of study and model_B with 3, 4, 5, or 6."
   ]
  },
  {
   "cell_type": "code",
   "execution_count": 156,
   "id": "6c55f356-3b39-4196-9108-462900601f75",
   "metadata": {
    "tags": []
   },
   "outputs": [
    {
     "name": "stdout",
     "output_type": "stream",
     "text": [
      "[61.42867607 62.92537997 64.42208387 65.91878777 67.41549167]\n",
      "[60.91115538 61.84462151 62.77808765 63.71155378]\n"
     ]
    }
   ],
   "source": [
    "# Specify values to predict\n",
    "hours_of_study_test_A = [[6], [7], [8], [9], [10]]\n",
    "\n",
    "# Pass values to predict\n",
    "predicted_outcomes_A = model_A.predict(hours_of_study_test_A)\n",
    "print(predicted_outcomes_A)\n",
    "\n",
    "# Specify values to predict\n",
    "hours_of_study_test_B = [[3], [4], [5], [6]]\n",
    "\n",
    "# Pass values to predict\n",
    "predicted_outcomes_B = model_B.predict(hours_of_study_test_B)\n",
    "print(predicted_outcomes_B)"
   ]
  },
  {
   "cell_type": "raw",
   "id": "4ad30dbc-5e11-4385-818a-221b9422f1a1",
   "metadata": {},
   "source": [
    "Get the probability of passing for test A with 8.6 hours of study and test B with 4.7 hours of study."
   ]
  },
  {
   "cell_type": "code",
   "execution_count": 157,
   "id": "7b4148c1-6f68-4819-ba98-e04045b4e8d3",
   "metadata": {
    "tags": []
   },
   "outputs": [
    {
     "ename": "AttributeError",
     "evalue": "'LinearRegression' object has no attribute 'predict_proba'",
     "output_type": "error",
     "traceback": [
      "\u001b[1;31m---------------------------------------------------------------------------\u001b[0m",
      "\u001b[1;31mAttributeError\u001b[0m                            Traceback (most recent call last)",
      "Cell \u001b[1;32mIn[157], line 4\u001b[0m\n\u001b[0;32m      2\u001b[0m value_A \u001b[38;5;241m=\u001b[39m np\u001b[38;5;241m.\u001b[39masarray([\u001b[38;5;241m8.6\u001b[39m])\u001b[38;5;241m.\u001b[39mreshape(\u001b[38;5;241m-\u001b[39m\u001b[38;5;241m1\u001b[39m,\u001b[38;5;241m1\u001b[39m)\n\u001b[0;32m      3\u001b[0m \u001b[38;5;66;03m# Probability of passing test A with 8.6 hours of study\u001b[39;00m\n\u001b[1;32m----> 4\u001b[0m \u001b[38;5;28mprint\u001b[39m(\u001b[38;5;124m\"\u001b[39m\u001b[38;5;124mThe probability of passing test A with 8.6 hours of study is \u001b[39m\u001b[38;5;124m\"\u001b[39m, model_A\u001b[38;5;241m.\u001b[39mpredict_proba(value_A)[:,\u001b[38;5;241m1\u001b[39m])\n\u001b[0;32m      7\u001b[0m \u001b[38;5;66;03m# Set value in array\u001b[39;00m\n\u001b[0;32m      8\u001b[0m value_B \u001b[38;5;241m=\u001b[39m np\u001b[38;5;241m.\u001b[39masarray([\u001b[38;5;241m4.7\u001b[39m])\u001b[38;5;241m.\u001b[39mreshape(\u001b[38;5;241m-\u001b[39m\u001b[38;5;241m1\u001b[39m,\u001b[38;5;241m1\u001b[39m)\n",
      "\u001b[1;31mAttributeError\u001b[0m: 'LinearRegression' object has no attribute 'predict_proba'"
     ]
    }
   ],
   "source": [
    "# Set value in array\n",
    "value_A = np.asarray([8.6]).reshape(-1,1)\n",
    "# Probability of passing test A with 8.6 hours of study\n",
    "print(\"The probability of passing test A with 8.6 hours of study is \", model_A.predict_proba(value_A)[:,1])\n",
    "\n",
    "\n",
    "# Set value in array\n",
    "value_B = np.asarray([4.7]).reshape(-1,1)\n",
    "# Probability of passing test B with 4.7 hours of study\n",
    "print(\"The probability of passing test B with 4.7 hours of study is \", model_B.predict_proba(value_B)[:,1])"
   ]
  },
  {
   "cell_type": "raw",
   "id": "f59e0ed6-b124-46be-b05b-243918cb6502",
   "metadata": {},
   "source": [
    "Calculate the hours you need to study to have 0.5 probability of passing the test using the formula -intercept/slope."
   ]
  },
  {
   "cell_type": "code",
   "execution_count": 158,
   "id": "086161ea-4006-4cc7-a6fb-0777b01a2a45",
   "metadata": {
    "tags": []
   },
   "outputs": [
    {
     "name": "stdout",
     "output_type": "stream",
     "text": [
      "Minimum hours of study for test A are  [-35.04263779]\n",
      "Minimum hours of study for test B are  [-62.25266752]\n"
     ]
    }
   ],
   "source": [
    "# Print the hours required to have 0.5 probability on model_A\n",
    "print(\"Minimum hours of study for test A are \", -model_A.intercept_/model_A.coef_)\n",
    "\n",
    "# Print the hours required to have 0.5 probability on model_B\n",
    "print(\"Minimum hours of study for test B are \", -model_B.intercept_/model_B.coef_)"
   ]
  },
  {
   "cell_type": "raw",
   "id": "51f3e653-7a0a-4f38-8df8-775a16903587",
   "metadata": {},
   "source": [
    "Calculate the joint probability of passing test A and test B."
   ]
  },
  {
   "cell_type": "code",
   "execution_count": 159,
   "id": "d093b84d-218c-4ae3-b82c-4e88edca0a36",
   "metadata": {
    "tags": []
   },
   "outputs": [
    {
     "ename": "AttributeError",
     "evalue": "'LinearRegression' object has no attribute 'predict_proba'",
     "output_type": "error",
     "traceback": [
      "\u001b[1;31m---------------------------------------------------------------------------\u001b[0m",
      "\u001b[1;31mAttributeError\u001b[0m                            Traceback (most recent call last)",
      "Cell \u001b[1;32mIn[159], line 2\u001b[0m\n\u001b[0;32m      1\u001b[0m \u001b[38;5;66;03m# Probability calculation for each value of study_hours\u001b[39;00m\n\u001b[1;32m----> 2\u001b[0m prob_passing_A \u001b[38;5;241m=\u001b[39m model_A\u001b[38;5;241m.\u001b[39mpredict_proba(study_hours_A\u001b[38;5;241m.\u001b[39mreshape(\u001b[38;5;241m-\u001b[39m\u001b[38;5;241m1\u001b[39m,\u001b[38;5;241m1\u001b[39m))[:,\u001b[38;5;241m1\u001b[39m]\n\u001b[0;32m      3\u001b[0m prob_passing_B \u001b[38;5;241m=\u001b[39m model_B\u001b[38;5;241m.\u001b[39mpredict_proba(study_hours_B\u001b[38;5;241m.\u001b[39mreshape(\u001b[38;5;241m-\u001b[39m\u001b[38;5;241m1\u001b[39m,\u001b[38;5;241m1\u001b[39m))[:,\u001b[38;5;241m1\u001b[39m]\n\u001b[0;32m      5\u001b[0m \u001b[38;5;66;03m# Calculate the probability of passing both tests\u001b[39;00m\n",
      "\u001b[1;31mAttributeError\u001b[0m: 'LinearRegression' object has no attribute 'predict_proba'"
     ]
    }
   ],
   "source": [
    "# Probability calculation for each value of study_hours\n",
    "prob_passing_A = model_A.predict_proba(study_hours_A.reshape(-1,1))[:,1]\n",
    "prob_passing_B = model_B.predict_proba(study_hours_B.reshape(-1,1))[:,1]\n",
    "\n",
    "# Calculate the probability of passing both tests\n",
    "prob_passing_A_and_B = prob_passing_A * prob_passing_B\n",
    "\n",
    "# Maximum probability value\n",
    "max_prob = max(prob_passing_A_and_B)\n",
    "\n",
    "# Position where we get the maximum value\n",
    "max_position = np.where(prob_passing_A_and_B == max_prob)[0][0]\n",
    "\n",
    "# Study hours for each test\n",
    "print(\"Study {:1.0f} hours for the first and {:1.0f} hours for the second test and you will pass both tests with {:01.2f} probability.\".format(study_hours_A[max_position], study_hours_B[max_position], max_prob))"
   ]
  },
  {
   "cell_type": "code",
   "execution_count": null,
   "id": "30cc6ac6-4ed2-4f5a-ba2a-9a10b6b63f0e",
   "metadata": {},
   "outputs": [],
   "source": []
  }
 ],
 "metadata": {
  "kernelspec": {
   "display_name": "Python 3 (ipykernel)",
   "language": "python",
   "name": "python3"
  },
  "language_info": {
   "codemirror_mode": {
    "name": "ipython",
    "version": 3
   },
   "file_extension": ".py",
   "mimetype": "text/x-python",
   "name": "python",
   "nbconvert_exporter": "python",
   "pygments_lexer": "ipython3",
   "version": "3.11.5"
  }
 },
 "nbformat": 4,
 "nbformat_minor": 5
}
